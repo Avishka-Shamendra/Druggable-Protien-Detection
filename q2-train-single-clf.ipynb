{
 "cells": [
  {
   "cell_type": "code",
   "execution_count": 2,
   "metadata": {
    "collapsed": true
   },
   "outputs": [],
   "source": [
    "import numpy as np\n",
    "import os\n",
    "import json\n",
    "import matplotlib.pyplot as plt\n",
    "import utils.feature_extractors as utils\n",
    "import optuna\n",
    "import joblib\n",
    "\n",
    "from sklearn.pipeline import make_pipeline\n",
    "from sklearn.utils import shuffle\n",
    "from sklearn.preprocessing import StandardScaler\n",
    "from sklearn.model_selection import cross_val_predict\n",
    "from sklearn.ensemble import RandomForestClassifier\n",
    "from utils.utils import evaluate_classification\n",
    "from sklearn.svm import SVC\n",
    "from sklearn.ensemble import ExtraTreesClassifier\n"
   ]
  },
  {
   "cell_type": "code",
   "execution_count": 3,
   "metadata": {
    "collapsed": false
   },
   "outputs": [],
   "source": [
    "config_map = {\n",
    "    \"train_postive_location\":\"dataset/TR_pos_SPIDER.txt\",\n",
    "    \"train_negative_location\":\"dataset/TR_neg_SPIDER.txt\",\n",
    "    \"test_positive_location\":\"dataset/TS_pos_SPIDER.txt\",\n",
    "    \"test_negative_location\":\"dataset/TS_neg_SPIDER.txt\",\n",
    "    \"model_save_location\":\"./optimized_models\",\n",
    "    \"random_seed\":9\n",
    "}"
   ]
  },
  {
   "cell_type": "code",
   "execution_count": 4,
   "metadata": {
    "collapsed": false
   },
   "outputs": [],
   "source": [
    "class ProteinFeatureGenerator:\n",
    "    SELECTED_FEATURES = [\"AAC\", \"DPC\", \"RScharge\", \"RSDHP\", \"RSpolar\"]\n",
    "    \n",
    "    def __init__(self, positive_data_file: str, negative_data_file: str, feature_type: str = None) -> None:\n",
    "        super().__init__()\n",
    "\n",
    "        # Check feature param\n",
    "        assert feature_type in ProteinFeatureGenerator.SELECTED_FEATURES or feature_type is None\n",
    "        self.feature_type = feature_type\n",
    "\n",
    "        # Data manipulation\n",
    "        self.positive_data_file = positive_data_file\n",
    "        self.negative_data_file = negative_data_file\n",
    "\n",
    "        self.positive_data = utils.read_fasta(self.positive_data_file)\n",
    "        self.negative_data = utils.read_fasta(self.negative_data_file)\n",
    "        \n",
    "        self.data = self.positive_data + self.negative_data\n",
    "        self.targets = np.array([True]*len(self.positive_data) + [False]*len(self.negative_data))\n",
    "\n",
    "        self.raw_sequences = [x[1] for x in self.data]\n",
    "        \n",
    "        \n",
    "        # Extract features\n",
    "        print(\"Extracting AAC Feature ...\")\n",
    "        self.AAC_feature = utils.AAC(self.data)[0]\n",
    "\n",
    "        print(\"Extracting DPC Feature ...\")\n",
    "        self.DPC_feature = utils.DPC(self.data, 0)[0]\n",
    "\n",
    "        print(\"Extracting RScharge Feature ...\")\n",
    "        self.RScharge_feature = utils.reducedCHARGE(self.data)\n",
    "        \n",
    "        print(\"Extracting RSDHP Feature ...\")\n",
    "        self.RSDHP_feature = utils.reducedDHP(self.data)\n",
    "        \n",
    "        print(\"Extracting RSpolar Feature ...\")\n",
    "        self.RSpolar_feature = utils.reducedPOLAR(self.data)\n",
    "        \n",
    "    \n",
    "    def __len__(self) -> int:\n",
    "        return len(self.data)"
   ]
  },
  {
   "cell_type": "code",
   "execution_count": 5,
   "metadata": {
    "collapsed": false
   },
   "outputs": [
    {
     "name": "stdout",
     "output_type": "stream",
     "text": [
      "Extracting AAC Feature ...\n",
      "Extracting DPC Feature ...\n",
      "Extracting RScharge Feature ...\n",
      "Extracting RSDHP Feature ...\n",
      "Extracting RSpolar Feature ...\n"
     ]
    }
   ],
   "source": [
    "train_data = ProteinFeatureGenerator(positive_data_file=config_map[\"train_postive_location\"],negative_data_file=config_map[\"train_negative_location\"])"
   ]
  },
  {
   "cell_type": "code",
   "execution_count": 6,
   "metadata": {
    "collapsed": false
   },
   "outputs": [],
   "source": [
    "X_data = {\n",
    "    \"AAC\":train_data.AAC_feature,\n",
    "    \"DPC\":train_data.DPC_feature,\n",
    "    \"RScharge\":train_data.RScharge_feature,\n",
    "    \"RSDHP\":train_data.RSDHP_feature,\n",
    "    \"RSpolar\":train_data.RSpolar_feature,\n",
    "}\n",
    "\n",
    "feature_model_map = {\n",
    "    \"AAC\":\"SVC\",\n",
    "    \"DPC\":\"SVC\",\n",
    "    \"RScharge\":\"RandomForest\",\n",
    "    \"RSDHP\":\"SVC\",\n",
    "    \"RSpolar\":\"ExtraTreesClassifier\",\n",
    "}\n",
    "\n",
    "data_pipelines = {\n",
    "    \"AAC\":make_pipeline(StandardScaler()),\n",
    "    \"DPC\":make_pipeline(StandardScaler()),\n",
    "    \"RScharge\":make_pipeline(StandardScaler()),\n",
    "    \"RSDHP\":make_pipeline(StandardScaler()),\n",
    "    \"RSpolar\":make_pipeline(StandardScaler()),\n",
    "}\n"
   ]
  },
  {
   "cell_type": "code",
   "execution_count": 11,
   "metadata": {
    "collapsed": false
   },
   "outputs": [],
   "source": [
    "class ObjectiveFunctions(object):\n",
    "    SELECTED_MODELS = ['RandomForest', 'SVC', 'ExtraTreesClassifier']\n",
    "    \n",
    "    def __init__(self, model_name: str) -> None:\n",
    "        # Check model name\n",
    "        assert model_name in ObjectiveFunctions.SELECTED_MODELS, \"Invalid Model Name.\"\n",
    "        self.model_name = model_name\n",
    "    \n",
    "    @staticmethod\n",
    "    def obj_func_svc(trial: optuna.trial) -> SVC:\n",
    "        c = trial.suggest_float('C', 1e-10, 1e10, log=True)\n",
    "        kernel = 'rbf'\n",
    "        gamma = 'auto'\n",
    "        \n",
    "        classifier = SVC(\n",
    "            C=c, \n",
    "            kernel=kernel,\n",
    "            class_weight={1: 0.482, 0: 0.518},\n",
    "            gamma=gamma,\n",
    "        )\n",
    "        \n",
    "        return classifier\n",
    "    \n",
    "    @staticmethod\n",
    "    def obj_func_random_forest(trial: optuna.trial) -> RandomForestClassifier:\n",
    "        n_estimators = trial.suggest_int('n_estimators', 75, 300)\n",
    "        max_depth = trial.suggest_int('max_depth', 1, 64)\n",
    "        criterion = trial.suggest_categorical(\"criterion\", ['gini', 'entropy'])\n",
    "        \n",
    "        classifier = RandomForestClassifier(\n",
    "            n_estimators=n_estimators, \n",
    "            max_depth=max_depth,\n",
    "            criterion=criterion,\n",
    "            class_weight={1: 0.482, 0: 0.518},\n",
    "        )\n",
    "        \n",
    "        return classifier\n",
    "    \n",
    "    \n",
    "    @staticmethod\n",
    "    def obj_func_extra_tree(trial: optuna.trial) -> ExtraTreesClassifier:\n",
    "        n_estimators = trial.suggest_int('n_estimators', 75, 300)\n",
    "        max_depth = trial.suggest_int('max_depth', 1, 64)\n",
    "        criterion = trial.suggest_categorical(\"criterion\",['gini', 'entropy', 'log_loss'])\n",
    "        \n",
    "        classifier = ExtraTreesClassifier(\n",
    "            n_estimators=n_estimators, \n",
    "            max_depth=max_depth,\n",
    "            criterion=criterion,\n",
    "            class_weight={1:0.482,0:0.518},\n",
    "            )\n",
    "        \n",
    "        return classifier\n",
    "    \n",
    "    def obj_func(self, trial: optuna.trial):\n",
    "        if self.model_name == 'SVC':\n",
    "            return ObjectiveFunctions.obj_func_svc(trial)\n",
    "        elif self.model_name == 'RandomForest':\n",
    "            return ObjectiveFunctions.obj_func_random_forest(trial)\n",
    "        elif self.model_name == 'ExtraTreesClassifier':\n",
    "            return ObjectiveFunctions.obj_func_extra_tree(trial)"
   ]
  },
  {
   "cell_type": "code",
   "execution_count": 14,
   "metadata": {},
   "outputs": [
    {
     "name": "stderr",
     "output_type": "stream",
     "text": [
      "\u001b[32m[I 2023-05-11 12:20:54,247]\u001b[0m A new study created in memory with name: no-name-cdf91df4-8cbf-43e0-9bc7-963cd8e7e4f5\u001b[0m\n"
     ]
    },
    {
     "name": "stdout",
     "output_type": "stream",
     "text": [
      "dict_keys(['AAC', 'DPC', 'RScharge', 'RSDHP', 'RSpolar'])\n",
      "Feature Type: AAC | Training Model: SVC\n"
     ]
    },
    {
     "name": "stderr",
     "output_type": "stream",
     "text": [
      "\u001b[32m[I 2023-05-11 12:20:55,889]\u001b[0m Trial 0 finished with value: 0.3416213416213416 and parameters: {'C': 3.2025116153174694e-06}. Best is trial 0 with value: 0.3416213416213416.\u001b[0m\n"
     ]
    },
    {
     "name": "stdout",
     "output_type": "stream",
     "text": [
      "Overall accuracy: 0.519\n",
      "\n"
     ]
    },
    {
     "name": "stderr",
     "output_type": "stream",
     "text": [
      "\u001b[32m[I 2023-05-11 12:20:56,516]\u001b[0m Trial 1 finished with value: 0.8927256422429709 and parameters: {'C': 3.4189524993965006}. Best is trial 1 with value: 0.8927256422429709.\u001b[0m\n"
     ]
    },
    {
     "name": "stdout",
     "output_type": "stream",
     "text": [
      "Overall accuracy: 0.893\n",
      "\n"
     ]
    },
    {
     "name": "stderr",
     "output_type": "stream",
     "text": [
      "\u001b[32m[I 2023-05-11 12:20:57,534]\u001b[0m Trial 2 finished with value: 0.8272082533391615 and parameters: {'C': 1985696.4754419858}. Best is trial 1 with value: 0.8927256422429709.\u001b[0m\n"
     ]
    },
    {
     "name": "stdout",
     "output_type": "stream",
     "text": [
      "Overall accuracy: 0.827\n",
      "\n"
     ]
    },
    {
     "name": "stderr",
     "output_type": "stream",
     "text": [
      "\u001b[32m[I 2023-05-11 12:20:58,569]\u001b[0m Trial 3 finished with value: 0.8272082533391615 and parameters: {'C': 31602049.30536451}. Best is trial 1 with value: 0.8927256422429709.\u001b[0m\n"
     ]
    },
    {
     "name": "stdout",
     "output_type": "stream",
     "text": [
      "Overall accuracy: 0.827\n",
      "\n"
     ]
    },
    {
     "name": "stderr",
     "output_type": "stream",
     "text": [
      "\u001b[32m[I 2023-05-11 12:21:00,064]\u001b[0m Trial 4 finished with value: 0.3416213416213416 and parameters: {'C': 0.00244429375743975}. Best is trial 1 with value: 0.8927256422429709.\u001b[0m\n"
     ]
    },
    {
     "name": "stdout",
     "output_type": "stream",
     "text": [
      "Overall accuracy: 0.519\n",
      "\n"
     ]
    },
    {
     "name": "stderr",
     "output_type": "stream",
     "text": [
      "\u001b[32m[I 2023-05-11 12:21:01,778]\u001b[0m Trial 5 finished with value: 0.3416213416213416 and parameters: {'C': 1.0195466460340865e-09}. Best is trial 1 with value: 0.8927256422429709.\u001b[0m\n"
     ]
    },
    {
     "name": "stdout",
     "output_type": "stream",
     "text": [
      "Overall accuracy: 0.519\n",
      "\n"
     ]
    },
    {
     "name": "stderr",
     "output_type": "stream",
     "text": [
      "\u001b[32m[I 2023-05-11 12:21:03,429]\u001b[0m Trial 6 finished with value: 0.3416213416213416 and parameters: {'C': 3.0602982250459096e-06}. Best is trial 1 with value: 0.8927256422429709.\u001b[0m\n"
     ]
    },
    {
     "name": "stdout",
     "output_type": "stream",
     "text": [
      "Overall accuracy: 0.519\n",
      "\n"
     ]
    },
    {
     "name": "stderr",
     "output_type": "stream",
     "text": [
      "\u001b[32m[I 2023-05-11 12:21:04,941]\u001b[0m Trial 7 finished with value: 0.3416213416213416 and parameters: {'C': 3.3902488612032814e-06}. Best is trial 1 with value: 0.8927256422429709.\u001b[0m\n"
     ]
    },
    {
     "name": "stdout",
     "output_type": "stream",
     "text": [
      "Overall accuracy: 0.519\n",
      "\n"
     ]
    },
    {
     "name": "stderr",
     "output_type": "stream",
     "text": [
      "\u001b[32m[I 2023-05-11 12:21:06,433]\u001b[0m Trial 8 finished with value: 0.3416213416213416 and parameters: {'C': 0.001200277809608259}. Best is trial 1 with value: 0.8927256422429709.\u001b[0m\n"
     ]
    },
    {
     "name": "stdout",
     "output_type": "stream",
     "text": [
      "Overall accuracy: 0.519\n",
      "\n"
     ]
    },
    {
     "name": "stderr",
     "output_type": "stream",
     "text": [
      "\u001b[32m[I 2023-05-11 12:21:07,480]\u001b[0m Trial 9 finished with value: 0.8267981568578626 and parameters: {'C': 2671.8896870899353}. Best is trial 1 with value: 0.8927256422429709.\u001b[0m\n"
     ]
    },
    {
     "name": "stdout",
     "output_type": "stream",
     "text": [
      "Overall accuracy: 0.827\n",
      "\n"
     ]
    },
    {
     "name": "stderr",
     "output_type": "stream",
     "text": [
      "\u001b[32m[I 2023-05-11 12:21:08,270]\u001b[0m Trial 10 finished with value: 0.8711495848417842 and parameters: {'C': 55.09214777161397}. Best is trial 1 with value: 0.8927256422429709.\u001b[0m\n"
     ]
    },
    {
     "name": "stdout",
     "output_type": "stream",
     "text": [
      "Overall accuracy: 0.871\n",
      "\n"
     ]
    },
    {
     "name": "stderr",
     "output_type": "stream",
     "text": [
      "\u001b[32m[I 2023-05-11 12:21:09,245]\u001b[0m Trial 11 finished with value: 0.8472417285931562 and parameters: {'C': 257.6533521166928}. Best is trial 1 with value: 0.8927256422429709.\u001b[0m\n"
     ]
    },
    {
     "name": "stdout",
     "output_type": "stream",
     "text": [
      "Overall accuracy: 0.847\n",
      "\n"
     ]
    },
    {
     "name": "stderr",
     "output_type": "stream",
     "text": [
      "\u001b[32m[I 2023-05-11 12:21:10,083]\u001b[0m Trial 12 finished with value: 0.8680296847586737 and parameters: {'C': 68.93718955858076}. Best is trial 1 with value: 0.8927256422429709.\u001b[0m\n"
     ]
    },
    {
     "name": "stdout",
     "output_type": "stream",
     "text": [
      "Overall accuracy: 0.868\n",
      "\n"
     ]
    },
    {
     "name": "stderr",
     "output_type": "stream",
     "text": [
      "\u001b[32m[I 2023-05-11 12:21:10,780]\u001b[0m Trial 13 finished with value: 0.8839169885033475 and parameters: {'C': 0.6611057135273863}. Best is trial 1 with value: 0.8927256422429709.\u001b[0m\n"
     ]
    },
    {
     "name": "stdout",
     "output_type": "stream",
     "text": [
      "Overall accuracy: 0.884\n",
      "\n"
     ]
    },
    {
     "name": "stderr",
     "output_type": "stream",
     "text": [
      "\u001b[32m[I 2023-05-11 12:21:11,846]\u001b[0m Trial 14 finished with value: 0.8272082533391615 and parameters: {'C': 2548805801.8123436}. Best is trial 1 with value: 0.8927256422429709.\u001b[0m\n"
     ]
    },
    {
     "name": "stdout",
     "output_type": "stream",
     "text": [
      "Overall accuracy: 0.827\n",
      "\n"
     ]
    },
    {
     "name": "stderr",
     "output_type": "stream",
     "text": [
      "\u001b[32m[I 2023-05-11 12:21:12,656]\u001b[0m Trial 15 finished with value: 0.8771250607138 and parameters: {'C': 0.2883539497291121}. Best is trial 1 with value: 0.8927256422429709.\u001b[0m\n"
     ]
    },
    {
     "name": "stdout",
     "output_type": "stream",
     "text": [
      "Overall accuracy: 0.878\n",
      "\n"
     ]
    },
    {
     "name": "stderr",
     "output_type": "stream",
     "text": [
      "\u001b[32m[I 2023-05-11 12:21:13,686]\u001b[0m Trial 16 finished with value: 0.8272082533391615 and parameters: {'C': 24878.239052389083}. Best is trial 1 with value: 0.8927256422429709.\u001b[0m\n"
     ]
    },
    {
     "name": "stdout",
     "output_type": "stream",
     "text": [
      "Overall accuracy: 0.827\n",
      "\n"
     ]
    },
    {
     "name": "stderr",
     "output_type": "stream",
     "text": [
      "\u001b[32m[I 2023-05-11 12:21:14,349]\u001b[0m Trial 17 finished with value: 0.8950663955226474 and parameters: {'C': 2.0571409447647877}. Best is trial 17 with value: 0.8950663955226474.\u001b[0m\n"
     ]
    },
    {
     "name": "stdout",
     "output_type": "stream",
     "text": [
      "Overall accuracy: 0.895\n",
      "\n"
     ]
    },
    {
     "name": "stderr",
     "output_type": "stream",
     "text": [
      "\u001b[32m[I 2023-05-11 12:21:15,439]\u001b[0m Trial 18 finished with value: 0.8272082533391615 and parameters: {'C': 149725.71463034107}. Best is trial 17 with value: 0.8950663955226474.\u001b[0m\n"
     ]
    },
    {
     "name": "stdout",
     "output_type": "stream",
     "text": [
      "Overall accuracy: 0.827\n",
      "\n"
     ]
    },
    {
     "name": "stderr",
     "output_type": "stream",
     "text": [
      "\u001b[32m[I 2023-05-11 12:21:16,069]\u001b[0m Trial 19 finished with value: 0.8939213070025328 and parameters: {'C': 4.450137984129261}. Best is trial 17 with value: 0.8950663955226474.\u001b[0m\n"
     ]
    },
    {
     "name": "stdout",
     "output_type": "stream",
     "text": [
      "Overall accuracy: 0.894\n",
      "\n"
     ]
    },
    {
     "name": "stderr",
     "output_type": "stream",
     "text": [
      "\u001b[32m[I 2023-05-11 12:21:17,134]\u001b[0m Trial 20 finished with value: 0.8272082533391615 and parameters: {'C': 8421.547044252235}. Best is trial 17 with value: 0.8950663955226474.\u001b[0m\n"
     ]
    },
    {
     "name": "stdout",
     "output_type": "stream",
     "text": [
      "Overall accuracy: 0.827\n",
      "\n"
     ]
    },
    {
     "name": "stderr",
     "output_type": "stream",
     "text": [
      "\u001b[32m[I 2023-05-11 12:21:17,783]\u001b[0m Trial 21 finished with value: 0.8935310750764613 and parameters: {'C': 4.1530445495235675}. Best is trial 17 with value: 0.8950663955226474.\u001b[0m\n"
     ]
    },
    {
     "name": "stdout",
     "output_type": "stream",
     "text": [
      "Overall accuracy: 0.894\n",
      "\n"
     ]
    },
    {
     "name": "stderr",
     "output_type": "stream",
     "text": [
      "\u001b[32m[I 2023-05-11 12:21:18,948]\u001b[0m Trial 22 finished with value: 0.8452163504850918 and parameters: {'C': 0.04265669771183452}. Best is trial 17 with value: 0.8950663955226474.\u001b[0m\n"
     ]
    },
    {
     "name": "stdout",
     "output_type": "stream",
     "text": [
      "Overall accuracy: 0.846\n",
      "\n"
     ]
    },
    {
     "name": "stderr",
     "output_type": "stream",
     "text": [
      "\u001b[32m[I 2023-05-11 12:21:19,587]\u001b[0m Trial 23 finished with value: 0.8809125358262642 and parameters: {'C': 18.710817638432307}. Best is trial 17 with value: 0.8950663955226474.\u001b[0m\n"
     ]
    },
    {
     "name": "stdout",
     "output_type": "stream",
     "text": [
      "Overall accuracy: 0.881\n",
      "\n"
     ]
    },
    {
     "name": "stderr",
     "output_type": "stream",
     "text": [
      "\u001b[32m[I 2023-05-11 12:21:20,579]\u001b[0m Trial 24 finished with value: 0.8424796747967479 and parameters: {'C': 344.9857492099044}. Best is trial 17 with value: 0.8950663955226474.\u001b[0m\n"
     ]
    },
    {
     "name": "stdout",
     "output_type": "stream",
     "text": [
      "Overall accuracy: 0.843\n",
      "\n"
     ]
    },
    {
     "name": "stderr",
     "output_type": "stream",
     "text": [
      "\u001b[32m[I 2023-05-11 12:21:21,226]\u001b[0m Trial 25 finished with value: 0.8938960243167811 and parameters: {'C': 3.271073903786611}. Best is trial 17 with value: 0.8950663955226474.\u001b[0m\n"
     ]
    },
    {
     "name": "stdout",
     "output_type": "stream",
     "text": [
      "Overall accuracy: 0.894\n",
      "\n"
     ]
    },
    {
     "name": "stderr",
     "output_type": "stream",
     "text": [
      "\u001b[32m[I 2023-05-11 12:21:22,532]\u001b[0m Trial 26 finished with value: 0.8432073528523019 and parameters: {'C': 0.039324148176442066}. Best is trial 17 with value: 0.8950663955226474.\u001b[0m\n"
     ]
    },
    {
     "name": "stdout",
     "output_type": "stream",
     "text": [
      "Overall accuracy: 0.844\n",
      "\n"
     ]
    },
    {
     "name": "stderr",
     "output_type": "stream",
     "text": [
      "\u001b[32m[I 2023-05-11 12:21:23,696]\u001b[0m Trial 27 finished with value: 0.8272082533391615 and parameters: {'C': 5991.763476583674}. Best is trial 17 with value: 0.8950663955226474.\u001b[0m\n"
     ]
    },
    {
     "name": "stdout",
     "output_type": "stream",
     "text": [
      "Overall accuracy: 0.827\n",
      "\n"
     ]
    },
    {
     "name": "stderr",
     "output_type": "stream",
     "text": [
      "\u001b[32m[I 2023-05-11 12:21:24,757]\u001b[0m Trial 28 finished with value: 0.8365927877648669 and parameters: {'C': 497.9170092710712}. Best is trial 17 with value: 0.8950663955226474.\u001b[0m\n"
     ]
    },
    {
     "name": "stdout",
     "output_type": "stream",
     "text": [
      "Overall accuracy: 0.837\n",
      "\n"
     ]
    },
    {
     "name": "stderr",
     "output_type": "stream",
     "text": [
      "\u001b[32m[I 2023-05-11 12:21:25,411]\u001b[0m Trial 29 finished with value: 0.8884175158438888 and parameters: {'C': 6.501390214351124}. Best is trial 17 with value: 0.8950663955226474.\u001b[0m\n"
     ]
    },
    {
     "name": "stdout",
     "output_type": "stream",
     "text": [
      "Overall accuracy: 0.889\n",
      "\n"
     ]
    },
    {
     "name": "stderr",
     "output_type": "stream",
     "text": [
      "\u001b[32m[I 2023-05-11 12:21:26,165]\u001b[0m Trial 30 finished with value: 0.8811123888510022 and parameters: {'C': 0.4555859677970305}. Best is trial 17 with value: 0.8950663955226474.\u001b[0m\n"
     ]
    },
    {
     "name": "stdout",
     "output_type": "stream",
     "text": [
      "Overall accuracy: 0.882\n",
      "\n"
     ]
    },
    {
     "name": "stderr",
     "output_type": "stream",
     "text": [
      "\u001b[32m[I 2023-05-11 12:21:26,835]\u001b[0m Trial 31 finished with value: 0.884457036995324 and parameters: {'C': 13.042255149140072}. Best is trial 17 with value: 0.8950663955226474.\u001b[0m\n"
     ]
    },
    {
     "name": "stdout",
     "output_type": "stream",
     "text": [
      "Overall accuracy: 0.885\n",
      "\n"
     ]
    },
    {
     "name": "stderr",
     "output_type": "stream",
     "text": [
      "\u001b[32m[I 2023-05-11 12:21:27,605]\u001b[0m Trial 32 finished with value: 0.8931157714135167 and parameters: {'C': 3.1789272385333236}. Best is trial 17 with value: 0.8950663955226474.\u001b[0m\n"
     ]
    },
    {
     "name": "stdout",
     "output_type": "stream",
     "text": [
      "Overall accuracy: 0.893\n",
      "\n"
     ]
    },
    {
     "name": "stderr",
     "output_type": "stream",
     "text": [
      "\u001b[32m[I 2023-05-11 12:21:28,638]\u001b[0m Trial 33 finished with value: 0.8468303480494777 and parameters: {'C': 267.6108441656177}. Best is trial 17 with value: 0.8950663955226474.\u001b[0m\n"
     ]
    },
    {
     "name": "stdout",
     "output_type": "stream",
     "text": [
      "Overall accuracy: 0.847\n",
      "\n"
     ]
    },
    {
     "name": "stderr",
     "output_type": "stream",
     "text": [
      "\u001b[32m[I 2023-05-11 12:21:29,720]\u001b[0m Trial 34 finished with value: 0.8272082533391615 and parameters: {'C': 173411.79243429675}. Best is trial 17 with value: 0.8950663955226474.\u001b[0m\n"
     ]
    },
    {
     "name": "stdout",
     "output_type": "stream",
     "text": [
      "Overall accuracy: 0.827\n",
      "\n"
     ]
    },
    {
     "name": "stderr",
     "output_type": "stream",
     "text": [
      "\u001b[32m[I 2023-05-11 12:21:30,448]\u001b[0m Trial 35 finished with value: 0.8935058986504603 and parameters: {'C': 3.267987550020802}. Best is trial 17 with value: 0.8950663955226474.\u001b[0m\n"
     ]
    },
    {
     "name": "stdout",
     "output_type": "stream",
     "text": [
      "Overall accuracy: 0.894\n",
      "\n"
     ]
    },
    {
     "name": "stderr",
     "output_type": "stream",
     "text": [
      "\u001b[32m[I 2023-05-11 12:21:31,899]\u001b[0m Trial 36 finished with value: 0.8409366576977135 and parameters: {'C': 0.02732999798269003}. Best is trial 17 with value: 0.8950663955226474.\u001b[0m\n"
     ]
    },
    {
     "name": "stdout",
     "output_type": "stream",
     "text": [
      "Overall accuracy: 0.842\n",
      "\n"
     ]
    },
    {
     "name": "stderr",
     "output_type": "stream",
     "text": [
      "\u001b[32m[I 2023-05-11 12:21:32,701]\u001b[0m Trial 37 finished with value: 0.8797341558813242 and parameters: {'C': 21.459822918051877}. Best is trial 17 with value: 0.8950663955226474.\u001b[0m\n"
     ]
    },
    {
     "name": "stdout",
     "output_type": "stream",
     "text": [
      "Overall accuracy: 0.880\n",
      "\n"
     ]
    },
    {
     "name": "stderr",
     "output_type": "stream",
     "text": [
      "\u001b[32m[I 2023-05-11 12:21:34,352]\u001b[0m Trial 38 finished with value: 0.3416213416213416 and parameters: {'C': 0.0016291135046125286}. Best is trial 17 with value: 0.8950663955226474.\u001b[0m\n"
     ]
    },
    {
     "name": "stdout",
     "output_type": "stream",
     "text": [
      "Overall accuracy: 0.519\n",
      "\n"
     ]
    },
    {
     "name": "stderr",
     "output_type": "stream",
     "text": [
      "\u001b[32m[I 2023-05-11 12:21:35,171]\u001b[0m Trial 39 finished with value: 0.8815132740557885 and parameters: {'C': 0.42545570497145474}. Best is trial 17 with value: 0.8950663955226474.\u001b[0m\n"
     ]
    },
    {
     "name": "stdout",
     "output_type": "stream",
     "text": [
      "Overall accuracy: 0.882\n",
      "\n"
     ]
    },
    {
     "name": "stderr",
     "output_type": "stream",
     "text": [
      "\u001b[32m[I 2023-05-11 12:21:36,908]\u001b[0m Trial 40 finished with value: 0.3416213416213416 and parameters: {'C': 0.0004067654537033269}. Best is trial 17 with value: 0.8950663955226474.\u001b[0m\n"
     ]
    },
    {
     "name": "stdout",
     "output_type": "stream",
     "text": [
      "Overall accuracy: 0.519\n",
      "\n"
     ]
    },
    {
     "name": "stderr",
     "output_type": "stream",
     "text": [
      "\u001b[32m[I 2023-05-11 12:21:37,582]\u001b[0m Trial 41 finished with value: 0.8919537576701867 and parameters: {'C': 3.7710640549241883}. Best is trial 17 with value: 0.8950663955226474.\u001b[0m\n"
     ]
    },
    {
     "name": "stdout",
     "output_type": "stream",
     "text": [
      "Overall accuracy: 0.892\n",
      "\n"
     ]
    },
    {
     "name": "stderr",
     "output_type": "stream",
     "text": [
      "\u001b[32m[I 2023-05-11 12:21:38,372]\u001b[0m Trial 42 finished with value: 0.8946495917775291 and parameters: {'C': 1.3099437914535752}. Best is trial 17 with value: 0.8950663955226474.\u001b[0m\n"
     ]
    },
    {
     "name": "stdout",
     "output_type": "stream",
     "text": [
      "Overall accuracy: 0.895\n",
      "\n"
     ]
    },
    {
     "name": "stderr",
     "output_type": "stream",
     "text": [
      "\u001b[32m[I 2023-05-11 12:21:39,513]\u001b[0m Trial 43 finished with value: 0.854048868837422 and parameters: {'C': 0.07679763969972811}. Best is trial 17 with value: 0.8950663955226474.\u001b[0m\n"
     ]
    },
    {
     "name": "stdout",
     "output_type": "stream",
     "text": [
      "Overall accuracy: 0.855\n",
      "\n"
     ]
    },
    {
     "name": "stderr",
     "output_type": "stream",
     "text": [
      "\u001b[32m[I 2023-05-11 12:21:41,103]\u001b[0m Trial 44 finished with value: 0.3416213416213416 and parameters: {'C': 0.006492020666981354}. Best is trial 17 with value: 0.8950663955226474.\u001b[0m\n"
     ]
    },
    {
     "name": "stdout",
     "output_type": "stream",
     "text": [
      "Overall accuracy: 0.519\n",
      "\n"
     ]
    },
    {
     "name": "stderr",
     "output_type": "stream",
     "text": [
      "\u001b[32m[I 2023-05-11 12:21:42,095]\u001b[0m Trial 45 finished with value: 0.8652838082841336 and parameters: {'C': 75.09948176675644}. Best is trial 17 with value: 0.8950663955226474.\u001b[0m\n"
     ]
    },
    {
     "name": "stdout",
     "output_type": "stream",
     "text": [
      "Overall accuracy: 0.865\n",
      "\n"
     ]
    },
    {
     "name": "stderr",
     "output_type": "stream",
     "text": [
      "\u001b[32m[I 2023-05-11 12:21:42,792]\u001b[0m Trial 46 finished with value: 0.8950663955226474 and parameters: {'C': 1.5068654122913547}. Best is trial 17 with value: 0.8950663955226474.\u001b[0m\n"
     ]
    },
    {
     "name": "stdout",
     "output_type": "stream",
     "text": [
      "Overall accuracy: 0.895\n",
      "\n"
     ]
    },
    {
     "name": "stderr",
     "output_type": "stream",
     "text": [
      "\u001b[32m[I 2023-05-11 12:21:43,537]\u001b[0m Trial 47 finished with value: 0.8882655585161117 and parameters: {'C': 0.7378906451354377}. Best is trial 17 with value: 0.8950663955226474.\u001b[0m\n"
     ]
    },
    {
     "name": "stdout",
     "output_type": "stream",
     "text": [
      "Overall accuracy: 0.889\n",
      "\n"
     ]
    },
    {
     "name": "stderr",
     "output_type": "stream",
     "text": [
      "\u001b[32m[I 2023-05-11 12:21:45,070]\u001b[0m Trial 48 finished with value: 0.3416213416213416 and parameters: {'C': 0.00020110110062189441}. Best is trial 17 with value: 0.8950663955226474.\u001b[0m\n"
     ]
    },
    {
     "name": "stdout",
     "output_type": "stream",
     "text": [
      "Overall accuracy: 0.519\n",
      "\n"
     ]
    },
    {
     "name": "stderr",
     "output_type": "stream",
     "text": [
      "\u001b[32m[I 2023-05-11 12:21:46,153]\u001b[0m Trial 49 finished with value: 0.8338701034823467 and parameters: {'C': 1672.5347109899626}. Best is trial 17 with value: 0.8950663955226474.\u001b[0m\n"
     ]
    },
    {
     "name": "stdout",
     "output_type": "stream",
     "text": [
      "Overall accuracy: 0.834\n",
      "\n"
     ]
    },
    {
     "name": "stderr",
     "output_type": "stream",
     "text": [
      "\u001b[32m[I 2023-05-11 12:21:47,066]\u001b[0m Trial 50 finished with value: 0.871563631404057 and parameters: {'C': 57.70263282101838}. Best is trial 17 with value: 0.8950663955226474.\u001b[0m\n"
     ]
    },
    {
     "name": "stdout",
     "output_type": "stream",
     "text": [
      "Overall accuracy: 0.872\n",
      "\n"
     ]
    },
    {
     "name": "stderr",
     "output_type": "stream",
     "text": [
      "\u001b[32m[I 2023-05-11 12:21:47,770]\u001b[0m Trial 51 finished with value: 0.8950663955226474 and parameters: {'C': 2.051108372395224}. Best is trial 17 with value: 0.8950663955226474.\u001b[0m\n"
     ]
    },
    {
     "name": "stdout",
     "output_type": "stream",
     "text": [
      "Overall accuracy: 0.895\n",
      "\n"
     ]
    },
    {
     "name": "stderr",
     "output_type": "stream",
     "text": [
      "\u001b[32m[I 2023-05-11 12:21:48,540]\u001b[0m Trial 52 finished with value: 0.8930713085082786 and parameters: {'C': 1.0795819672253546}. Best is trial 17 with value: 0.8950663955226474.\u001b[0m\n"
     ]
    },
    {
     "name": "stdout",
     "output_type": "stream",
     "text": [
      "Overall accuracy: 0.893\n",
      "\n"
     ]
    },
    {
     "name": "stderr",
     "output_type": "stream",
     "text": [
      "\u001b[32m[I 2023-05-11 12:21:49,727]\u001b[0m Trial 53 finished with value: 0.8588277570576867 and parameters: {'C': 0.09649765855427855}. Best is trial 17 with value: 0.8950663955226474.\u001b[0m\n"
     ]
    },
    {
     "name": "stdout",
     "output_type": "stream",
     "text": [
      "Overall accuracy: 0.860\n",
      "\n"
     ]
    },
    {
     "name": "stderr",
     "output_type": "stream",
     "text": [
      "\u001b[32m[I 2023-05-11 12:21:51,333]\u001b[0m Trial 54 finished with value: 0.8116458336076926 and parameters: {'C': 0.015010567085678706}. Best is trial 17 with value: 0.8950663955226474.\u001b[0m\n"
     ]
    },
    {
     "name": "stdout",
     "output_type": "stream",
     "text": [
      "Overall accuracy: 0.816\n",
      "\n"
     ]
    },
    {
     "name": "stderr",
     "output_type": "stream",
     "text": [
      "\u001b[32m[I 2023-05-11 12:21:52,219]\u001b[0m Trial 55 finished with value: 0.8803224379463577 and parameters: {'C': 0.35669215491414397}. Best is trial 17 with value: 0.8950663955226474.\u001b[0m\n"
     ]
    },
    {
     "name": "stdout",
     "output_type": "stream",
     "text": [
      "Overall accuracy: 0.881\n",
      "\n"
     ]
    },
    {
     "name": "stderr",
     "output_type": "stream",
     "text": [
      "\u001b[32m[I 2023-05-11 12:21:53,149]\u001b[0m Trial 56 finished with value: 0.8629203663242062 and parameters: {'C': 80.05050610362959}. Best is trial 17 with value: 0.8950663955226474.\u001b[0m\n"
     ]
    },
    {
     "name": "stdout",
     "output_type": "stream",
     "text": [
      "Overall accuracy: 0.863\n",
      "\n"
     ]
    },
    {
     "name": "stderr",
     "output_type": "stream",
     "text": [
      "\u001b[32m[I 2023-05-11 12:21:54,216]\u001b[0m Trial 57 finished with value: 0.8676289245030819 and parameters: {'C': 0.13850757824030563}. Best is trial 17 with value: 0.8950663955226474.\u001b[0m\n"
     ]
    },
    {
     "name": "stdout",
     "output_type": "stream",
     "text": [
      "Overall accuracy: 0.868\n",
      "\n"
     ]
    },
    {
     "name": "stderr",
     "output_type": "stream",
     "text": [
      "\u001b[32m[I 2023-05-11 12:21:55,830]\u001b[0m Trial 58 finished with value: 0.3416213416213416 and parameters: {'C': 0.005266964395652146}. Best is trial 17 with value: 0.8950663955226474.\u001b[0m\n"
     ]
    },
    {
     "name": "stdout",
     "output_type": "stream",
     "text": [
      "Overall accuracy: 0.519\n",
      "\n"
     ]
    },
    {
     "name": "stderr",
     "output_type": "stream",
     "text": [
      "\u001b[32m[I 2023-05-11 12:21:56,654]\u001b[0m Trial 59 finished with value: 0.8954565185374062 and parameters: {'C': 1.4367412465311626}. Best is trial 59 with value: 0.8954565185374062.\u001b[0m\n"
     ]
    },
    {
     "name": "stdout",
     "output_type": "stream",
     "text": [
      "Overall accuracy: 0.896\n",
      "\n"
     ]
    },
    {
     "name": "stderr",
     "output_type": "stream",
     "text": [
      "\u001b[32m[I 2023-05-11 12:21:57,691]\u001b[0m Trial 60 finished with value: 0.8805227843673482 and parameters: {'C': 19.060240678281918}. Best is trial 59 with value: 0.8954565185374062.\u001b[0m\n"
     ]
    },
    {
     "name": "stdout",
     "output_type": "stream",
     "text": [
      "Overall accuracy: 0.881\n",
      "\n"
     ]
    },
    {
     "name": "stderr",
     "output_type": "stream",
     "text": [
      "\u001b[32m[I 2023-05-11 12:21:58,652]\u001b[0m Trial 61 finished with value: 0.8950576012048543 and parameters: {'C': 1.404799971058434}. Best is trial 59 with value: 0.8954565185374062.\u001b[0m\n"
     ]
    },
    {
     "name": "stdout",
     "output_type": "stream",
     "text": [
      "Overall accuracy: 0.895\n",
      "\n"
     ]
    },
    {
     "name": "stderr",
     "output_type": "stream",
     "text": [
      "\u001b[32m[I 2023-05-11 12:21:59,518]\u001b[0m Trial 62 finished with value: 0.8898856171628753 and parameters: {'C': 0.838827880110857}. Best is trial 59 with value: 0.8954565185374062.\u001b[0m\n"
     ]
    },
    {
     "name": "stdout",
     "output_type": "stream",
     "text": [
      "Overall accuracy: 0.890\n",
      "\n"
     ]
    },
    {
     "name": "stderr",
     "output_type": "stream",
     "text": [
      "\u001b[32m[I 2023-05-11 12:22:00,610]\u001b[0m Trial 63 finished with value: 0.8712184927491908 and parameters: {'C': 0.17140615008509372}. Best is trial 59 with value: 0.8954565185374062.\u001b[0m\n"
     ]
    },
    {
     "name": "stdout",
     "output_type": "stream",
     "text": [
      "Overall accuracy: 0.872\n",
      "\n"
     ]
    },
    {
     "name": "stderr",
     "output_type": "stream",
     "text": [
      "\u001b[32m[I 2023-05-11 12:22:01,356]\u001b[0m Trial 64 finished with value: 0.8958466417972992 and parameters: {'C': 1.4112052220617344}. Best is trial 64 with value: 0.8958466417972992.\u001b[0m\n"
     ]
    },
    {
     "name": "stdout",
     "output_type": "stream",
     "text": [
      "Overall accuracy: 0.896\n",
      "\n"
     ]
    },
    {
     "name": "stderr",
     "output_type": "stream",
     "text": [
      "\u001b[32m[I 2023-05-11 12:22:02,067]\u001b[0m Trial 65 finished with value: 0.8950663955226474 and parameters: {'C': 1.721144993660997}. Best is trial 64 with value: 0.8958466417972992.\u001b[0m\n"
     ]
    },
    {
     "name": "stdout",
     "output_type": "stream",
     "text": [
      "Overall accuracy: 0.895\n",
      "\n"
     ]
    },
    {
     "name": "stderr",
     "output_type": "stream",
     "text": [
      "\u001b[32m[I 2023-05-11 12:22:02,949]\u001b[0m Trial 66 finished with value: 0.8856444880450882 and parameters: {'C': 8.858613962609299}. Best is trial 64 with value: 0.8958466417972992.\u001b[0m\n"
     ]
    },
    {
     "name": "stdout",
     "output_type": "stream",
     "text": [
      "Overall accuracy: 0.886\n",
      "\n"
     ]
    },
    {
     "name": "stderr",
     "output_type": "stream",
     "text": [
      "\u001b[32m[I 2023-05-11 12:22:04,628]\u001b[0m Trial 67 finished with value: 0.8331880267364138 and parameters: {'C': 0.023574699091767775}. Best is trial 64 with value: 0.8958466417972992.\u001b[0m\n"
     ]
    },
    {
     "name": "stdout",
     "output_type": "stream",
     "text": [
      "Overall accuracy: 0.835\n",
      "\n"
     ]
    },
    {
     "name": "stderr",
     "output_type": "stream",
     "text": [
      "\u001b[32m[I 2023-05-11 12:22:05,524]\u001b[0m Trial 68 finished with value: 0.8777672300399573 and parameters: {'C': 23.124015081364956}. Best is trial 64 with value: 0.8958466417972992.\u001b[0m\n"
     ]
    },
    {
     "name": "stdout",
     "output_type": "stream",
     "text": [
      "Overall accuracy: 0.878\n",
      "\n"
     ]
    },
    {
     "name": "stderr",
     "output_type": "stream",
     "text": [
      "\u001b[32m[I 2023-05-11 12:22:07,460]\u001b[0m Trial 69 finished with value: 0.853513450209779 and parameters: {'C': 171.71602767269653}. Best is trial 64 with value: 0.8958466417972992.\u001b[0m\n"
     ]
    },
    {
     "name": "stdout",
     "output_type": "stream",
     "text": [
      "Overall accuracy: 0.854\n",
      "\n"
     ]
    },
    {
     "name": "stderr",
     "output_type": "stream",
     "text": [
      "\u001b[32m[I 2023-05-11 12:22:09,023]\u001b[0m Trial 70 finished with value: 0.8680715777435234 and parameters: {'C': 0.14982490145201244}. Best is trial 64 with value: 0.8958466417972992.\u001b[0m\n"
     ]
    },
    {
     "name": "stdout",
     "output_type": "stream",
     "text": [
      "Overall accuracy: 0.869\n",
      "\n"
     ]
    },
    {
     "name": "stderr",
     "output_type": "stream",
     "text": [
      "\u001b[32m[I 2023-05-11 12:22:09,803]\u001b[0m Trial 71 finished with value: 0.8950663955226474 and parameters: {'C': 1.691179287704062}. Best is trial 64 with value: 0.8958466417972992.\u001b[0m\n"
     ]
    },
    {
     "name": "stdout",
     "output_type": "stream",
     "text": [
      "Overall accuracy: 0.895\n",
      "\n"
     ]
    },
    {
     "name": "stderr",
     "output_type": "stream",
     "text": [
      "\u001b[32m[I 2023-05-11 12:22:10,541]\u001b[0m Trial 72 finished with value: 0.8950750581130107 and parameters: {'C': 1.9904881635362988}. Best is trial 64 with value: 0.8958466417972992.\u001b[0m\n"
     ]
    },
    {
     "name": "stdout",
     "output_type": "stream",
     "text": [
      "Overall accuracy: 0.895\n",
      "\n"
     ]
    },
    {
     "name": "stderr",
     "output_type": "stream",
     "text": [
      "\u001b[32m[I 2023-05-11 12:22:11,679]\u001b[0m Trial 73 finished with value: 0.8362105284026982 and parameters: {'C': 806.4225009201394}. Best is trial 64 with value: 0.8958466417972992.\u001b[0m\n"
     ]
    },
    {
     "name": "stdout",
     "output_type": "stream",
     "text": [
      "Overall accuracy: 0.836\n",
      "\n"
     ]
    },
    {
     "name": "stderr",
     "output_type": "stream",
     "text": [
      "\u001b[32m[I 2023-05-11 12:22:12,404]\u001b[0m Trial 74 finished with value: 0.8864243375001241 and parameters: {'C': 8.05236756888265}. Best is trial 64 with value: 0.8958466417972992.\u001b[0m\n"
     ]
    },
    {
     "name": "stdout",
     "output_type": "stream",
     "text": [
      "Overall accuracy: 0.887\n",
      "\n"
     ]
    },
    {
     "name": "stderr",
     "output_type": "stream",
     "text": [
      "\u001b[32m[I 2023-05-11 12:22:13,137]\u001b[0m Trial 75 finished with value: 0.8950663955226474 and parameters: {'C': 1.5027621918033993}. Best is trial 64 with value: 0.8958466417972992.\u001b[0m\n"
     ]
    },
    {
     "name": "stdout",
     "output_type": "stream",
     "text": [
      "Overall accuracy: 0.895\n",
      "\n"
     ]
    },
    {
     "name": "stderr",
     "output_type": "stream",
     "text": [
      "\u001b[32m[I 2023-05-11 12:22:14,013]\u001b[0m Trial 76 finished with value: 0.8734533950054861 and parameters: {'C': 38.65423414279463}. Best is trial 64 with value: 0.8958466417972992.\u001b[0m\n"
     ]
    },
    {
     "name": "stdout",
     "output_type": "stream",
     "text": [
      "Overall accuracy: 0.874\n",
      "\n"
     ]
    },
    {
     "name": "stderr",
     "output_type": "stream",
     "text": [
      "\u001b[32m[I 2023-05-11 12:22:15,179]\u001b[0m Trial 77 finished with value: 0.8488026929418084 and parameters: {'C': 234.5325832811308}. Best is trial 64 with value: 0.8958466417972992.\u001b[0m\n"
     ]
    },
    {
     "name": "stdout",
     "output_type": "stream",
     "text": [
      "Overall accuracy: 0.849\n",
      "\n"
     ]
    },
    {
     "name": "stderr",
     "output_type": "stream",
     "text": [
      "\u001b[32m[I 2023-05-11 12:22:16,089]\u001b[0m Trial 78 finished with value: 0.8779152532494026 and parameters: {'C': 0.2982721222580075}. Best is trial 64 with value: 0.8958466417972992.\u001b[0m\n"
     ]
    },
    {
     "name": "stdout",
     "output_type": "stream",
     "text": [
      "Overall accuracy: 0.878\n",
      "\n"
     ]
    },
    {
     "name": "stderr",
     "output_type": "stream",
     "text": [
      "\u001b[32m[I 2023-05-11 12:22:16,768]\u001b[0m Trial 79 finished with value: 0.8856444880450882 and parameters: {'C': 8.461277735149775}. Best is trial 64 with value: 0.8958466417972992.\u001b[0m\n"
     ]
    },
    {
     "name": "stdout",
     "output_type": "stream",
     "text": [
      "Overall accuracy: 0.886\n",
      "\n"
     ]
    },
    {
     "name": "stderr",
     "output_type": "stream",
     "text": [
      "\u001b[32m[I 2023-05-11 12:22:17,923]\u001b[0m Trial 80 finished with value: 0.8532232743678372 and parameters: {'C': 0.07063835518465549}. Best is trial 64 with value: 0.8958466417972992.\u001b[0m\n"
     ]
    },
    {
     "name": "stdout",
     "output_type": "stream",
     "text": [
      "Overall accuracy: 0.854\n",
      "\n"
     ]
    },
    {
     "name": "stderr",
     "output_type": "stream",
     "text": [
      "\u001b[32m[I 2023-05-11 12:22:18,550]\u001b[0m Trial 81 finished with value: 0.8946762723897533 and parameters: {'C': 2.122699793558352}. Best is trial 64 with value: 0.8958466417972992.\u001b[0m\n"
     ]
    },
    {
     "name": "stdout",
     "output_type": "stream",
     "text": [
      "Overall accuracy: 0.895\n",
      "\n"
     ]
    },
    {
     "name": "stderr",
     "output_type": "stream",
     "text": [
      "\u001b[32m[I 2023-05-11 12:22:19,233]\u001b[0m Trial 82 finished with value: 0.8946762723897533 and parameters: {'C': 1.5254067347612354}. Best is trial 64 with value: 0.8958466417972992.\u001b[0m\n"
     ]
    },
    {
     "name": "stdout",
     "output_type": "stream",
     "text": [
      "Overall accuracy: 0.895\n",
      "\n"
     ]
    },
    {
     "name": "stderr",
     "output_type": "stream",
     "text": [
      "\u001b[32m[I 2023-05-11 12:22:20,008]\u001b[0m Trial 83 finished with value: 0.8783040130317057 and parameters: {'C': 0.3023171594236459}. Best is trial 64 with value: 0.8958466417972992.\u001b[0m\n"
     ]
    },
    {
     "name": "stdout",
     "output_type": "stream",
     "text": [
      "Overall accuracy: 0.879\n",
      "\n"
     ]
    },
    {
     "name": "stderr",
     "output_type": "stream",
     "text": [
      "\u001b[32m[I 2023-05-11 12:22:20,623]\u001b[0m Trial 84 finished with value: 0.8939213070025328 and parameters: {'C': 4.483808627274909}. Best is trial 64 with value: 0.8958466417972992.\u001b[0m\n"
     ]
    },
    {
     "name": "stdout",
     "output_type": "stream",
     "text": [
      "Overall accuracy: 0.894\n",
      "\n"
     ]
    },
    {
     "name": "stderr",
     "output_type": "stream",
     "text": [
      "\u001b[32m[I 2023-05-11 12:22:21,275]\u001b[0m Trial 85 finished with value: 0.8773775527471712 and parameters: {'C': 25.532821007098377}. Best is trial 64 with value: 0.8958466417972992.\u001b[0m\n"
     ]
    },
    {
     "name": "stdout",
     "output_type": "stream",
     "text": [
      "Overall accuracy: 0.878\n",
      "\n"
     ]
    },
    {
     "name": "stderr",
     "output_type": "stream",
     "text": [
      "\u001b[32m[I 2023-05-11 12:22:21,911]\u001b[0m Trial 86 finished with value: 0.8907038836044028 and parameters: {'C': 1.0120894676076762}. Best is trial 64 with value: 0.8958466417972992.\u001b[0m\n"
     ]
    },
    {
     "name": "stdout",
     "output_type": "stream",
     "text": [
      "Overall accuracy: 0.891\n",
      "\n"
     ]
    },
    {
     "name": "stderr",
     "output_type": "stream",
     "text": [
      "\u001b[32m[I 2023-05-11 12:22:23,017]\u001b[0m Trial 87 finished with value: 0.8528708133971292 and parameters: {'C': 0.05804433246304567}. Best is trial 64 with value: 0.8958466417972992.\u001b[0m\n"
     ]
    },
    {
     "name": "stdout",
     "output_type": "stream",
     "text": [
      "Overall accuracy: 0.854\n",
      "\n"
     ]
    },
    {
     "name": "stderr",
     "output_type": "stream",
     "text": [
      "\u001b[32m[I 2023-05-11 12:22:23,621]\u001b[0m Trial 88 finished with value: 0.8864243375001241 and parameters: {'C': 8.027934827175153}. Best is trial 64 with value: 0.8958466417972992.\u001b[0m\n"
     ]
    },
    {
     "name": "stdout",
     "output_type": "stream",
     "text": [
      "Overall accuracy: 0.887\n",
      "\n"
     ]
    },
    {
     "name": "stderr",
     "output_type": "stream",
     "text": [
      "\u001b[32m[I 2023-05-11 12:22:24,508]\u001b[0m Trial 89 finished with value: 0.8558614890092626 and parameters: {'C': 120.37329047574444}. Best is trial 64 with value: 0.8958466417972992.\u001b[0m\n"
     ]
    },
    {
     "name": "stdout",
     "output_type": "stream",
     "text": [
      "Overall accuracy: 0.856\n",
      "\n"
     ]
    },
    {
     "name": "stderr",
     "output_type": "stream",
     "text": [
      "\u001b[32m[I 2023-05-11 12:22:25,304]\u001b[0m Trial 90 finished with value: 0.8819140825820561 and parameters: {'C': 0.4135470800181411}. Best is trial 64 with value: 0.8958466417972992.\u001b[0m\n"
     ]
    },
    {
     "name": "stdout",
     "output_type": "stream",
     "text": [
      "Overall accuracy: 0.882\n",
      "\n"
     ]
    },
    {
     "name": "stderr",
     "output_type": "stream",
     "text": [
      "\u001b[32m[I 2023-05-11 12:22:25,917]\u001b[0m Trial 91 finished with value: 0.894277421052893 and parameters: {'C': 2.213136598159864}. Best is trial 64 with value: 0.8958466417972992.\u001b[0m\n"
     ]
    },
    {
     "name": "stdout",
     "output_type": "stream",
     "text": [
      "Overall accuracy: 0.895\n",
      "\n"
     ]
    },
    {
     "name": "stderr",
     "output_type": "stream",
     "text": [
      "\u001b[32m[I 2023-05-11 12:22:26,540]\u001b[0m Trial 92 finished with value: 0.8946762723897533 and parameters: {'C': 1.5293179478182521}. Best is trial 64 with value: 0.8958466417972992.\u001b[0m\n"
     ]
    },
    {
     "name": "stdout",
     "output_type": "stream",
     "text": [
      "Overall accuracy: 0.895\n",
      "\n"
     ]
    },
    {
     "name": "stderr",
     "output_type": "stream",
     "text": [
      "\u001b[32m[I 2023-05-11 12:22:27,265]\u001b[0m Trial 93 finished with value: 0.8719036667197462 and parameters: {'C': 43.437868040391855}. Best is trial 64 with value: 0.8958466417972992.\u001b[0m\n"
     ]
    },
    {
     "name": "stdout",
     "output_type": "stream",
     "text": [
      "Overall accuracy: 0.872\n",
      "\n"
     ]
    },
    {
     "name": "stderr",
     "output_type": "stream",
     "text": [
      "\u001b[32m[I 2023-05-11 12:22:27,883]\u001b[0m Trial 94 finished with value: 0.8919453766494236 and parameters: {'C': 3.9517383026413744}. Best is trial 64 with value: 0.8958466417972992.\u001b[0m\n"
     ]
    },
    {
     "name": "stdout",
     "output_type": "stream",
     "text": [
      "Overall accuracy: 0.892\n",
      "\n"
     ]
    },
    {
     "name": "stderr",
     "output_type": "stream",
     "text": [
      "\u001b[32m[I 2023-05-11 12:22:28,555]\u001b[0m Trial 95 finished with value: 0.8835052659460022 and parameters: {'C': 0.6377962826495813}. Best is trial 64 with value: 0.8958466417972992.\u001b[0m\n"
     ]
    },
    {
     "name": "stdout",
     "output_type": "stream",
     "text": [
      "Overall accuracy: 0.884\n",
      "\n"
     ]
    },
    {
     "name": "stderr",
     "output_type": "stream",
     "text": [
      "\u001b[32m[I 2023-05-11 12:22:29,195]\u001b[0m Trial 96 finished with value: 0.884457036995324 and parameters: {'C': 13.466587931655289}. Best is trial 64 with value: 0.8958466417972992.\u001b[0m\n"
     ]
    },
    {
     "name": "stdout",
     "output_type": "stream",
     "text": [
      "Overall accuracy: 0.885\n",
      "\n"
     ]
    },
    {
     "name": "stderr",
     "output_type": "stream",
     "text": [
      "\u001b[32m[I 2023-05-11 12:22:30,643]\u001b[0m Trial 97 finished with value: 0.8307702019588894 and parameters: {'C': 0.018656126473730043}. Best is trial 64 with value: 0.8958466417972992.\u001b[0m\n"
     ]
    },
    {
     "name": "stdout",
     "output_type": "stream",
     "text": [
      "Overall accuracy: 0.833\n",
      "\n"
     ]
    },
    {
     "name": "stderr",
     "output_type": "stream",
     "text": [
      "\u001b[32m[I 2023-05-11 12:22:31,552]\u001b[0m Trial 98 finished with value: 0.8648414689887409 and parameters: {'C': 0.1247787676781305}. Best is trial 64 with value: 0.8958466417972992.\u001b[0m\n"
     ]
    },
    {
     "name": "stdout",
     "output_type": "stream",
     "text": [
      "Overall accuracy: 0.865\n",
      "\n"
     ]
    },
    {
     "name": "stderr",
     "output_type": "stream",
     "text": [
      "\u001b[32m[I 2023-05-11 12:22:32,176]\u001b[0m Trial 99 finished with value: 0.8946762723897533 and parameters: {'C': 2.1974214258496603}. Best is trial 64 with value: 0.8958466417972992.\u001b[0m\n",
      "\u001b[32m[I 2023-05-11 12:22:32,363]\u001b[0m A new study created in memory with name: no-name-a5889ddf-296c-40b0-9e6e-b4c09a42ddd4\u001b[0m\n"
     ]
    },
    {
     "name": "stdout",
     "output_type": "stream",
     "text": [
      "Overall accuracy: 0.895\n",
      "\n",
      "Best f1 Score: 0.8958466417972992\n",
      "Best Hyperparameters: {'C': 1.4112052220617344}\n",
      "\n",
      "\n",
      "\n",
      "Feature Type: DPC | Training Model: SVC\n"
     ]
    },
    {
     "name": "stderr",
     "output_type": "stream",
     "text": [
      "\u001b[32m[I 2023-05-11 12:22:39,114]\u001b[0m Trial 0 finished with value: 0.3416213416213416 and parameters: {'C': 5.449946906387764e-08}. Best is trial 0 with value: 0.3416213416213416.\u001b[0m\n"
     ]
    },
    {
     "name": "stdout",
     "output_type": "stream",
     "text": [
      "Overall accuracy: 0.519\n",
      "\n"
     ]
    },
    {
     "name": "stderr",
     "output_type": "stream",
     "text": [
      "\u001b[32m[I 2023-05-11 12:22:43,490]\u001b[0m Trial 1 finished with value: 0.8876615658718916 and parameters: {'C': 12339117.551934563}. Best is trial 1 with value: 0.8876615658718916.\u001b[0m\n"
     ]
    },
    {
     "name": "stdout",
     "output_type": "stream",
     "text": [
      "Overall accuracy: 0.888\n",
      "\n"
     ]
    },
    {
     "name": "stderr",
     "output_type": "stream",
     "text": [
      "\u001b[32m[I 2023-05-11 12:22:50,259]\u001b[0m Trial 2 finished with value: 0.3416213416213416 and parameters: {'C': 0.01060136614656707}. Best is trial 1 with value: 0.8876615658718916.\u001b[0m\n"
     ]
    },
    {
     "name": "stdout",
     "output_type": "stream",
     "text": [
      "Overall accuracy: 0.519\n",
      "\n"
     ]
    },
    {
     "name": "stderr",
     "output_type": "stream",
     "text": [
      "\u001b[32m[I 2023-05-11 12:22:57,046]\u001b[0m Trial 3 finished with value: 0.3416213416213416 and parameters: {'C': 0.0025527873255715883}. Best is trial 1 with value: 0.8876615658718916.\u001b[0m\n"
     ]
    },
    {
     "name": "stdout",
     "output_type": "stream",
     "text": [
      "Overall accuracy: 0.519\n",
      "\n"
     ]
    },
    {
     "name": "stderr",
     "output_type": "stream",
     "text": [
      "\u001b[32m[I 2023-05-11 12:23:00,703]\u001b[0m Trial 4 finished with value: 0.8942861487755147 and parameters: {'C': 2.689215010583139}. Best is trial 4 with value: 0.8942861487755147.\u001b[0m\n"
     ]
    },
    {
     "name": "stdout",
     "output_type": "stream",
     "text": [
      "Overall accuracy: 0.895\n",
      "\n"
     ]
    },
    {
     "name": "stderr",
     "output_type": "stream",
     "text": [
      "\u001b[32m[I 2023-05-11 12:23:07,519]\u001b[0m Trial 5 finished with value: 0.3416213416213416 and parameters: {'C': 1.0292615163928271e-07}. Best is trial 4 with value: 0.8942861487755147.\u001b[0m\n"
     ]
    },
    {
     "name": "stdout",
     "output_type": "stream",
     "text": [
      "Overall accuracy: 0.519\n",
      "\n"
     ]
    },
    {
     "name": "stderr",
     "output_type": "stream",
     "text": [
      "\u001b[32m[I 2023-05-11 12:23:14,205]\u001b[0m Trial 6 finished with value: 0.3416213416213416 and parameters: {'C': 5.764547837390499e-05}. Best is trial 4 with value: 0.8942861487755147.\u001b[0m\n"
     ]
    },
    {
     "name": "stdout",
     "output_type": "stream",
     "text": [
      "Overall accuracy: 0.519\n",
      "\n"
     ]
    },
    {
     "name": "stderr",
     "output_type": "stream",
     "text": [
      "\u001b[32m[I 2023-05-11 12:23:18,388]\u001b[0m Trial 7 finished with value: 0.8947639354282222 and parameters: {'C': 14.376532156773804}. Best is trial 7 with value: 0.8947639354282222.\u001b[0m\n"
     ]
    },
    {
     "name": "stdout",
     "output_type": "stream",
     "text": [
      "Overall accuracy: 0.895\n",
      "\n"
     ]
    },
    {
     "name": "stderr",
     "output_type": "stream",
     "text": [
      "\u001b[32m[I 2023-05-11 12:23:22,609]\u001b[0m Trial 8 finished with value: 0.8876615658718916 and parameters: {'C': 431194551.9089282}. Best is trial 7 with value: 0.8947639354282222.\u001b[0m\n"
     ]
    },
    {
     "name": "stdout",
     "output_type": "stream",
     "text": [
      "Overall accuracy: 0.888\n",
      "\n"
     ]
    },
    {
     "name": "stderr",
     "output_type": "stream",
     "text": [
      "\u001b[32m[I 2023-05-11 12:23:29,895]\u001b[0m Trial 9 finished with value: 0.3416213416213416 and parameters: {'C': 5.549793315238335e-05}. Best is trial 7 with value: 0.8947639354282222.\u001b[0m\n"
     ]
    },
    {
     "name": "stdout",
     "output_type": "stream",
     "text": [
      "Overall accuracy: 0.519\n",
      "\n"
     ]
    },
    {
     "name": "stderr",
     "output_type": "stream",
     "text": [
      "\u001b[32m[I 2023-05-11 12:23:34,214]\u001b[0m Trial 10 finished with value: 0.8876615658718916 and parameters: {'C': 628.5624956270624}. Best is trial 7 with value: 0.8947639354282222.\u001b[0m\n"
     ]
    },
    {
     "name": "stdout",
     "output_type": "stream",
     "text": [
      "Overall accuracy: 0.888\n",
      "\n"
     ]
    },
    {
     "name": "stderr",
     "output_type": "stream",
     "text": [
      "\u001b[32m[I 2023-05-11 12:23:38,266]\u001b[0m Trial 11 finished with value: 0.8892459395330727 and parameters: {'C': 90.00625932908297}. Best is trial 7 with value: 0.8947639354282222.\u001b[0m\n"
     ]
    },
    {
     "name": "stdout",
     "output_type": "stream",
     "text": [
      "Overall accuracy: 0.889\n",
      "\n"
     ]
    },
    {
     "name": "stderr",
     "output_type": "stream",
     "text": [
      "\u001b[32m[I 2023-05-11 12:23:42,330]\u001b[0m Trial 12 finished with value: 0.8943661404014749 and parameters: {'C': 17.67707193914028}. Best is trial 7 with value: 0.8947639354282222.\u001b[0m\n"
     ]
    },
    {
     "name": "stdout",
     "output_type": "stream",
     "text": [
      "Overall accuracy: 0.895\n",
      "\n"
     ]
    },
    {
     "name": "stderr",
     "output_type": "stream",
     "text": [
      "\u001b[32m[I 2023-05-11 12:23:46,526]\u001b[0m Trial 13 finished with value: 0.8876615658718916 and parameters: {'C': 15613.238698500076}. Best is trial 7 with value: 0.8947639354282222.\u001b[0m\n"
     ]
    },
    {
     "name": "stdout",
     "output_type": "stream",
     "text": [
      "Overall accuracy: 0.888\n",
      "\n"
     ]
    },
    {
     "name": "stderr",
     "output_type": "stream",
     "text": [
      "\u001b[32m[I 2023-05-11 12:23:50,571]\u001b[0m Trial 14 finished with value: 0.8876615658718916 and parameters: {'C': 43716.480798585624}. Best is trial 7 with value: 0.8947639354282222.\u001b[0m\n"
     ]
    },
    {
     "name": "stdout",
     "output_type": "stream",
     "text": [
      "Overall accuracy: 0.888\n",
      "\n"
     ]
    },
    {
     "name": "stderr",
     "output_type": "stream",
     "text": [
      "\u001b[32m[I 2023-05-11 12:23:54,322]\u001b[0m Trial 15 finished with value: 0.8830454151213794 and parameters: {'C': 0.5990263076349556}. Best is trial 7 with value: 0.8947639354282222.\u001b[0m\n"
     ]
    },
    {
     "name": "stdout",
     "output_type": "stream",
     "text": [
      "Overall accuracy: 0.884\n",
      "\n"
     ]
    },
    {
     "name": "stderr",
     "output_type": "stream",
     "text": [
      "\u001b[32m[I 2023-05-11 12:23:58,387]\u001b[0m Trial 16 finished with value: 0.8876615658718916 and parameters: {'C': 629567.5474124862}. Best is trial 7 with value: 0.8947639354282222.\u001b[0m\n"
     ]
    },
    {
     "name": "stdout",
     "output_type": "stream",
     "text": [
      "Overall accuracy: 0.888\n",
      "\n"
     ]
    },
    {
     "name": "stderr",
     "output_type": "stream",
     "text": [
      "\u001b[32m[I 2023-05-11 12:24:02,669]\u001b[0m Trial 17 finished with value: 0.8884420176415153 and parameters: {'C': 198.1613918305481}. Best is trial 7 with value: 0.8947639354282222.\u001b[0m\n"
     ]
    },
    {
     "name": "stdout",
     "output_type": "stream",
     "text": [
      "Overall accuracy: 0.889\n",
      "\n"
     ]
    },
    {
     "name": "stderr",
     "output_type": "stream",
     "text": [
      "\u001b[32m[I 2023-05-11 12:24:06,890]\u001b[0m Trial 18 finished with value: 0.8876615658718916 and parameters: {'C': 8752522919.704857}. Best is trial 7 with value: 0.8947639354282222.\u001b[0m\n"
     ]
    },
    {
     "name": "stdout",
     "output_type": "stream",
     "text": [
      "Overall accuracy: 0.888\n",
      "\n"
     ]
    },
    {
     "name": "stderr",
     "output_type": "stream",
     "text": [
      "\u001b[32m[I 2023-05-11 12:24:11,780]\u001b[0m Trial 19 finished with value: 0.894192891067396 and parameters: {'C': 1.3134414833978783}. Best is trial 7 with value: 0.8947639354282222.\u001b[0m\n"
     ]
    },
    {
     "name": "stdout",
     "output_type": "stream",
     "text": [
      "Overall accuracy: 0.895\n",
      "\n"
     ]
    },
    {
     "name": "stderr",
     "output_type": "stream",
     "text": [
      "\u001b[32m[I 2023-05-11 12:24:17,213]\u001b[0m Trial 20 finished with value: 0.8876615658718916 and parameters: {'C': 7947.597348417493}. Best is trial 7 with value: 0.8947639354282222.\u001b[0m\n"
     ]
    },
    {
     "name": "stdout",
     "output_type": "stream",
     "text": [
      "Overall accuracy: 0.888\n",
      "\n"
     ]
    },
    {
     "name": "stderr",
     "output_type": "stream",
     "text": [
      "\u001b[32m[I 2023-05-11 12:24:21,265]\u001b[0m Trial 21 finished with value: 0.9006212953126087 and parameters: {'C': 4.811923141025225}. Best is trial 21 with value: 0.9006212953126087.\u001b[0m\n"
     ]
    },
    {
     "name": "stdout",
     "output_type": "stream",
     "text": [
      "Overall accuracy: 0.901\n",
      "\n"
     ]
    },
    {
     "name": "stderr",
     "output_type": "stream",
     "text": [
      "\u001b[32m[I 2023-05-11 12:24:25,708]\u001b[0m Trial 22 finished with value: 0.8915956001816845 and parameters: {'C': 21.43225872669636}. Best is trial 21 with value: 0.9006212953126087.\u001b[0m\n"
     ]
    },
    {
     "name": "stdout",
     "output_type": "stream",
     "text": [
      "Overall accuracy: 0.892\n",
      "\n"
     ]
    },
    {
     "name": "stderr",
     "output_type": "stream",
     "text": [
      "\u001b[32m[I 2023-05-11 12:24:32,170]\u001b[0m Trial 23 finished with value: 0.821706489725868 and parameters: {'C': 0.06913608211111033}. Best is trial 21 with value: 0.9006212953126087.\u001b[0m\n"
     ]
    },
    {
     "name": "stdout",
     "output_type": "stream",
     "text": [
      "Overall accuracy: 0.822\n",
      "\n"
     ]
    },
    {
     "name": "stderr",
     "output_type": "stream",
     "text": [
      "\u001b[32m[I 2023-05-11 12:24:36,763]\u001b[0m Trial 24 finished with value: 0.8888479537060296 and parameters: {'C': 35.41123353106917}. Best is trial 21 with value: 0.9006212953126087.\u001b[0m\n"
     ]
    },
    {
     "name": "stdout",
     "output_type": "stream",
     "text": [
      "Overall accuracy: 0.889\n",
      "\n"
     ]
    },
    {
     "name": "stderr",
     "output_type": "stream",
     "text": [
      "\u001b[32m[I 2023-05-11 12:24:41,244]\u001b[0m Trial 25 finished with value: 0.8876615658718916 and parameters: {'C': 939.1226918577753}. Best is trial 21 with value: 0.9006212953126087.\u001b[0m\n"
     ]
    },
    {
     "name": "stdout",
     "output_type": "stream",
     "text": [
      "Overall accuracy: 0.888\n",
      "\n"
     ]
    },
    {
     "name": "stderr",
     "output_type": "stream",
     "text": [
      "\u001b[32m[I 2023-05-11 12:24:48,340]\u001b[0m Trial 26 finished with value: 0.8735626109420318 and parameters: {'C': 0.25971211563879676}. Best is trial 21 with value: 0.9006212953126087.\u001b[0m\n"
     ]
    },
    {
     "name": "stdout",
     "output_type": "stream",
     "text": [
      "Overall accuracy: 0.874\n",
      "\n"
     ]
    },
    {
     "name": "stderr",
     "output_type": "stream",
     "text": [
      "\u001b[32m[I 2023-05-11 12:24:53,301]\u001b[0m Trial 27 finished with value: 0.8939607870868114 and parameters: {'C': 8.918435330128448}. Best is trial 21 with value: 0.9006212953126087.\u001b[0m\n"
     ]
    },
    {
     "name": "stdout",
     "output_type": "stream",
     "text": [
      "Overall accuracy: 0.894\n",
      "\n"
     ]
    },
    {
     "name": "stderr",
     "output_type": "stream",
     "text": [
      "\u001b[32m[I 2023-05-11 12:24:58,057]\u001b[0m Trial 28 finished with value: 0.8876615658718916 and parameters: {'C': 1760.0080446105774}. Best is trial 21 with value: 0.9006212953126087.\u001b[0m\n"
     ]
    },
    {
     "name": "stdout",
     "output_type": "stream",
     "text": [
      "Overall accuracy: 0.888\n",
      "\n"
     ]
    },
    {
     "name": "stderr",
     "output_type": "stream",
     "text": [
      "\u001b[32m[I 2023-05-11 12:25:03,767]\u001b[0m Trial 29 finished with value: 0.8876615658718916 and parameters: {'C': 444432.25288757065}. Best is trial 21 with value: 0.9006212953126087.\u001b[0m\n"
     ]
    },
    {
     "name": "stdout",
     "output_type": "stream",
     "text": [
      "Overall accuracy: 0.888\n",
      "\n"
     ]
    },
    {
     "name": "stderr",
     "output_type": "stream",
     "text": [
      "\u001b[32m[I 2023-05-11 12:25:11,925]\u001b[0m Trial 30 finished with value: 0.8915956001816845 and parameters: {'C': 21.470379050653783}. Best is trial 21 with value: 0.9006212953126087.\u001b[0m\n"
     ]
    },
    {
     "name": "stdout",
     "output_type": "stream",
     "text": [
      "Overall accuracy: 0.892\n",
      "\n"
     ]
    },
    {
     "name": "stderr",
     "output_type": "stream",
     "text": [
      "\u001b[32m[I 2023-05-11 12:25:16,130]\u001b[0m Trial 31 finished with value: 0.8970598388890327 and parameters: {'C': 2.976610659436567}. Best is trial 21 with value: 0.9006212953126087.\u001b[0m\n"
     ]
    },
    {
     "name": "stdout",
     "output_type": "stream",
     "text": [
      "Overall accuracy: 0.897\n",
      "\n"
     ]
    },
    {
     "name": "stderr",
     "output_type": "stream",
     "text": [
      "\u001b[32m[I 2023-05-11 12:25:23,914]\u001b[0m Trial 32 finished with value: 0.8358076953652913 and parameters: {'C': 0.09840991148201042}. Best is trial 21 with value: 0.9006212953126087.\u001b[0m\n"
     ]
    },
    {
     "name": "stdout",
     "output_type": "stream",
     "text": [
      "Overall accuracy: 0.836\n",
      "\n"
     ]
    },
    {
     "name": "stderr",
     "output_type": "stream",
     "text": [
      "\u001b[32m[I 2023-05-11 12:25:28,444]\u001b[0m Trial 33 finished with value: 0.8958287929335547 and parameters: {'C': 2.0126569603703994}. Best is trial 21 with value: 0.9006212953126087.\u001b[0m\n"
     ]
    },
    {
     "name": "stdout",
     "output_type": "stream",
     "text": [
      "Overall accuracy: 0.896\n",
      "\n"
     ]
    },
    {
     "name": "stderr",
     "output_type": "stream",
     "text": [
      "\u001b[32m[I 2023-05-11 12:25:35,284]\u001b[0m Trial 34 finished with value: 0.3416213416213416 and parameters: {'C': 0.007117348119680869}. Best is trial 21 with value: 0.9006212953126087.\u001b[0m\n"
     ]
    },
    {
     "name": "stdout",
     "output_type": "stream",
     "text": [
      "Overall accuracy: 0.519\n",
      "\n"
     ]
    },
    {
     "name": "stderr",
     "output_type": "stream",
     "text": [
      "\u001b[32m[I 2023-05-11 12:25:39,431]\u001b[0m Trial 35 finished with value: 0.8834705086636847 and parameters: {'C': 0.6578453709785821}. Best is trial 21 with value: 0.9006212953126087.\u001b[0m\n"
     ]
    },
    {
     "name": "stdout",
     "output_type": "stream",
     "text": [
      "Overall accuracy: 0.884\n",
      "\n"
     ]
    },
    {
     "name": "stderr",
     "output_type": "stream",
     "text": [
      "\u001b[32m[I 2023-05-11 12:25:46,736]\u001b[0m Trial 36 finished with value: 0.3416213416213416 and parameters: {'C': 0.0010053255270287907}. Best is trial 21 with value: 0.9006212953126087.\u001b[0m\n"
     ]
    },
    {
     "name": "stdout",
     "output_type": "stream",
     "text": [
      "Overall accuracy: 0.519\n",
      "\n"
     ]
    },
    {
     "name": "stderr",
     "output_type": "stream",
     "text": [
      "\u001b[32m[I 2023-05-11 12:25:50,553]\u001b[0m Trial 37 finished with value: 0.8946849014594072 and parameters: {'C': 2.8053246815702035}. Best is trial 21 with value: 0.9006212953126087.\u001b[0m\n"
     ]
    },
    {
     "name": "stdout",
     "output_type": "stream",
     "text": [
      "Overall accuracy: 0.895\n",
      "\n"
     ]
    },
    {
     "name": "stderr",
     "output_type": "stream",
     "text": [
      "\u001b[32m[I 2023-05-11 12:25:55,024]\u001b[0m Trial 38 finished with value: 0.8884420176415153 and parameters: {'C': 215.85915796499805}. Best is trial 21 with value: 0.9006212953126087.\u001b[0m\n"
     ]
    },
    {
     "name": "stdout",
     "output_type": "stream",
     "text": [
      "Overall accuracy: 0.889\n",
      "\n"
     ]
    },
    {
     "name": "stderr",
     "output_type": "stream",
     "text": [
      "\u001b[32m[I 2023-05-11 12:26:02,083]\u001b[0m Trial 39 finished with value: 0.36823906623060537 and parameters: {'C': 0.016537162196211045}. Best is trial 21 with value: 0.9006212953126087.\u001b[0m\n"
     ]
    },
    {
     "name": "stdout",
     "output_type": "stream",
     "text": [
      "Overall accuracy: 0.531\n",
      "\n"
     ]
    },
    {
     "name": "stderr",
     "output_type": "stream",
     "text": [
      "\u001b[32m[I 2023-05-11 12:26:09,786]\u001b[0m Trial 40 finished with value: 0.3416213416213416 and parameters: {'C': 0.0006774208272573241}. Best is trial 21 with value: 0.9006212953126087.\u001b[0m\n"
     ]
    },
    {
     "name": "stdout",
     "output_type": "stream",
     "text": [
      "Overall accuracy: 0.519\n",
      "\n"
     ]
    },
    {
     "name": "stderr",
     "output_type": "stream",
     "text": [
      "\u001b[32m[I 2023-05-11 12:26:13,897]\u001b[0m Trial 41 finished with value: 0.8954476916403009 and parameters: {'C': 2.5185087685088607}. Best is trial 21 with value: 0.9006212953126087.\u001b[0m\n"
     ]
    },
    {
     "name": "stdout",
     "output_type": "stream",
     "text": [
      "Overall accuracy: 0.896\n",
      "\n"
     ]
    },
    {
     "name": "stderr",
     "output_type": "stream",
     "text": [
      "\u001b[32m[I 2023-05-11 12:26:17,711]\u001b[0m Trial 42 finished with value: 0.9006290034046973 and parameters: {'C': 5.106024425378496}. Best is trial 42 with value: 0.9006290034046973.\u001b[0m\n"
     ]
    },
    {
     "name": "stdout",
     "output_type": "stream",
     "text": [
      "Overall accuracy: 0.901\n",
      "\n"
     ]
    },
    {
     "name": "stderr",
     "output_type": "stream",
     "text": [
      "\u001b[32m[I 2023-05-11 12:26:21,611]\u001b[0m Trial 43 finished with value: 0.8954476916403009 and parameters: {'C': 2.5534676376447325}. Best is trial 42 with value: 0.9006290034046973.\u001b[0m\n"
     ]
    },
    {
     "name": "stdout",
     "output_type": "stream",
     "text": [
      "Overall accuracy: 0.896\n",
      "\n"
     ]
    },
    {
     "name": "stderr",
     "output_type": "stream",
     "text": [
      "\u001b[32m[I 2023-05-11 12:26:27,687]\u001b[0m Trial 44 finished with value: 0.8354204385552653 and parameters: {'C': 0.09646477603811822}. Best is trial 42 with value: 0.9006290034046973.\u001b[0m\n"
     ]
    },
    {
     "name": "stdout",
     "output_type": "stream",
     "text": [
      "Overall accuracy: 0.836\n",
      "\n"
     ]
    },
    {
     "name": "stderr",
     "output_type": "stream",
     "text": [
      "\u001b[32m[I 2023-05-11 12:26:31,722]\u001b[0m Trial 45 finished with value: 0.8958377827998112 and parameters: {'C': 2.4744547035399838}. Best is trial 42 with value: 0.9006290034046973.\u001b[0m\n"
     ]
    },
    {
     "name": "stdout",
     "output_type": "stream",
     "text": [
      "Overall accuracy: 0.896\n",
      "\n"
     ]
    },
    {
     "name": "stderr",
     "output_type": "stream",
     "text": [
      "\u001b[32m[I 2023-05-11 12:26:36,106]\u001b[0m Trial 46 finished with value: 0.8888479537060296 and parameters: {'C': 128.18879121895063}. Best is trial 42 with value: 0.9006290034046973.\u001b[0m\n"
     ]
    },
    {
     "name": "stdout",
     "output_type": "stream",
     "text": [
      "Overall accuracy: 0.889\n",
      "\n"
     ]
    },
    {
     "name": "stderr",
     "output_type": "stream",
     "text": [
      "\u001b[32m[I 2023-05-11 12:26:42,787]\u001b[0m Trial 47 finished with value: 0.5532083374961609 and parameters: {'C': 0.02100374035056877}. Best is trial 42 with value: 0.9006290034046973.\u001b[0m\n"
     ]
    },
    {
     "name": "stdout",
     "output_type": "stream",
     "text": [
      "Overall accuracy: 0.626\n",
      "\n"
     ]
    },
    {
     "name": "stderr",
     "output_type": "stream",
     "text": [
      "\u001b[32m[I 2023-05-11 12:26:48,278]\u001b[0m Trial 48 finished with value: 0.8582179118627362 and parameters: {'C': 0.17409618488157177}. Best is trial 42 with value: 0.9006290034046973.\u001b[0m\n"
     ]
    },
    {
     "name": "stdout",
     "output_type": "stream",
     "text": [
      "Overall accuracy: 0.859\n",
      "\n"
     ]
    },
    {
     "name": "stderr",
     "output_type": "stream",
     "text": [
      "\u001b[32m[I 2023-05-11 12:26:53,076]\u001b[0m Trial 49 finished with value: 0.8876615658718916 and parameters: {'C': 1816.736910899405}. Best is trial 42 with value: 0.9006290034046973.\u001b[0m\n"
     ]
    },
    {
     "name": "stdout",
     "output_type": "stream",
     "text": [
      "Overall accuracy: 0.888\n",
      "\n"
     ]
    },
    {
     "name": "stderr",
     "output_type": "stream",
     "text": [
      "\u001b[32m[I 2023-05-11 12:26:57,135]\u001b[0m Trial 50 finished with value: 0.8947491827218538 and parameters: {'C': 8.689260621350083}. Best is trial 42 with value: 0.9006290034046973.\u001b[0m\n"
     ]
    },
    {
     "name": "stdout",
     "output_type": "stream",
     "text": [
      "Overall accuracy: 0.895\n",
      "\n"
     ]
    },
    {
     "name": "stderr",
     "output_type": "stream",
     "text": [
      "\u001b[32m[I 2023-05-11 12:27:00,803]\u001b[0m Trial 51 finished with value: 0.9026190043028395 and parameters: {'C': 6.235025326196079}. Best is trial 51 with value: 0.9026190043028395.\u001b[0m\n"
     ]
    },
    {
     "name": "stdout",
     "output_type": "stream",
     "text": [
      "Overall accuracy: 0.903\n",
      "\n"
     ]
    },
    {
     "name": "stderr",
     "output_type": "stream",
     "text": [
      "\u001b[32m[I 2023-05-11 12:27:05,043]\u001b[0m Trial 52 finished with value: 0.8888479537060296 and parameters: {'C': 86.08329829237918}. Best is trial 51 with value: 0.9026190043028395.\u001b[0m\n"
     ]
    },
    {
     "name": "stdout",
     "output_type": "stream",
     "text": [
      "Overall accuracy: 0.889\n",
      "\n"
     ]
    },
    {
     "name": "stderr",
     "output_type": "stream",
     "text": [
      "\u001b[32m[I 2023-05-11 12:27:08,975]\u001b[0m Trial 53 finished with value: 0.8834705086636847 and parameters: {'C': 0.6751291848523603}. Best is trial 51 with value: 0.9026190043028395.\u001b[0m\n"
     ]
    },
    {
     "name": "stdout",
     "output_type": "stream",
     "text": [
      "Overall accuracy: 0.884\n",
      "\n"
     ]
    },
    {
     "name": "stderr",
     "output_type": "stream",
     "text": [
      "\u001b[32m[I 2023-05-11 12:27:12,600]\u001b[0m Trial 54 finished with value: 0.8954476916403009 and parameters: {'C': 2.537804009938879}. Best is trial 51 with value: 0.9026190043028395.\u001b[0m\n"
     ]
    },
    {
     "name": "stdout",
     "output_type": "stream",
     "text": [
      "Overall accuracy: 0.896\n",
      "\n"
     ]
    },
    {
     "name": "stderr",
     "output_type": "stream",
     "text": [
      "\u001b[32m[I 2023-05-11 12:27:16,701]\u001b[0m Trial 55 finished with value: 0.8876615658718916 and parameters: {'C': 342.1137077426581}. Best is trial 51 with value: 0.9026190043028395.\u001b[0m\n"
     ]
    },
    {
     "name": "stdout",
     "output_type": "stream",
     "text": [
      "Overall accuracy: 0.888\n",
      "\n"
     ]
    },
    {
     "name": "stderr",
     "output_type": "stream",
     "text": [
      "\u001b[32m[I 2023-05-11 12:27:20,701]\u001b[0m Trial 56 finished with value: 0.888059641320966 and parameters: {'C': 55.19159266755828}. Best is trial 51 with value: 0.9026190043028395.\u001b[0m\n"
     ]
    },
    {
     "name": "stdout",
     "output_type": "stream",
     "text": [
      "Overall accuracy: 0.888\n",
      "\n"
     ]
    },
    {
     "name": "stderr",
     "output_type": "stream",
     "text": [
      "\u001b[32m[I 2023-05-11 12:27:24,394]\u001b[0m Trial 57 finished with value: 0.8850269860698257 and parameters: {'C': 0.7501111076574848}. Best is trial 51 with value: 0.9026190043028395.\u001b[0m\n"
     ]
    },
    {
     "name": "stdout",
     "output_type": "stream",
     "text": [
      "Overall accuracy: 0.886\n",
      "\n"
     ]
    },
    {
     "name": "stderr",
     "output_type": "stream",
     "text": [
      "\u001b[32m[I 2023-05-11 12:27:27,852]\u001b[0m Trial 58 finished with value: 0.8990744187200674 and parameters: {'C': 7.558118669632048}. Best is trial 51 with value: 0.9026190043028395.\u001b[0m\n"
     ]
    },
    {
     "name": "stdout",
     "output_type": "stream",
     "text": [
      "Overall accuracy: 0.899\n",
      "\n"
     ]
    },
    {
     "name": "stderr",
     "output_type": "stream",
     "text": [
      "\u001b[32m[I 2023-05-11 12:27:32,179]\u001b[0m Trial 59 finished with value: 0.888059641320966 and parameters: {'C': 40.917405482247915}. Best is trial 51 with value: 0.9026190043028395.\u001b[0m\n"
     ]
    },
    {
     "name": "stdout",
     "output_type": "stream",
     "text": [
      "Overall accuracy: 0.888\n",
      "\n"
     ]
    },
    {
     "name": "stderr",
     "output_type": "stream",
     "text": [
      "\u001b[32m[I 2023-05-11 12:27:36,013]\u001b[0m Trial 60 finished with value: 0.896318513664931 and parameters: {'C': 8.331709835140703}. Best is trial 51 with value: 0.9026190043028395.\u001b[0m\n"
     ]
    },
    {
     "name": "stdout",
     "output_type": "stream",
     "text": [
      "Overall accuracy: 0.897\n",
      "\n"
     ]
    },
    {
     "name": "stderr",
     "output_type": "stream",
     "text": [
      "\u001b[32m[I 2023-05-11 12:27:39,729]\u001b[0m Trial 61 finished with value: 0.8947566248694563 and parameters: {'C': 11.22685680888153}. Best is trial 51 with value: 0.9026190043028395.\u001b[0m\n"
     ]
    },
    {
     "name": "stdout",
     "output_type": "stream",
     "text": [
      "Overall accuracy: 0.895\n",
      "\n"
     ]
    },
    {
     "name": "stderr",
     "output_type": "stream",
     "text": [
      "\u001b[32m[I 2023-05-11 12:27:44,309]\u001b[0m Trial 62 finished with value: 0.8699720997195979 and parameters: {'C': 0.2353508719544634}. Best is trial 51 with value: 0.9026190043028395.\u001b[0m\n"
     ]
    },
    {
     "name": "stdout",
     "output_type": "stream",
     "text": [
      "Overall accuracy: 0.871\n",
      "\n"
     ]
    },
    {
     "name": "stderr",
     "output_type": "stream",
     "text": [
      "\u001b[32m[I 2023-05-11 12:27:47,982]\u001b[0m Trial 63 finished with value: 0.8982859376163179 and parameters: {'C': 7.641472559096403}. Best is trial 51 with value: 0.9026190043028395.\u001b[0m\n"
     ]
    },
    {
     "name": "stdout",
     "output_type": "stream",
     "text": [
      "Overall accuracy: 0.899\n",
      "\n"
     ]
    },
    {
     "name": "stderr",
     "output_type": "stream",
     "text": [
      "\u001b[32m[I 2023-05-11 12:27:52,164]\u001b[0m Trial 64 finished with value: 0.8876615658718916 and parameters: {'C': 832.1200324319274}. Best is trial 51 with value: 0.9026190043028395.\u001b[0m\n"
     ]
    },
    {
     "name": "stdout",
     "output_type": "stream",
     "text": [
      "Overall accuracy: 0.888\n",
      "\n"
     ]
    },
    {
     "name": "stderr",
     "output_type": "stream",
     "text": [
      "\u001b[32m[I 2023-05-11 12:27:56,014]\u001b[0m Trial 65 finished with value: 0.8951471040670094 and parameters: {'C': 12.297291747311151}. Best is trial 51 with value: 0.9026190043028395.\u001b[0m\n"
     ]
    },
    {
     "name": "stdout",
     "output_type": "stream",
     "text": [
      "Overall accuracy: 0.895\n",
      "\n"
     ]
    },
    {
     "name": "stderr",
     "output_type": "stream",
     "text": [
      "\u001b[32m[I 2023-05-11 12:28:00,199]\u001b[0m Trial 66 finished with value: 0.8884420176415153 and parameters: {'C': 187.97650584948073}. Best is trial 51 with value: 0.9026190043028395.\u001b[0m\n"
     ]
    },
    {
     "name": "stdout",
     "output_type": "stream",
     "text": [
      "Overall accuracy: 0.889\n",
      "\n"
     ]
    },
    {
     "name": "stderr",
     "output_type": "stream",
     "text": [
      "\u001b[32m[I 2023-05-11 12:28:04,342]\u001b[0m Trial 67 finished with value: 0.8876615658718916 and parameters: {'C': 3920.7605670381226}. Best is trial 51 with value: 0.9026190043028395.\u001b[0m\n"
     ]
    },
    {
     "name": "stdout",
     "output_type": "stream",
     "text": [
      "Overall accuracy: 0.888\n",
      "\n"
     ]
    },
    {
     "name": "stderr",
     "output_type": "stream",
     "text": [
      "\u001b[32m[I 2023-05-11 12:28:10,456]\u001b[0m Trial 68 finished with value: 0.8164924398201299 and parameters: {'C': 0.05898305358541889}. Best is trial 51 with value: 0.9026190043028395.\u001b[0m\n"
     ]
    },
    {
     "name": "stdout",
     "output_type": "stream",
     "text": [
      "Overall accuracy: 0.817\n",
      "\n"
     ]
    },
    {
     "name": "stderr",
     "output_type": "stream",
     "text": [
      "\u001b[32m[I 2023-05-11 12:28:14,758]\u001b[0m Trial 69 finished with value: 0.8876615658718916 and parameters: {'C': 455.3911306273181}. Best is trial 51 with value: 0.9026190043028395.\u001b[0m\n"
     ]
    },
    {
     "name": "stdout",
     "output_type": "stream",
     "text": [
      "Overall accuracy: 0.888\n",
      "\n"
     ]
    },
    {
     "name": "stderr",
     "output_type": "stream",
     "text": [
      "\u001b[32m[I 2023-05-11 12:28:18,979]\u001b[0m Trial 70 finished with value: 0.8876615658718916 and parameters: {'C': 13152.09564479941}. Best is trial 51 with value: 0.9026190043028395.\u001b[0m\n"
     ]
    },
    {
     "name": "stdout",
     "output_type": "stream",
     "text": [
      "Overall accuracy: 0.888\n",
      "\n"
     ]
    },
    {
     "name": "stderr",
     "output_type": "stream",
     "text": [
      "\u001b[32m[I 2023-05-11 12:28:22,781]\u001b[0m Trial 71 finished with value: 0.901439862031316 and parameters: {'C': 6.939639211007444}. Best is trial 51 with value: 0.9026190043028395.\u001b[0m\n"
     ]
    },
    {
     "name": "stdout",
     "output_type": "stream",
     "text": [
      "Overall accuracy: 0.902\n",
      "\n"
     ]
    },
    {
     "name": "stderr",
     "output_type": "stream",
     "text": [
      "\u001b[32m[I 2023-05-11 12:28:26,482]\u001b[0m Trial 72 finished with value: 0.9018304942162225 and parameters: {'C': 6.378059583744916}. Best is trial 51 with value: 0.9026190043028395.\u001b[0m\n"
     ]
    },
    {
     "name": "stdout",
     "output_type": "stream",
     "text": [
      "Overall accuracy: 0.902\n",
      "\n"
     ]
    },
    {
     "name": "stderr",
     "output_type": "stream",
     "text": [
      "\u001b[32m[I 2023-05-11 12:28:31,058]\u001b[0m Trial 73 finished with value: 0.888059641320966 and parameters: {'C': 45.6423722206837}. Best is trial 51 with value: 0.9026190043028395.\u001b[0m\n"
     ]
    },
    {
     "name": "stdout",
     "output_type": "stream",
     "text": [
      "Overall accuracy: 0.888\n",
      "\n"
     ]
    },
    {
     "name": "stderr",
     "output_type": "stream",
     "text": [
      "\u001b[32m[I 2023-05-11 12:28:34,971]\u001b[0m Trial 74 finished with value: 0.885439763488544 and parameters: {'C': 0.732449571262533}. Best is trial 51 with value: 0.9026190043028395.\u001b[0m\n"
     ]
    },
    {
     "name": "stdout",
     "output_type": "stream",
     "text": [
      "Overall accuracy: 0.886\n",
      "\n"
     ]
    },
    {
     "name": "stderr",
     "output_type": "stream",
     "text": [
      "\u001b[32m[I 2023-05-11 12:28:40,393]\u001b[0m Trial 75 finished with value: 0.8758802187228066 and parameters: {'C': 0.3679485715058846}. Best is trial 51 with value: 0.9026190043028395.\u001b[0m\n"
     ]
    },
    {
     "name": "stdout",
     "output_type": "stream",
     "text": [
      "Overall accuracy: 0.876\n",
      "\n"
     ]
    },
    {
     "name": "stderr",
     "output_type": "stream",
     "text": [
      "\u001b[32m[I 2023-05-11 12:28:44,323]\u001b[0m Trial 76 finished with value: 0.9010346165258518 and parameters: {'C': 6.731173365226786}. Best is trial 51 with value: 0.9026190043028395.\u001b[0m\n"
     ]
    },
    {
     "name": "stdout",
     "output_type": "stream",
     "text": [
      "Overall accuracy: 0.901\n",
      "\n"
     ]
    },
    {
     "name": "stderr",
     "output_type": "stream",
     "text": [
      "\u001b[32m[I 2023-05-11 12:28:48,516]\u001b[0m Trial 77 finished with value: 0.8915956001816845 and parameters: {'C': 21.58274509290461}. Best is trial 51 with value: 0.9026190043028395.\u001b[0m\n"
     ]
    },
    {
     "name": "stdout",
     "output_type": "stream",
     "text": [
      "Overall accuracy: 0.892\n",
      "\n"
     ]
    },
    {
     "name": "stderr",
     "output_type": "stream",
     "text": [
      "\u001b[32m[I 2023-05-11 12:28:52,419]\u001b[0m Trial 78 finished with value: 0.8884576544051943 and parameters: {'C': 108.92452753552107}. Best is trial 51 with value: 0.9026190043028395.\u001b[0m\n"
     ]
    },
    {
     "name": "stdout",
     "output_type": "stream",
     "text": [
      "Overall accuracy: 0.889\n",
      "\n"
     ]
    },
    {
     "name": "stderr",
     "output_type": "stream",
     "text": [
      "\u001b[32m[I 2023-05-11 12:28:56,048]\u001b[0m Trial 79 finished with value: 0.9026117541110974 and parameters: {'C': 5.916004604160539}. Best is trial 51 with value: 0.9026190043028395.\u001b[0m\n"
     ]
    },
    {
     "name": "stdout",
     "output_type": "stream",
     "text": [
      "Overall accuracy: 0.903\n",
      "\n"
     ]
    },
    {
     "name": "stderr",
     "output_type": "stream",
     "text": [
      "\u001b[32m[I 2023-05-11 12:29:00,542]\u001b[0m Trial 80 finished with value: 0.8699720997195979 and parameters: {'C': 0.23943257625981706}. Best is trial 51 with value: 0.9026190043028395.\u001b[0m\n"
     ]
    },
    {
     "name": "stdout",
     "output_type": "stream",
     "text": [
      "Overall accuracy: 0.871\n",
      "\n"
     ]
    },
    {
     "name": "stderr",
     "output_type": "stream",
     "text": [
      "\u001b[32m[I 2023-05-11 12:29:04,286]\u001b[0m Trial 81 finished with value: 0.9006290034046973 and parameters: {'C': 4.98984319743419}. Best is trial 51 with value: 0.9026190043028395.\u001b[0m\n"
     ]
    },
    {
     "name": "stdout",
     "output_type": "stream",
     "text": [
      "Overall accuracy: 0.901\n",
      "\n"
     ]
    },
    {
     "name": "stderr",
     "output_type": "stream",
     "text": [
      "\u001b[32m[I 2023-05-11 12:29:08,127]\u001b[0m Trial 82 finished with value: 0.9014325854721402 and parameters: {'C': 5.248572205428008}. Best is trial 51 with value: 0.9026190043028395.\u001b[0m\n"
     ]
    },
    {
     "name": "stdout",
     "output_type": "stream",
     "text": [
      "Overall accuracy: 0.902\n",
      "\n"
     ]
    },
    {
     "name": "stderr",
     "output_type": "stream",
     "text": [
      "\u001b[32m[I 2023-05-11 12:29:12,276]\u001b[0m Trial 83 finished with value: 0.888059641320966 and parameters: {'C': 35.739056174370724}. Best is trial 51 with value: 0.9026190043028395.\u001b[0m\n"
     ]
    },
    {
     "name": "stdout",
     "output_type": "stream",
     "text": [
      "Overall accuracy: 0.888\n",
      "\n"
     ]
    },
    {
     "name": "stderr",
     "output_type": "stream",
     "text": [
      "\u001b[32m[I 2023-05-11 12:29:16,034]\u001b[0m Trial 84 finished with value: 0.8897907522615864 and parameters: {'C': 0.8433619076848845}. Best is trial 51 with value: 0.9026190043028395.\u001b[0m\n"
     ]
    },
    {
     "name": "stdout",
     "output_type": "stream",
     "text": [
      "Overall accuracy: 0.890\n",
      "\n"
     ]
    },
    {
     "name": "stderr",
     "output_type": "stream",
     "text": [
      "\u001b[32m[I 2023-05-11 12:29:22,981]\u001b[0m Trial 85 finished with value: 0.8026171935177684 and parameters: {'C': 0.04248818058463788}. Best is trial 51 with value: 0.9026190043028395.\u001b[0m\n"
     ]
    },
    {
     "name": "stdout",
     "output_type": "stream",
     "text": [
      "Overall accuracy: 0.803\n",
      "\n"
     ]
    },
    {
     "name": "stderr",
     "output_type": "stream",
     "text": [
      "\u001b[32m[I 2023-05-11 12:29:26,600]\u001b[0m Trial 86 finished with value: 0.8970839825738544 and parameters: {'C': 3.6715847928228422}. Best is trial 51 with value: 0.9026190043028395.\u001b[0m\n"
     ]
    },
    {
     "name": "stdout",
     "output_type": "stream",
     "text": [
      "Overall accuracy: 0.897\n",
      "\n"
     ]
    },
    {
     "name": "stderr",
     "output_type": "stream",
     "text": [
      "\u001b[32m[I 2023-05-11 12:29:30,155]\u001b[0m Trial 87 finished with value: 0.8922137719961076 and parameters: {'C': 1.1531250616442594}. Best is trial 51 with value: 0.9026190043028395.\u001b[0m\n"
     ]
    },
    {
     "name": "stdout",
     "output_type": "stream",
     "text": [
      "Overall accuracy: 0.893\n",
      "\n"
     ]
    },
    {
     "name": "stderr",
     "output_type": "stream",
     "text": [
      "\u001b[32m[I 2023-05-11 12:29:34,302]\u001b[0m Trial 88 finished with value: 0.8876615658718916 and parameters: {'C': 361.69096328607554}. Best is trial 51 with value: 0.9026190043028395.\u001b[0m\n"
     ]
    },
    {
     "name": "stdout",
     "output_type": "stream",
     "text": [
      "Overall accuracy: 0.888\n",
      "\n"
     ]
    },
    {
     "name": "stderr",
     "output_type": "stream",
     "text": [
      "\u001b[32m[I 2023-05-11 12:29:39,509]\u001b[0m Trial 89 finished with value: 0.8633177867828835 and parameters: {'C': 0.19644296924380322}. Best is trial 51 with value: 0.9026190043028395.\u001b[0m\n"
     ]
    },
    {
     "name": "stdout",
     "output_type": "stream",
     "text": [
      "Overall accuracy: 0.864\n",
      "\n"
     ]
    },
    {
     "name": "stderr",
     "output_type": "stream",
     "text": [
      "\u001b[32m[I 2023-05-11 12:29:43,379]\u001b[0m Trial 90 finished with value: 0.8892382456491282 and parameters: {'C': 65.11538701660669}. Best is trial 51 with value: 0.9026190043028395.\u001b[0m\n"
     ]
    },
    {
     "name": "stdout",
     "output_type": "stream",
     "text": [
      "Overall accuracy: 0.889\n",
      "\n"
     ]
    },
    {
     "name": "stderr",
     "output_type": "stream",
     "text": [
      "\u001b[32m[I 2023-05-11 12:29:47,267]\u001b[0m Trial 91 finished with value: 0.9018304942162225 and parameters: {'C': 6.396817441315678}. Best is trial 51 with value: 0.9026190043028395.\u001b[0m\n"
     ]
    },
    {
     "name": "stdout",
     "output_type": "stream",
     "text": [
      "Overall accuracy: 0.902\n",
      "\n"
     ]
    },
    {
     "name": "stderr",
     "output_type": "stream",
     "text": [
      "\u001b[32m[I 2023-05-11 12:29:50,829]\u001b[0m Trial 92 finished with value: 0.9002308203406721 and parameters: {'C': 4.94526868891722}. Best is trial 51 with value: 0.9026190043028395.\u001b[0m\n"
     ]
    },
    {
     "name": "stdout",
     "output_type": "stream",
     "text": [
      "Overall accuracy: 0.900\n",
      "\n"
     ]
    },
    {
     "name": "stderr",
     "output_type": "stream",
     "text": [
      "\u001b[32m[I 2023-05-11 12:29:55,067]\u001b[0m Trial 93 finished with value: 0.8896206570777947 and parameters: {'C': 25.62808152349652}. Best is trial 51 with value: 0.9026190043028395.\u001b[0m\n"
     ]
    },
    {
     "name": "stdout",
     "output_type": "stream",
     "text": [
      "Overall accuracy: 0.890\n",
      "\n"
     ]
    },
    {
     "name": "stderr",
     "output_type": "stream",
     "text": [
      "\u001b[32m[I 2023-05-11 12:29:58,746]\u001b[0m Trial 94 finished with value: 0.8961814644875747 and parameters: {'C': 1.4925055175763668}. Best is trial 51 with value: 0.9026190043028395.\u001b[0m\n"
     ]
    },
    {
     "name": "stdout",
     "output_type": "stream",
     "text": [
      "Overall accuracy: 0.897\n",
      "\n"
     ]
    },
    {
     "name": "stderr",
     "output_type": "stream",
     "text": [
      "\u001b[32m[I 2023-05-11 12:30:02,836]\u001b[0m Trial 95 finished with value: 0.8951396242239049 and parameters: {'C': 18.269685803938803}. Best is trial 51 with value: 0.9026190043028395.\u001b[0m\n"
     ]
    },
    {
     "name": "stdout",
     "output_type": "stream",
     "text": [
      "Overall accuracy: 0.895\n",
      "\n"
     ]
    },
    {
     "name": "stderr",
     "output_type": "stream",
     "text": [
      "\u001b[32m[I 2023-05-11 12:30:06,946]\u001b[0m Trial 96 finished with value: 0.8990593899684809 and parameters: {'C': 4.447881192079469}. Best is trial 51 with value: 0.9026190043028395.\u001b[0m\n"
     ]
    },
    {
     "name": "stdout",
     "output_type": "stream",
     "text": [
      "Overall accuracy: 0.899\n",
      "\n"
     ]
    },
    {
     "name": "stderr",
     "output_type": "stream",
     "text": [
      "\u001b[32m[I 2023-05-11 12:30:11,503]\u001b[0m Trial 97 finished with value: 0.8892459395330727 and parameters: {'C': 78.53267458701973}. Best is trial 51 with value: 0.9026190043028395.\u001b[0m\n"
     ]
    },
    {
     "name": "stdout",
     "output_type": "stream",
     "text": [
      "Overall accuracy: 0.889\n",
      "\n"
     ]
    },
    {
     "name": "stderr",
     "output_type": "stream",
     "text": [
      "\u001b[32m[I 2023-05-11 12:30:15,946]\u001b[0m Trial 98 finished with value: 0.881439885077843 and parameters: {'C': 0.5232727045731637}. Best is trial 51 with value: 0.9026190043028395.\u001b[0m\n"
     ]
    },
    {
     "name": "stdout",
     "output_type": "stream",
     "text": [
      "Overall accuracy: 0.882\n",
      "\n"
     ]
    },
    {
     "name": "stderr",
     "output_type": "stream",
     "text": [
      "\u001b[32m[I 2023-05-11 12:30:20,423]\u001b[0m Trial 99 finished with value: 0.8892382456491282 and parameters: {'C': 147.86305195288227}. Best is trial 51 with value: 0.9026190043028395.\u001b[0m\n"
     ]
    },
    {
     "name": "stdout",
     "output_type": "stream",
     "text": [
      "Overall accuracy: 0.889\n",
      "\n",
      "Best f1 Score: 0.9026190043028395\n",
      "Best Hyperparameters: {'C': 6.235025326196079}\n"
     ]
    },
    {
     "name": "stderr",
     "output_type": "stream",
     "text": [
      "\u001b[32m[I 2023-05-11 12:30:21,454]\u001b[0m A new study created in memory with name: no-name-2f486d8d-ea78-4ae1-a861-74dd44c7d822\u001b[0m\n"
     ]
    },
    {
     "name": "stdout",
     "output_type": "stream",
     "text": [
      "\n",
      "\n",
      "\n",
      "Feature Type: RScharge | Training Model: RandomForest\n"
     ]
    },
    {
     "name": "stderr",
     "output_type": "stream",
     "text": [
      "\u001b[32m[I 2023-05-11 12:30:24,048]\u001b[0m Trial 0 finished with value: 0.8806871024374716 and parameters: {'n_estimators': 53, 'max_depth': 57, 'criterion': 'gini'}. Best is trial 0 with value: 0.8806871024374716.\u001b[0m\n"
     ]
    },
    {
     "name": "stdout",
     "output_type": "stream",
     "text": [
      "Overall accuracy: 0.881\n",
      "\n"
     ]
    },
    {
     "name": "stderr",
     "output_type": "stream",
     "text": [
      "\u001b[32m[I 2023-05-11 12:30:35,646]\u001b[0m Trial 1 finished with value: 0.8926994721133839 and parameters: {'n_estimators': 199, 'max_depth': 64, 'criterion': 'entropy'}. Best is trial 1 with value: 0.8926994721133839.\u001b[0m\n"
     ]
    },
    {
     "name": "stdout",
     "output_type": "stream",
     "text": [
      "Overall accuracy: 0.893\n",
      "\n"
     ]
    },
    {
     "name": "stderr",
     "output_type": "stream",
     "text": [
      "\u001b[32m[I 2023-05-11 12:30:38,933]\u001b[0m Trial 2 finished with value: 0.8796559007196494 and parameters: {'n_estimators': 57, 'max_depth': 55, 'criterion': 'entropy'}. Best is trial 1 with value: 0.8926994721133839.\u001b[0m\n"
     ]
    },
    {
     "name": "stdout",
     "output_type": "stream",
     "text": [
      "Overall accuracy: 0.880\n",
      "\n"
     ]
    },
    {
     "name": "stderr",
     "output_type": "stream",
     "text": [
      "\u001b[32m[I 2023-05-11 12:30:45,473]\u001b[0m Trial 3 finished with value: 0.8846496928919132 and parameters: {'n_estimators': 134, 'max_depth': 35, 'criterion': 'gini'}. Best is trial 1 with value: 0.8926994721133839.\u001b[0m\n"
     ]
    },
    {
     "name": "stdout",
     "output_type": "stream",
     "text": [
      "Overall accuracy: 0.885\n",
      "\n"
     ]
    },
    {
     "name": "stderr",
     "output_type": "stream",
     "text": [
      "\u001b[32m[I 2023-05-11 12:30:51,469]\u001b[0m Trial 4 finished with value: 0.8871766508251022 and parameters: {'n_estimators': 111, 'max_depth': 9, 'criterion': 'entropy'}. Best is trial 1 with value: 0.8926994721133839.\u001b[0m\n"
     ]
    },
    {
     "name": "stdout",
     "output_type": "stream",
     "text": [
      "Overall accuracy: 0.887\n",
      "\n"
     ]
    },
    {
     "name": "stderr",
     "output_type": "stream",
     "text": [
      "\u001b[32m[I 2023-05-11 12:30:56,298]\u001b[0m Trial 5 finished with value: 0.8816732207227338 and parameters: {'n_estimators': 91, 'max_depth': 9, 'criterion': 'entropy'}. Best is trial 1 with value: 0.8926994721133839.\u001b[0m\n"
     ]
    },
    {
     "name": "stdout",
     "output_type": "stream",
     "text": [
      "Overall accuracy: 0.882\n",
      "\n"
     ]
    },
    {
     "name": "stderr",
     "output_type": "stream",
     "text": [
      "\u001b[32m[I 2023-05-11 12:31:03,962]\u001b[0m Trial 6 finished with value: 0.8895705140736465 and parameters: {'n_estimators': 131, 'max_depth': 56, 'criterion': 'entropy'}. Best is trial 1 with value: 0.8926994721133839.\u001b[0m\n"
     ]
    },
    {
     "name": "stdout",
     "output_type": "stream",
     "text": [
      "Overall accuracy: 0.890\n",
      "\n"
     ]
    },
    {
     "name": "stderr",
     "output_type": "stream",
     "text": [
      "\u001b[32m[I 2023-05-11 12:31:08,584]\u001b[0m Trial 7 finished with value: 0.8736750038513718 and parameters: {'n_estimators': 158, 'max_depth': 5, 'criterion': 'gini'}. Best is trial 1 with value: 0.8926994721133839.\u001b[0m\n"
     ]
    },
    {
     "name": "stdout",
     "output_type": "stream",
     "text": [
      "Overall accuracy: 0.874\n",
      "\n"
     ]
    },
    {
     "name": "stderr",
     "output_type": "stream",
     "text": [
      "\u001b[32m[I 2023-05-11 12:31:23,972]\u001b[0m Trial 8 finished with value: 0.8918734475906607 and parameters: {'n_estimators': 265, 'max_depth': 53, 'criterion': 'entropy'}. Best is trial 1 with value: 0.8926994721133839.\u001b[0m\n",
      "\u001b[32m[I 2023-05-11 12:31:24,176]\u001b[0m Trial 9 finished with value: 0.8317457881573145 and parameters: {'n_estimators': 3, 'max_depth': 39, 'criterion': 'entropy'}. Best is trial 1 with value: 0.8926994721133839.\u001b[0m\n"
     ]
    },
    {
     "name": "stdout",
     "output_type": "stream",
     "text": [
      "Overall accuracy: 0.892\n",
      "\n",
      "Overall accuracy: 0.832\n",
      "\n"
     ]
    },
    {
     "name": "stderr",
     "output_type": "stream",
     "text": [
      "\u001b[32m[I 2023-05-11 12:31:35,924]\u001b[0m Trial 10 finished with value: 0.8874970242545961 and parameters: {'n_estimators': 223, 'max_depth': 25, 'criterion': 'gini'}. Best is trial 1 with value: 0.8926994721133839.\u001b[0m\n"
     ]
    },
    {
     "name": "stdout",
     "output_type": "stream",
     "text": [
      "Overall accuracy: 0.888\n",
      "\n"
     ]
    },
    {
     "name": "stderr",
     "output_type": "stream",
     "text": [
      "\u001b[32m[I 2023-05-11 12:31:53,260]\u001b[0m Trial 11 finished with value: 0.8923182700315286 and parameters: {'n_estimators': 297, 'max_depth': 46, 'criterion': 'entropy'}. Best is trial 1 with value: 0.8926994721133839.\u001b[0m\n"
     ]
    },
    {
     "name": "stdout",
     "output_type": "stream",
     "text": [
      "Overall accuracy: 0.893\n",
      "\n"
     ]
    },
    {
     "name": "stderr",
     "output_type": "stream",
     "text": [
      "\u001b[32m[I 2023-05-11 12:32:10,621]\u001b[0m Trial 12 finished with value: 0.8867581754312766 and parameters: {'n_estimators': 297, 'max_depth': 64, 'criterion': 'entropy'}. Best is trial 1 with value: 0.8926994721133839.\u001b[0m\n"
     ]
    },
    {
     "name": "stdout",
     "output_type": "stream",
     "text": [
      "Overall accuracy: 0.887\n",
      "\n"
     ]
    },
    {
     "name": "stderr",
     "output_type": "stream",
     "text": [
      "\u001b[32m[I 2023-05-11 12:32:23,942]\u001b[0m Trial 13 finished with value: 0.8911215231738747 and parameters: {'n_estimators': 206, 'max_depth': 45, 'criterion': 'entropy'}. Best is trial 1 with value: 0.8926994721133839.\u001b[0m\n"
     ]
    },
    {
     "name": "stdout",
     "output_type": "stream",
     "text": [
      "Overall accuracy: 0.891\n",
      "\n"
     ]
    },
    {
     "name": "stderr",
     "output_type": "stream",
     "text": [
      "\u001b[32m[I 2023-05-11 12:32:35,648]\u001b[0m Trial 14 finished with value: 0.8868052634526913 and parameters: {'n_estimators': 194, 'max_depth': 23, 'criterion': 'entropy'}. Best is trial 1 with value: 0.8926994721133839.\u001b[0m\n"
     ]
    },
    {
     "name": "stdout",
     "output_type": "stream",
     "text": [
      "Overall accuracy: 0.887\n",
      "\n"
     ]
    },
    {
     "name": "stderr",
     "output_type": "stream",
     "text": [
      "\u001b[32m[I 2023-05-11 12:32:50,520]\u001b[0m Trial 15 finished with value: 0.8915023215135196 and parameters: {'n_estimators': 254, 'max_depth': 45, 'criterion': 'entropy'}. Best is trial 1 with value: 0.8926994721133839.\u001b[0m\n"
     ]
    },
    {
     "name": "stdout",
     "output_type": "stream",
     "text": [
      "Overall accuracy: 0.892\n",
      "\n"
     ]
    },
    {
     "name": "stderr",
     "output_type": "stream",
     "text": [
      "\u001b[32m[I 2023-05-11 12:33:08,473]\u001b[0m Trial 16 finished with value: 0.8906943823723592 and parameters: {'n_estimators': 298, 'max_depth': 64, 'criterion': 'entropy'}. Best is trial 1 with value: 0.8926994721133839.\u001b[0m\n"
     ]
    },
    {
     "name": "stdout",
     "output_type": "stream",
     "text": [
      "Overall accuracy: 0.891\n",
      "\n"
     ]
    },
    {
     "name": "stderr",
     "output_type": "stream",
     "text": [
      "\u001b[32m[I 2023-05-11 12:33:19,269]\u001b[0m Trial 17 finished with value: 0.890758009102284 and parameters: {'n_estimators': 184, 'max_depth': 46, 'criterion': 'entropy'}. Best is trial 1 with value: 0.8926994721133839.\u001b[0m\n"
     ]
    },
    {
     "name": "stdout",
     "output_type": "stream",
     "text": [
      "Overall accuracy: 0.891\n",
      "\n"
     ]
    },
    {
     "name": "stderr",
     "output_type": "stream",
     "text": [
      "\u001b[32m[I 2023-05-11 12:33:31,048]\u001b[0m Trial 18 finished with value: 0.8866533167259201 and parameters: {'n_estimators': 240, 'max_depth': 27, 'criterion': 'gini'}. Best is trial 1 with value: 0.8926994721133839.\u001b[0m\n"
     ]
    },
    {
     "name": "stdout",
     "output_type": "stream",
     "text": [
      "Overall accuracy: 0.887\n",
      "\n"
     ]
    },
    {
     "name": "stderr",
     "output_type": "stream",
     "text": [
      "\u001b[32m[I 2023-05-11 12:33:41,570]\u001b[0m Trial 19 finished with value: 0.8903045622557886 and parameters: {'n_estimators': 172, 'max_depth': 17, 'criterion': 'entropy'}. Best is trial 1 with value: 0.8926994721133839.\u001b[0m\n"
     ]
    },
    {
     "name": "stdout",
     "output_type": "stream",
     "text": [
      "Overall accuracy: 0.891\n",
      "\n"
     ]
    },
    {
     "name": "stderr",
     "output_type": "stream",
     "text": [
      "\u001b[32m[I 2023-05-11 12:33:57,777]\u001b[0m Trial 20 finished with value: 0.890314028857377 and parameters: {'n_estimators': 271, 'max_depth': 38, 'criterion': 'entropy'}. Best is trial 1 with value: 0.8926994721133839.\u001b[0m\n"
     ]
    },
    {
     "name": "stdout",
     "output_type": "stream",
     "text": [
      "Overall accuracy: 0.891\n",
      "\n"
     ]
    },
    {
     "name": "stderr",
     "output_type": "stream",
     "text": [
      "\u001b[32m[I 2023-05-11 12:34:14,424]\u001b[0m Trial 21 finished with value: 0.8875664444647575 and parameters: {'n_estimators': 271, 'max_depth': 51, 'criterion': 'entropy'}. Best is trial 1 with value: 0.8926994721133839.\u001b[0m\n"
     ]
    },
    {
     "name": "stdout",
     "output_type": "stream",
     "text": [
      "Overall accuracy: 0.888\n",
      "\n"
     ]
    },
    {
     "name": "stderr",
     "output_type": "stream",
     "text": [
      "\u001b[32m[I 2023-05-11 12:34:28,084]\u001b[0m Trial 22 finished with value: 0.8863487332339791 and parameters: {'n_estimators': 228, 'max_depth': 51, 'criterion': 'entropy'}. Best is trial 1 with value: 0.8926994721133839.\u001b[0m\n"
     ]
    },
    {
     "name": "stdout",
     "output_type": "stream",
     "text": [
      "Overall accuracy: 0.887\n",
      "\n"
     ]
    },
    {
     "name": "stderr",
     "output_type": "stream",
     "text": [
      "\u001b[32m[I 2023-05-11 12:34:45,762]\u001b[0m Trial 23 finished with value: 0.8903325487041204 and parameters: {'n_estimators': 273, 'max_depth': 60, 'criterion': 'entropy'}. Best is trial 1 with value: 0.8926994721133839.\u001b[0m\n"
     ]
    },
    {
     "name": "stdout",
     "output_type": "stream",
     "text": [
      "Overall accuracy: 0.891\n",
      "\n"
     ]
    },
    {
     "name": "stderr",
     "output_type": "stream",
     "text": [
      "\u001b[32m[I 2023-05-11 12:34:58,189]\u001b[0m Trial 24 finished with value: 0.890314028857377 and parameters: {'n_estimators': 210, 'max_depth': 50, 'criterion': 'entropy'}. Best is trial 1 with value: 0.8926994721133839.\u001b[0m\n"
     ]
    },
    {
     "name": "stdout",
     "output_type": "stream",
     "text": [
      "Overall accuracy: 0.891\n",
      "\n"
     ]
    },
    {
     "name": "stderr",
     "output_type": "stream",
     "text": [
      "\u001b[32m[I 2023-05-11 12:35:12,907]\u001b[0m Trial 25 finished with value: 0.8887262106335698 and parameters: {'n_estimators': 251, 'max_depth': 41, 'criterion': 'entropy'}. Best is trial 1 with value: 0.8926994721133839.\u001b[0m\n"
     ]
    },
    {
     "name": "stdout",
     "output_type": "stream",
     "text": [
      "Overall accuracy: 0.889\n",
      "\n"
     ]
    },
    {
     "name": "stderr",
     "output_type": "stream",
     "text": [
      "\u001b[32m[I 2023-05-11 12:35:27,641]\u001b[0m Trial 26 finished with value: 0.8850959941060053 and parameters: {'n_estimators': 292, 'max_depth': 59, 'criterion': 'gini'}. Best is trial 1 with value: 0.8926994721133839.\u001b[0m\n"
     ]
    },
    {
     "name": "stdout",
     "output_type": "stream",
     "text": [
      "Overall accuracy: 0.886\n",
      "\n"
     ]
    },
    {
     "name": "stderr",
     "output_type": "stream",
     "text": [
      "\u001b[32m[I 2023-05-11 12:35:43,555]\u001b[0m Trial 27 finished with value: 0.8895435742343658 and parameters: {'n_estimators': 260, 'max_depth': 49, 'criterion': 'entropy'}. Best is trial 1 with value: 0.8926994721133839.\u001b[0m\n"
     ]
    },
    {
     "name": "stdout",
     "output_type": "stream",
     "text": [
      "Overall accuracy: 0.890\n",
      "\n"
     ]
    },
    {
     "name": "stderr",
     "output_type": "stream",
     "text": [
      "\u001b[32m[I 2023-05-11 12:35:57,873]\u001b[0m Trial 28 finished with value: 0.8887637834130415 and parameters: {'n_estimators': 238, 'max_depth': 31, 'criterion': 'entropy'}. Best is trial 1 with value: 0.8926994721133839.\u001b[0m\n"
     ]
    },
    {
     "name": "stdout",
     "output_type": "stream",
     "text": [
      "Overall accuracy: 0.889\n",
      "\n"
     ]
    },
    {
     "name": "stderr",
     "output_type": "stream",
     "text": [
      "\u001b[32m[I 2023-05-11 12:36:08,781]\u001b[0m Trial 29 finished with value: 0.8874206609123734 and parameters: {'n_estimators': 217, 'max_depth': 55, 'criterion': 'gini'}. Best is trial 1 with value: 0.8926994721133839.\u001b[0m\n"
     ]
    },
    {
     "name": "stdout",
     "output_type": "stream",
     "text": [
      "Overall accuracy: 0.888\n",
      "\n"
     ]
    },
    {
     "name": "stderr",
     "output_type": "stream",
     "text": [
      "\u001b[32m[I 2023-05-11 12:36:25,636]\u001b[0m Trial 30 finished with value: 0.890314028857377 and parameters: {'n_estimators': 279, 'max_depth': 60, 'criterion': 'entropy'}. Best is trial 1 with value: 0.8926994721133839.\u001b[0m\n"
     ]
    },
    {
     "name": "stdout",
     "output_type": "stream",
     "text": [
      "Overall accuracy: 0.891\n",
      "\n"
     ]
    },
    {
     "name": "stderr",
     "output_type": "stream",
     "text": [
      "\u001b[32m[I 2023-05-11 12:36:40,859]\u001b[0m Trial 31 finished with value: 0.8942595673876872 and parameters: {'n_estimators': 252, 'max_depth': 45, 'criterion': 'entropy'}. Best is trial 31 with value: 0.8942595673876872.\u001b[0m\n"
     ]
    },
    {
     "name": "stdout",
     "output_type": "stream",
     "text": [
      "Overall accuracy: 0.895\n",
      "\n"
     ]
    },
    {
     "name": "stderr",
     "output_type": "stream",
     "text": [
      "\u001b[32m[I 2023-05-11 12:36:55,211]\u001b[0m Trial 32 finished with value: 0.8880017772570669 and parameters: {'n_estimators': 244, 'max_depth': 42, 'criterion': 'entropy'}. Best is trial 31 with value: 0.8942595673876872.\u001b[0m\n"
     ]
    },
    {
     "name": "stdout",
     "output_type": "stream",
     "text": [
      "Overall accuracy: 0.888\n",
      "\n"
     ]
    },
    {
     "name": "stderr",
     "output_type": "stream",
     "text": [
      "\u001b[32m[I 2023-05-11 12:37:06,285]\u001b[0m Trial 33 finished with value: 0.8895792170140095 and parameters: {'n_estimators': 189, 'max_depth': 55, 'criterion': 'entropy'}. Best is trial 31 with value: 0.8942595673876872.\u001b[0m\n"
     ]
    },
    {
     "name": "stdout",
     "output_type": "stream",
     "text": [
      "Overall accuracy: 0.890\n",
      "\n"
     ]
    },
    {
     "name": "stderr",
     "output_type": "stream",
     "text": [
      "\u001b[32m[I 2023-05-11 12:37:22,950]\u001b[0m Trial 34 finished with value: 0.8926904794275203 and parameters: {'n_estimators': 283, 'max_depth': 35, 'criterion': 'entropy'}. Best is trial 31 with value: 0.8942595673876872.\u001b[0m\n"
     ]
    },
    {
     "name": "stdout",
     "output_type": "stream",
     "text": [
      "Overall accuracy: 0.893\n",
      "\n"
     ]
    },
    {
     "name": "stderr",
     "output_type": "stream",
     "text": [
      "\u001b[32m[I 2023-05-11 12:37:39,917]\u001b[0m Trial 35 finished with value: 0.8867581754312766 and parameters: {'n_estimators': 288, 'max_depth': 30, 'criterion': 'entropy'}. Best is trial 31 with value: 0.8942595673876872.\u001b[0m\n"
     ]
    },
    {
     "name": "stdout",
     "output_type": "stream",
     "text": [
      "Overall accuracy: 0.887\n",
      "\n"
     ]
    },
    {
     "name": "stderr",
     "output_type": "stream",
     "text": [
      "\u001b[32m[I 2023-05-11 12:37:43,842]\u001b[0m Trial 36 finished with value: 0.8867774370574929 and parameters: {'n_estimators': 67, 'max_depth': 36, 'criterion': 'entropy'}. Best is trial 31 with value: 0.8942595673876872.\u001b[0m\n"
     ]
    },
    {
     "name": "stdout",
     "output_type": "stream",
     "text": [
      "Overall accuracy: 0.887\n",
      "\n"
     ]
    },
    {
     "name": "stderr",
     "output_type": "stream",
     "text": [
      "\u001b[32m[I 2023-05-11 12:37:52,038]\u001b[0m Trial 37 finished with value: 0.8878760487430615 and parameters: {'n_estimators': 165, 'max_depth': 34, 'criterion': 'gini'}. Best is trial 31 with value: 0.8942595673876872.\u001b[0m\n"
     ]
    },
    {
     "name": "stdout",
     "output_type": "stream",
     "text": [
      "Overall accuracy: 0.888\n",
      "\n"
     ]
    },
    {
     "name": "stderr",
     "output_type": "stream",
     "text": [
      "\u001b[32m[I 2023-05-11 12:38:00,015]\u001b[0m Trial 38 finished with value: 0.8868231044971261 and parameters: {'n_estimators': 135, 'max_depth': 19, 'criterion': 'entropy'}. Best is trial 31 with value: 0.8942595673876872.\u001b[0m\n"
     ]
    },
    {
     "name": "stdout",
     "output_type": "stream",
     "text": [
      "Overall accuracy: 0.887\n",
      "\n"
     ]
    },
    {
     "name": "stderr",
     "output_type": "stream",
     "text": [
      "\u001b[32m[I 2023-05-11 12:38:16,631]\u001b[0m Trial 39 finished with value: 0.8907132474881635 and parameters: {'n_estimators': 280, 'max_depth': 42, 'criterion': 'entropy'}. Best is trial 31 with value: 0.8942595673876872.\u001b[0m\n"
     ]
    },
    {
     "name": "stdout",
     "output_type": "stream",
     "text": [
      "Overall accuracy: 0.891\n",
      "\n"
     ]
    },
    {
     "name": "stderr",
     "output_type": "stream",
     "text": [
      "\u001b[32m[I 2023-05-11 12:38:28,496]\u001b[0m Trial 40 finished with value: 0.8843062758524383 and parameters: {'n_estimators': 235, 'max_depth': 37, 'criterion': 'gini'}. Best is trial 31 with value: 0.8942595673876872.\u001b[0m\n"
     ]
    },
    {
     "name": "stdout",
     "output_type": "stream",
     "text": [
      "Overall accuracy: 0.885\n",
      "\n"
     ]
    },
    {
     "name": "stderr",
     "output_type": "stream",
     "text": [
      "\u001b[32m[I 2023-05-11 12:38:44,269]\u001b[0m Trial 41 finished with value: 0.8875473170659018 and parameters: {'n_estimators': 265, 'max_depth': 53, 'criterion': 'entropy'}. Best is trial 31 with value: 0.8942595673876872.\u001b[0m\n"
     ]
    },
    {
     "name": "stdout",
     "output_type": "stream",
     "text": [
      "Overall accuracy: 0.888\n",
      "\n"
     ]
    },
    {
     "name": "stderr",
     "output_type": "stream",
     "text": [
      "\u001b[32m[I 2023-05-11 12:38:59,653]\u001b[0m Trial 42 finished with value: 0.8886864000149071 and parameters: {'n_estimators': 254, 'max_depth': 46, 'criterion': 'entropy'}. Best is trial 31 with value: 0.8942595673876872.\u001b[0m\n"
     ]
    },
    {
     "name": "stdout",
     "output_type": "stream",
     "text": [
      "Overall accuracy: 0.889\n",
      "\n"
     ]
    },
    {
     "name": "stderr",
     "output_type": "stream",
     "text": [
      "\u001b[32m[I 2023-05-11 12:39:17,354]\u001b[0m Trial 43 finished with value: 0.8926994721133839 and parameters: {'n_estimators': 300, 'max_depth': 58, 'criterion': 'entropy'}. Best is trial 31 with value: 0.8942595673876872.\u001b[0m\n"
     ]
    },
    {
     "name": "stdout",
     "output_type": "stream",
     "text": [
      "Overall accuracy: 0.893\n",
      "\n"
     ]
    },
    {
     "name": "stderr",
     "output_type": "stream",
     "text": [
      "\u001b[32m[I 2023-05-11 12:39:34,784]\u001b[0m Trial 44 finished with value: 0.8926994721133839 and parameters: {'n_estimators': 286, 'max_depth': 62, 'criterion': 'entropy'}. Best is trial 31 with value: 0.8942595673876872.\u001b[0m\n",
      "\u001b[32m[I 2023-05-11 12:39:34,941]\u001b[0m Trial 45 finished with value: 0.7843183239524703 and parameters: {'n_estimators': 2, 'max_depth': 62, 'criterion': 'entropy'}. Best is trial 31 with value: 0.8942595673876872.\u001b[0m\n"
     ]
    },
    {
     "name": "stdout",
     "output_type": "stream",
     "text": [
      "Overall accuracy: 0.893\n",
      "\n",
      "Overall accuracy: 0.790\n",
      "\n"
     ]
    },
    {
     "name": "stderr",
     "output_type": "stream",
     "text": [
      "\u001b[32m[I 2023-05-11 12:39:52,647]\u001b[0m Trial 46 finished with value: 0.888735813445253 and parameters: {'n_estimators': 285, 'max_depth': 58, 'criterion': 'entropy'}. Best is trial 31 with value: 0.8942595673876872.\u001b[0m\n"
     ]
    },
    {
     "name": "stdout",
     "output_type": "stream",
     "text": [
      "Overall accuracy: 0.889\n",
      "\n"
     ]
    },
    {
     "name": "stderr",
     "output_type": "stream",
     "text": [
      "\u001b[32m[I 2023-05-11 12:39:58,832]\u001b[0m Trial 47 finished with value: 0.8891256003351523 and parameters: {'n_estimators': 102, 'max_depth': 58, 'criterion': 'entropy'}. Best is trial 31 with value: 0.8942595673876872.\u001b[0m\n"
     ]
    },
    {
     "name": "stdout",
     "output_type": "stream",
     "text": [
      "Overall accuracy: 0.889\n",
      "\n"
     ]
    },
    {
     "name": "stderr",
     "output_type": "stream",
     "text": [
      "\u001b[32m[I 2023-05-11 12:40:00,328]\u001b[0m Trial 48 finished with value: 0.8738430234000844 and parameters: {'n_estimators': 23, 'max_depth': 64, 'criterion': 'entropy'}. Best is trial 31 with value: 0.8942595673876872.\u001b[0m\n"
     ]
    },
    {
     "name": "stdout",
     "output_type": "stream",
     "text": [
      "Overall accuracy: 0.874\n",
      "\n"
     ]
    },
    {
     "name": "stderr",
     "output_type": "stream",
     "text": [
      "\u001b[32m[I 2023-05-11 12:40:18,743]\u001b[0m Trial 49 finished with value: 0.8891717039380009 and parameters: {'n_estimators': 299, 'max_depth': 62, 'criterion': 'entropy'}. Best is trial 31 with value: 0.8942595673876872.\u001b[0m\n"
     ]
    },
    {
     "name": "stdout",
     "output_type": "stream",
     "text": [
      "Overall accuracy: 0.889\n",
      "\n"
     ]
    },
    {
     "name": "stderr",
     "output_type": "stream",
     "text": [
      "\u001b[32m[I 2023-05-11 12:40:31,175]\u001b[0m Trial 50 finished with value: 0.8934328792034343 and parameters: {'n_estimators': 204, 'max_depth': 55, 'criterion': 'entropy'}. Best is trial 31 with value: 0.8942595673876872.\u001b[0m\n"
     ]
    },
    {
     "name": "stdout",
     "output_type": "stream",
     "text": [
      "Overall accuracy: 0.894\n",
      "\n"
     ]
    },
    {
     "name": "stderr",
     "output_type": "stream",
     "text": [
      "\u001b[32m[I 2023-05-11 12:40:44,354]\u001b[0m Trial 51 finished with value: 0.8906847437208085 and parameters: {'n_estimators': 217, 'max_depth': 56, 'criterion': 'entropy'}. Best is trial 31 with value: 0.8942595673876872.\u001b[0m\n"
     ]
    },
    {
     "name": "stdout",
     "output_type": "stream",
     "text": [
      "Overall accuracy: 0.891\n",
      "\n"
     ]
    },
    {
     "name": "stderr",
     "output_type": "stream",
     "text": [
      "\u001b[32m[I 2023-05-11 12:40:46,475]\u001b[0m Trial 52 finished with value: 0.8341671264333538 and parameters: {'n_estimators': 146, 'max_depth': 1, 'criterion': 'entropy'}. Best is trial 31 with value: 0.8942595673876872.\u001b[0m\n"
     ]
    },
    {
     "name": "stdout",
     "output_type": "stream",
     "text": [
      "Overall accuracy: 0.835\n",
      "\n"
     ]
    },
    {
     "name": "stderr",
     "output_type": "stream",
     "text": [
      "\u001b[32m[I 2023-05-11 12:40:59,094]\u001b[0m Trial 53 finished with value: 0.8883738843183979 and parameters: {'n_estimators': 205, 'max_depth': 53, 'criterion': 'entropy'}. Best is trial 31 with value: 0.8942595673876872.\u001b[0m\n"
     ]
    },
    {
     "name": "stdout",
     "output_type": "stream",
     "text": [
      "Overall accuracy: 0.889\n",
      "\n"
     ]
    },
    {
     "name": "stderr",
     "output_type": "stream",
     "text": [
      "\u001b[32m[I 2023-05-11 12:41:13,939]\u001b[0m Trial 54 finished with value: 0.8867774370574929 and parameters: {'n_estimators': 253, 'max_depth': 62, 'criterion': 'entropy'}. Best is trial 31 with value: 0.8942595673876872.\u001b[0m\n"
     ]
    },
    {
     "name": "stdout",
     "output_type": "stream",
     "text": [
      "Overall accuracy: 0.887\n",
      "\n"
     ]
    },
    {
     "name": "stderr",
     "output_type": "stream",
     "text": [
      "\u001b[32m[I 2023-05-11 12:41:27,489]\u001b[0m Trial 55 finished with value: 0.8899605174331041 and parameters: {'n_estimators': 232, 'max_depth': 48, 'criterion': 'entropy'}. Best is trial 31 with value: 0.8942595673876872.\u001b[0m\n"
     ]
    },
    {
     "name": "stdout",
     "output_type": "stream",
     "text": [
      "Overall accuracy: 0.890\n",
      "\n"
     ]
    },
    {
     "name": "stderr",
     "output_type": "stream",
     "text": [
      "\u001b[32m[I 2023-05-11 12:41:43,957]\u001b[0m Trial 56 finished with value: 0.8915023215135196 and parameters: {'n_estimators': 282, 'max_depth': 54, 'criterion': 'entropy'}. Best is trial 31 with value: 0.8942595673876872.\u001b[0m\n"
     ]
    },
    {
     "name": "stdout",
     "output_type": "stream",
     "text": [
      "Overall accuracy: 0.892\n",
      "\n"
     ]
    },
    {
     "name": "stderr",
     "output_type": "stream",
     "text": [
      "\u001b[32m[I 2023-05-11 12:41:53,976]\u001b[0m Trial 57 finished with value: 0.887854590373671 and parameters: {'n_estimators': 201, 'max_depth': 61, 'criterion': 'gini'}. Best is trial 31 with value: 0.8942595673876872.\u001b[0m\n"
     ]
    },
    {
     "name": "stdout",
     "output_type": "stream",
     "text": [
      "Overall accuracy: 0.888\n",
      "\n"
     ]
    },
    {
     "name": "stderr",
     "output_type": "stream",
     "text": [
      "\u001b[32m[I 2023-05-11 12:42:09,829]\u001b[0m Trial 58 finished with value: 0.8903233576501862 and parameters: {'n_estimators': 263, 'max_depth': 57, 'criterion': 'entropy'}. Best is trial 31 with value: 0.8942595673876872.\u001b[0m\n"
     ]
    },
    {
     "name": "stdout",
     "output_type": "stream",
     "text": [
      "Overall accuracy: 0.891\n",
      "\n"
     ]
    },
    {
     "name": "stderr",
     "output_type": "stream",
     "text": [
      "\u001b[32m[I 2023-05-11 12:42:20,148]\u001b[0m Trial 59 finished with value: 0.8891350994374511 and parameters: {'n_estimators': 177, 'max_depth': 52, 'criterion': 'entropy'}. Best is trial 31 with value: 0.8942595673876872.\u001b[0m\n"
     ]
    },
    {
     "name": "stdout",
     "output_type": "stream",
     "text": [
      "Overall accuracy: 0.889\n",
      "\n"
     ]
    },
    {
     "name": "stderr",
     "output_type": "stream",
     "text": [
      "\u001b[32m[I 2023-05-11 12:42:36,057]\u001b[0m Trial 60 finished with value: 0.8922821668736534 and parameters: {'n_estimators': 273, 'max_depth': 40, 'criterion': 'entropy'}. Best is trial 31 with value: 0.8942595673876872.\u001b[0m\n"
     ]
    },
    {
     "name": "stdout",
     "output_type": "stream",
     "text": [
      "Overall accuracy: 0.893\n",
      "\n"
     ]
    },
    {
     "name": "stderr",
     "output_type": "stream",
     "text": [
      "\u001b[32m[I 2023-05-11 12:42:53,125]\u001b[0m Trial 61 finished with value: 0.8883828904428976 and parameters: {'n_estimators': 293, 'max_depth': 48, 'criterion': 'entropy'}. Best is trial 31 with value: 0.8942595673876872.\u001b[0m\n"
     ]
    },
    {
     "name": "stdout",
     "output_type": "stream",
     "text": [
      "Overall accuracy: 0.889\n",
      "\n"
     ]
    },
    {
     "name": "stderr",
     "output_type": "stream",
     "text": [
      "\u001b[32m[I 2023-05-11 12:43:11,889]\u001b[0m Trial 62 finished with value: 0.8903325487041204 and parameters: {'n_estimators': 299, 'max_depth': 44, 'criterion': 'entropy'}. Best is trial 31 with value: 0.8942595673876872.\u001b[0m\n"
     ]
    },
    {
     "name": "stdout",
     "output_type": "stream",
     "text": [
      "Overall accuracy: 0.891\n",
      "\n"
     ]
    },
    {
     "name": "stderr",
     "output_type": "stream",
     "text": [
      "\u001b[32m[I 2023-05-11 12:43:29,022]\u001b[0m Trial 63 finished with value: 0.8879656252948568 and parameters: {'n_estimators': 288, 'max_depth': 64, 'criterion': 'entropy'}. Best is trial 31 with value: 0.8942595673876872.\u001b[0m\n"
     ]
    },
    {
     "name": "stdout",
     "output_type": "stream",
     "text": [
      "Overall accuracy: 0.888\n",
      "\n"
     ]
    },
    {
     "name": "stderr",
     "output_type": "stream",
     "text": [
      "\u001b[32m[I 2023-05-11 12:43:45,535]\u001b[0m Trial 64 finished with value: 0.8934972394380184 and parameters: {'n_estimators': 273, 'max_depth': 57, 'criterion': 'entropy'}. Best is trial 31 with value: 0.8942595673876872.\u001b[0m\n"
     ]
    },
    {
     "name": "stdout",
     "output_type": "stream",
     "text": [
      "Overall accuracy: 0.894\n",
      "\n"
     ]
    },
    {
     "name": "stderr",
     "output_type": "stream",
     "text": [
      "\u001b[32m[I 2023-05-11 12:43:59,885]\u001b[0m Trial 65 finished with value: 0.8891061840633474 and parameters: {'n_estimators': 243, 'max_depth': 59, 'criterion': 'entropy'}. Best is trial 31 with value: 0.8942595673876872.\u001b[0m\n"
     ]
    },
    {
     "name": "stdout",
     "output_type": "stream",
     "text": [
      "Overall accuracy: 0.889\n",
      "\n"
     ]
    },
    {
     "name": "stderr",
     "output_type": "stream",
     "text": [
      "\u001b[32m[I 2023-05-11 12:44:13,551]\u001b[0m Trial 66 finished with value: 0.8910647209635107 and parameters: {'n_estimators': 225, 'max_depth': 58, 'criterion': 'entropy'}. Best is trial 31 with value: 0.8942595673876872.\u001b[0m\n"
     ]
    },
    {
     "name": "stdout",
     "output_type": "stream",
     "text": [
      "Overall accuracy: 0.891\n",
      "\n"
     ]
    },
    {
     "name": "stderr",
     "output_type": "stream",
     "text": [
      "\u001b[32m[I 2023-05-11 12:44:29,633]\u001b[0m Trial 67 finished with value: 0.8895435742343658 and parameters: {'n_estimators': 267, 'max_depth': 56, 'criterion': 'entropy'}. Best is trial 31 with value: 0.8942595673876872.\u001b[0m\n"
     ]
    },
    {
     "name": "stdout",
     "output_type": "stream",
     "text": [
      "Overall accuracy: 0.890\n",
      "\n"
     ]
    },
    {
     "name": "stderr",
     "output_type": "stream",
     "text": [
      "\u001b[32m[I 2023-05-11 12:44:43,745]\u001b[0m Trial 68 finished with value: 0.8866862731241132 and parameters: {'n_estimators': 276, 'max_depth': 61, 'criterion': 'gini'}. Best is trial 31 with value: 0.8942595673876872.\u001b[0m\n"
     ]
    },
    {
     "name": "stdout",
     "output_type": "stream",
     "text": [
      "Overall accuracy: 0.887\n",
      "\n"
     ]
    },
    {
     "name": "stderr",
     "output_type": "stream",
     "text": [
      "\u001b[32m[I 2023-05-11 12:44:58,876]\u001b[0m Trial 69 finished with value: 0.8915381444233105 and parameters: {'n_estimators': 249, 'max_depth': 13, 'criterion': 'entropy'}. Best is trial 31 with value: 0.8942595673876872.\u001b[0m\n"
     ]
    },
    {
     "name": "stdout",
     "output_type": "stream",
     "text": [
      "Overall accuracy: 0.892\n",
      "\n"
     ]
    },
    {
     "name": "stderr",
     "output_type": "stream",
     "text": [
      "\u001b[32m[I 2023-05-11 12:45:14,650]\u001b[0m Trial 70 finished with value: 0.8867581754312766 and parameters: {'n_estimators': 261, 'max_depth': 27, 'criterion': 'entropy'}. Best is trial 31 with value: 0.8942595673876872.\u001b[0m\n"
     ]
    },
    {
     "name": "stdout",
     "output_type": "stream",
     "text": [
      "Overall accuracy: 0.887\n",
      "\n"
     ]
    },
    {
     "name": "stderr",
     "output_type": "stream",
     "text": [
      "\u001b[32m[I 2023-05-11 12:45:31,932]\u001b[0m Trial 71 finished with value: 0.8899051721367806 and parameters: {'n_estimators': 287, 'max_depth': 50, 'criterion': 'entropy'}. Best is trial 31 with value: 0.8942595673876872.\u001b[0m\n"
     ]
    },
    {
     "name": "stdout",
     "output_type": "stream",
     "text": [
      "Overall accuracy: 0.890\n",
      "\n"
     ]
    },
    {
     "name": "stderr",
     "output_type": "stream",
     "text": [
      "\u001b[32m[I 2023-05-11 12:45:49,204]\u001b[0m Trial 72 finished with value: 0.8895792170140095 and parameters: {'n_estimators': 276, 'max_depth': 44, 'criterion': 'entropy'}. Best is trial 31 with value: 0.8942595673876872.\u001b[0m\n"
     ]
    },
    {
     "name": "stdout",
     "output_type": "stream",
     "text": [
      "Overall accuracy: 0.890\n",
      "\n"
     ]
    },
    {
     "name": "stderr",
     "output_type": "stream",
     "text": [
      "\u001b[32m[I 2023-05-11 12:46:07,258]\u001b[0m Trial 73 finished with value: 0.8883267516656232 and parameters: {'n_estimators': 300, 'max_depth': 47, 'criterion': 'entropy'}. Best is trial 31 with value: 0.8942595673876872.\u001b[0m\n"
     ]
    },
    {
     "name": "stdout",
     "output_type": "stream",
     "text": [
      "Overall accuracy: 0.889\n",
      "\n"
     ]
    },
    {
     "name": "stderr",
     "output_type": "stream",
     "text": [
      "\u001b[32m[I 2023-05-11 12:46:18,676]\u001b[0m Trial 74 finished with value: 0.8907038836044028 and parameters: {'n_estimators': 195, 'max_depth': 64, 'criterion': 'entropy'}. Best is trial 31 with value: 0.8942595673876872.\u001b[0m\n"
     ]
    },
    {
     "name": "stdout",
     "output_type": "stream",
     "text": [
      "Overall accuracy: 0.891\n",
      "\n"
     ]
    },
    {
     "name": "stderr",
     "output_type": "stream",
     "text": [
      "\u001b[32m[I 2023-05-11 12:46:35,686]\u001b[0m Trial 75 finished with value: 0.8922728028435165 and parameters: {'n_estimators': 290, 'max_depth': 34, 'criterion': 'entropy'}. Best is trial 31 with value: 0.8942595673876872.\u001b[0m\n"
     ]
    },
    {
     "name": "stdout",
     "output_type": "stream",
     "text": [
      "Overall accuracy: 0.893\n",
      "\n"
     ]
    },
    {
     "name": "stderr",
     "output_type": "stream",
     "text": [
      "\u001b[32m[I 2023-05-11 12:46:51,475]\u001b[0m Trial 76 finished with value: 0.8891159619012019 and parameters: {'n_estimators': 259, 'max_depth': 54, 'criterion': 'entropy'}. Best is trial 31 with value: 0.8942595673876872.\u001b[0m\n"
     ]
    },
    {
     "name": "stdout",
     "output_type": "stream",
     "text": [
      "Overall accuracy: 0.889\n",
      "\n"
     ]
    },
    {
     "name": "stderr",
     "output_type": "stream",
     "text": [
      "\u001b[32m[I 2023-05-11 12:46:58,977]\u001b[0m Trial 77 finished with value: 0.8847391092352941 and parameters: {'n_estimators': 122, 'max_depth': 60, 'criterion': 'entropy'}. Best is trial 31 with value: 0.8942595673876872.\u001b[0m\n"
     ]
    },
    {
     "name": "stdout",
     "output_type": "stream",
     "text": [
      "Overall accuracy: 0.885\n",
      "\n"
     ]
    },
    {
     "name": "stderr",
     "output_type": "stream",
     "text": [
      "\u001b[32m[I 2023-05-11 12:47:06,855]\u001b[0m Trial 78 finished with value: 0.8843062758524383 and parameters: {'n_estimators': 155, 'max_depth': 51, 'criterion': 'gini'}. Best is trial 31 with value: 0.8942595673876872.\u001b[0m\n"
     ]
    },
    {
     "name": "stdout",
     "output_type": "stream",
     "text": [
      "Overall accuracy: 0.885\n",
      "\n"
     ]
    },
    {
     "name": "stderr",
     "output_type": "stream",
     "text": [
      "\u001b[32m[I 2023-05-11 12:47:23,661]\u001b[0m Trial 79 finished with value: 0.8843907505274009 and parameters: {'n_estimators': 281, 'max_depth': 39, 'criterion': 'entropy'}. Best is trial 31 with value: 0.8942595673876872.\u001b[0m\n"
     ]
    },
    {
     "name": "stdout",
     "output_type": "stream",
     "text": [
      "Overall accuracy: 0.885\n",
      "\n"
     ]
    },
    {
     "name": "stderr",
     "output_type": "stream",
     "text": [
      "\u001b[32m[I 2023-05-11 12:47:39,820]\u001b[0m Trial 80 finished with value: 0.890758009102284 and parameters: {'n_estimators': 271, 'max_depth': 56, 'criterion': 'entropy'}. Best is trial 31 with value: 0.8942595673876872.\u001b[0m\n"
     ]
    },
    {
     "name": "stdout",
     "output_type": "stream",
     "text": [
      "Overall accuracy: 0.891\n",
      "\n"
     ]
    },
    {
     "name": "stderr",
     "output_type": "stream",
     "text": [
      "\u001b[32m[I 2023-05-11 12:47:55,808]\u001b[0m Trial 81 finished with value: 0.8911393630649149 and parameters: {'n_estimators': 271, 'max_depth': 39, 'criterion': 'entropy'}. Best is trial 31 with value: 0.8942595673876872.\u001b[0m\n"
     ]
    },
    {
     "name": "stdout",
     "output_type": "stream",
     "text": [
      "Overall accuracy: 0.891\n",
      "\n"
     ]
    },
    {
     "name": "stderr",
     "output_type": "stream",
     "text": [
      "\u001b[32m[I 2023-05-11 12:48:12,919]\u001b[0m Trial 82 finished with value: 0.8883460254120948 and parameters: {'n_estimators': 292, 'max_depth': 43, 'criterion': 'entropy'}. Best is trial 31 with value: 0.8942595673876872.\u001b[0m\n"
     ]
    },
    {
     "name": "stdout",
     "output_type": "stream",
     "text": [
      "Overall accuracy: 0.889\n",
      "\n"
     ]
    },
    {
     "name": "stderr",
     "output_type": "stream",
     "text": [
      "\u001b[32m[I 2023-05-11 12:48:27,455]\u001b[0m Trial 83 finished with value: 0.8895877815607749 and parameters: {'n_estimators': 247, 'max_depth': 41, 'criterion': 'entropy'}. Best is trial 31 with value: 0.8942595673876872.\u001b[0m\n"
     ]
    },
    {
     "name": "stdout",
     "output_type": "stream",
     "text": [
      "Overall accuracy: 0.890\n",
      "\n"
     ]
    },
    {
     "name": "stderr",
     "output_type": "stream",
     "text": [
      "\u001b[32m[I 2023-05-11 12:48:44,345]\u001b[0m Trial 84 finished with value: 0.888400482831661 and parameters: {'n_estimators': 281, 'max_depth': 36, 'criterion': 'entropy'}. Best is trial 31 with value: 0.8942595673876872.\u001b[0m\n"
     ]
    },
    {
     "name": "stdout",
     "output_type": "stream",
     "text": [
      "Overall accuracy: 0.889\n",
      "\n"
     ]
    },
    {
     "name": "stderr",
     "output_type": "stream",
     "text": [
      "\u001b[32m[I 2023-05-11 12:48:56,647]\u001b[0m Trial 85 finished with value: 0.8883647381509371 and parameters: {'n_estimators': 213, 'max_depth': 31, 'criterion': 'entropy'}. Best is trial 31 with value: 0.8942595673876872.\u001b[0m\n"
     ]
    },
    {
     "name": "stdout",
     "output_type": "stream",
     "text": [
      "Overall accuracy: 0.889\n",
      "\n"
     ]
    },
    {
     "name": "stderr",
     "output_type": "stream",
     "text": [
      "\u001b[32m[I 2023-05-11 12:49:07,172]\u001b[0m Trial 86 finished with value: 0.8875757963710851 and parameters: {'n_estimators': 182, 'max_depth': 40, 'criterion': 'entropy'}. Best is trial 31 with value: 0.8942595673876872.\u001b[0m\n"
     ]
    },
    {
     "name": "stdout",
     "output_type": "stream",
     "text": [
      "Overall accuracy: 0.888\n",
      "\n"
     ]
    },
    {
     "name": "stderr",
     "output_type": "stream",
     "text": [
      "\u001b[32m[I 2023-05-11 12:49:16,725]\u001b[0m Trial 87 finished with value: 0.8895153864446792 and parameters: {'n_estimators': 165, 'max_depth': 37, 'criterion': 'entropy'}. Best is trial 31 with value: 0.8942595673876872.\u001b[0m\n"
     ]
    },
    {
     "name": "stdout",
     "output_type": "stream",
     "text": [
      "Overall accuracy: 0.890\n",
      "\n"
     ]
    },
    {
     "name": "stderr",
     "output_type": "stream",
     "text": [
      "\u001b[32m[I 2023-05-11 12:49:32,807]\u001b[0m Trial 88 finished with value: 0.8910937380668981 and parameters: {'n_estimators': 267, 'max_depth': 33, 'criterion': 'entropy'}. Best is trial 31 with value: 0.8942595673876872.\u001b[0m\n"
     ]
    },
    {
     "name": "stdout",
     "output_type": "stream",
     "text": [
      "Overall accuracy: 0.891\n",
      "\n"
     ]
    },
    {
     "name": "stderr",
     "output_type": "stream",
     "text": [
      "\u001b[32m[I 2023-05-11 12:49:48,397]\u001b[0m Trial 89 finished with value: 0.8890962667482722 and parameters: {'n_estimators': 256, 'max_depth': 46, 'criterion': 'entropy'}. Best is trial 31 with value: 0.8942595673876872.\u001b[0m\n"
     ]
    },
    {
     "name": "stdout",
     "output_type": "stream",
     "text": [
      "Overall accuracy: 0.889\n",
      "\n"
     ]
    },
    {
     "name": "stderr",
     "output_type": "stream",
     "text": [
      "\u001b[32m[I 2023-05-11 12:49:59,663]\u001b[0m Trial 90 finished with value: 0.8886443467794902 and parameters: {'n_estimators': 238, 'max_depth': 63, 'criterion': 'gini'}. Best is trial 31 with value: 0.8942595673876872.\u001b[0m\n"
     ]
    },
    {
     "name": "stdout",
     "output_type": "stream",
     "text": [
      "Overall accuracy: 0.889\n",
      "\n"
     ]
    },
    {
     "name": "stderr",
     "output_type": "stream",
     "text": [
      "\u001b[32m[I 2023-05-11 12:50:16,693]\u001b[0m Trial 91 finished with value: 0.8867581754312766 and parameters: {'n_estimators': 294, 'max_depth': 33, 'criterion': 'entropy'}. Best is trial 31 with value: 0.8942595673876872.\u001b[0m\n"
     ]
    },
    {
     "name": "stdout",
     "output_type": "stream",
     "text": [
      "Overall accuracy: 0.887\n",
      "\n"
     ]
    },
    {
     "name": "stderr",
     "output_type": "stream",
     "text": [
      "\u001b[32m[I 2023-05-11 12:50:33,663]\u001b[0m Trial 92 finished with value: 0.8875757963710851 and parameters: {'n_estimators': 287, 'max_depth': 34, 'criterion': 'entropy'}. Best is trial 31 with value: 0.8942595673876872.\u001b[0m\n"
     ]
    },
    {
     "name": "stdout",
     "output_type": "stream",
     "text": [
      "Overall accuracy: 0.888\n",
      "\n"
     ]
    },
    {
     "name": "stderr",
     "output_type": "stream",
     "text": [
      "\u001b[32m[I 2023-05-11 12:50:49,822]\u001b[0m Trial 93 finished with value: 0.8883069163336692 and parameters: {'n_estimators': 276, 'max_depth': 28, 'criterion': 'entropy'}. Best is trial 31 with value: 0.8942595673876872.\u001b[0m\n"
     ]
    },
    {
     "name": "stdout",
     "output_type": "stream",
     "text": [
      "Overall accuracy: 0.889\n",
      "\n"
     ]
    },
    {
     "name": "stderr",
     "output_type": "stream",
     "text": [
      "\u001b[32m[I 2023-05-11 12:51:07,257]\u001b[0m Trial 94 finished with value: 0.8887545997646112 and parameters: {'n_estimators': 295, 'max_depth': 35, 'criterion': 'entropy'}. Best is trial 31 with value: 0.8942595673876872.\u001b[0m\n"
     ]
    },
    {
     "name": "stdout",
     "output_type": "stream",
     "text": [
      "Overall accuracy: 0.889\n",
      "\n"
     ]
    },
    {
     "name": "stderr",
     "output_type": "stream",
     "text": [
      "\u001b[32m[I 2023-05-11 12:51:24,175]\u001b[0m Trial 95 finished with value: 0.8907315634904932 and parameters: {'n_estimators': 283, 'max_depth': 59, 'criterion': 'entropy'}. Best is trial 31 with value: 0.8942595673876872.\u001b[0m\n"
     ]
    },
    {
     "name": "stdout",
     "output_type": "stream",
     "text": [
      "Overall accuracy: 0.891\n",
      "\n"
     ]
    },
    {
     "name": "stderr",
     "output_type": "stream",
     "text": [
      "\u001b[32m[I 2023-05-11 12:51:43,454]\u001b[0m Trial 96 finished with value: 0.8927170534552784 and parameters: {'n_estimators': 290, 'max_depth': 41, 'criterion': 'entropy'}. Best is trial 31 with value: 0.8942595673876872.\u001b[0m\n"
     ]
    },
    {
     "name": "stdout",
     "output_type": "stream",
     "text": [
      "Overall accuracy: 0.893\n",
      "\n"
     ]
    },
    {
     "name": "stderr",
     "output_type": "stream",
     "text": [
      "\u001b[32m[I 2023-05-11 12:51:59,829]\u001b[0m Trial 97 finished with value: 0.891103136563439 and parameters: {'n_estimators': 266, 'max_depth': 42, 'criterion': 'entropy'}. Best is trial 31 with value: 0.8942595673876872.\u001b[0m\n"
     ]
    },
    {
     "name": "stdout",
     "output_type": "stream",
     "text": [
      "Overall accuracy: 0.891\n",
      "\n"
     ]
    },
    {
     "name": "stderr",
     "output_type": "stream",
     "text": [
      "\u001b[32m[I 2023-05-11 12:52:16,150]\u001b[0m Trial 98 finished with value: 0.8891256003351523 and parameters: {'n_estimators': 273, 'max_depth': 45, 'criterion': 'entropy'}. Best is trial 31 with value: 0.8942595673876872.\u001b[0m\n"
     ]
    },
    {
     "name": "stdout",
     "output_type": "stream",
     "text": [
      "Overall accuracy: 0.889\n",
      "\n"
     ]
    },
    {
     "name": "stderr",
     "output_type": "stream",
     "text": [
      "\u001b[32m[I 2023-05-11 12:52:34,302]\u001b[0m Trial 99 finished with value: 0.8895343170577416 and parameters: {'n_estimators': 300, 'max_depth': 38, 'criterion': 'entropy'}. Best is trial 31 with value: 0.8942595673876872.\u001b[0m\n"
     ]
    },
    {
     "name": "stdout",
     "output_type": "stream",
     "text": [
      "Overall accuracy: 0.890\n",
      "\n",
      "Best f1 Score: 0.8942595673876872\n",
      "Best Hyperparameters: {'n_estimators': 252, 'max_depth': 45, 'criterion': 'entropy'}\n"
     ]
    },
    {
     "name": "stderr",
     "output_type": "stream",
     "text": [
      "\u001b[32m[I 2023-05-11 12:52:38,301]\u001b[0m A new study created in memory with name: no-name-f8169a92-d838-440c-8037-c30fe41c24a3\u001b[0m\n"
     ]
    },
    {
     "name": "stdout",
     "output_type": "stream",
     "text": [
      "\n",
      "\n",
      "\n",
      "Feature Type: RSDHP | Training Model: SVC\n"
     ]
    },
    {
     "name": "stderr",
     "output_type": "stream",
     "text": [
      "\u001b[32m[I 2023-05-11 12:52:39,107]\u001b[0m Trial 0 finished with value: 0.8844746718807754 and parameters: {'C': 23.529392551454656}. Best is trial 0 with value: 0.8844746718807754.\u001b[0m\n"
     ]
    },
    {
     "name": "stdout",
     "output_type": "stream",
     "text": [
      "Overall accuracy: 0.885\n",
      "\n"
     ]
    },
    {
     "name": "stderr",
     "output_type": "stream",
     "text": [
      "\u001b[32m[I 2023-05-11 12:52:40,015]\u001b[0m Trial 1 finished with value: 0.8628961464067848 and parameters: {'C': 141209.20560208237}. Best is trial 0 with value: 0.8844746718807754.\u001b[0m\n"
     ]
    },
    {
     "name": "stdout",
     "output_type": "stream",
     "text": [
      "Overall accuracy: 0.863\n",
      "\n"
     ]
    },
    {
     "name": "stderr",
     "output_type": "stream",
     "text": [
      "\u001b[32m[I 2023-05-11 12:52:41,714]\u001b[0m Trial 2 finished with value: 0.3416213416213416 and parameters: {'C': 5.462570380083655e-09}. Best is trial 0 with value: 0.8844746718807754.\u001b[0m\n"
     ]
    },
    {
     "name": "stdout",
     "output_type": "stream",
     "text": [
      "Overall accuracy: 0.519\n",
      "\n"
     ]
    },
    {
     "name": "stderr",
     "output_type": "stream",
     "text": [
      "\u001b[32m[I 2023-05-11 12:52:42,618]\u001b[0m Trial 3 finished with value: 0.8628961464067848 and parameters: {'C': 87397.31617512931}. Best is trial 0 with value: 0.8844746718807754.\u001b[0m\n"
     ]
    },
    {
     "name": "stdout",
     "output_type": "stream",
     "text": [
      "Overall accuracy: 0.863\n",
      "\n"
     ]
    },
    {
     "name": "stderr",
     "output_type": "stream",
     "text": [
      "\u001b[32m[I 2023-05-11 12:52:44,249]\u001b[0m Trial 4 finished with value: 0.3416213416213416 and parameters: {'C': 0.0007859063802890486}. Best is trial 0 with value: 0.8844746718807754.\u001b[0m\n"
     ]
    },
    {
     "name": "stdout",
     "output_type": "stream",
     "text": [
      "Overall accuracy: 0.519\n",
      "\n"
     ]
    },
    {
     "name": "stderr",
     "output_type": "stream",
     "text": [
      "\u001b[32m[I 2023-05-11 12:52:46,047]\u001b[0m Trial 5 finished with value: 0.3416213416213416 and parameters: {'C': 0.0003324063945863899}. Best is trial 0 with value: 0.8844746718807754.\u001b[0m\n"
     ]
    },
    {
     "name": "stdout",
     "output_type": "stream",
     "text": [
      "Overall accuracy: 0.519\n",
      "\n"
     ]
    },
    {
     "name": "stderr",
     "output_type": "stream",
     "text": [
      "\u001b[32m[I 2023-05-11 12:52:47,121]\u001b[0m Trial 6 finished with value: 0.8628961464067848 and parameters: {'C': 28022.90036352703}. Best is trial 0 with value: 0.8844746718807754.\u001b[0m\n"
     ]
    },
    {
     "name": "stdout",
     "output_type": "stream",
     "text": [
      "Overall accuracy: 0.863\n",
      "\n"
     ]
    },
    {
     "name": "stderr",
     "output_type": "stream",
     "text": [
      "\u001b[32m[I 2023-05-11 12:52:48,037]\u001b[0m Trial 7 finished with value: 0.884537942706389 and parameters: {'C': 0.4291754266660998}. Best is trial 7 with value: 0.884537942706389.\u001b[0m\n"
     ]
    },
    {
     "name": "stdout",
     "output_type": "stream",
     "text": [
      "Overall accuracy: 0.885\n",
      "\n"
     ]
    },
    {
     "name": "stderr",
     "output_type": "stream",
     "text": [
      "\u001b[32m[I 2023-05-11 12:52:49,036]\u001b[0m Trial 8 finished with value: 0.8628961464067848 and parameters: {'C': 4364.9011713485625}. Best is trial 7 with value: 0.884537942706389.\u001b[0m\n"
     ]
    },
    {
     "name": "stdout",
     "output_type": "stream",
     "text": [
      "Overall accuracy: 0.863\n",
      "\n"
     ]
    },
    {
     "name": "stderr",
     "output_type": "stream",
     "text": [
      "\u001b[32m[I 2023-05-11 12:52:50,350]\u001b[0m Trial 9 finished with value: 0.8591629307956723 and parameters: {'C': 0.05371907052600114}. Best is trial 7 with value: 0.884537942706389.\u001b[0m\n"
     ]
    },
    {
     "name": "stdout",
     "output_type": "stream",
     "text": [
      "Overall accuracy: 0.860\n",
      "\n"
     ]
    },
    {
     "name": "stderr",
     "output_type": "stream",
     "text": [
      "\u001b[32m[I 2023-05-11 12:52:51,403]\u001b[0m Trial 10 finished with value: 0.8628961464067848 and parameters: {'C': 15428876.46962611}. Best is trial 7 with value: 0.884537942706389.\u001b[0m\n"
     ]
    },
    {
     "name": "stdout",
     "output_type": "stream",
     "text": [
      "Overall accuracy: 0.863\n",
      "\n"
     ]
    },
    {
     "name": "stderr",
     "output_type": "stream",
     "text": [
      "\u001b[32m[I 2023-05-11 12:52:52,677]\u001b[0m Trial 11 finished with value: 0.8836500094722786 and parameters: {'C': 16.92849977744398}. Best is trial 7 with value: 0.884537942706389.\u001b[0m\n"
     ]
    },
    {
     "name": "stdout",
     "output_type": "stream",
     "text": [
      "Overall accuracy: 0.884\n",
      "\n"
     ]
    },
    {
     "name": "stderr",
     "output_type": "stream",
     "text": [
      "\u001b[32m[I 2023-05-11 12:52:53,538]\u001b[0m Trial 12 finished with value: 0.883694762224039 and parameters: {'C': 45.52580278723771}. Best is trial 7 with value: 0.884537942706389.\u001b[0m\n"
     ]
    },
    {
     "name": "stdout",
     "output_type": "stream",
     "text": [
      "Overall accuracy: 0.884\n",
      "\n"
     ]
    },
    {
     "name": "stderr",
     "output_type": "stream",
     "text": [
      "\u001b[32m[I 2023-05-11 12:52:54,413]\u001b[0m Trial 13 finished with value: 0.8628961464067848 and parameters: {'C': 100333919.58940737}. Best is trial 7 with value: 0.884537942706389.\u001b[0m\n"
     ]
    },
    {
     "name": "stdout",
     "output_type": "stream",
     "text": [
      "Overall accuracy: 0.863\n",
      "\n"
     ]
    },
    {
     "name": "stderr",
     "output_type": "stream",
     "text": [
      "\u001b[32m[I 2023-05-11 12:52:55,322]\u001b[0m Trial 14 finished with value: 0.8773923444976077 and parameters: {'C': 0.2176032491206047}. Best is trial 7 with value: 0.884537942706389.\u001b[0m\n"
     ]
    },
    {
     "name": "stdout",
     "output_type": "stream",
     "text": [
      "Overall accuracy: 0.878\n",
      "\n"
     ]
    },
    {
     "name": "stderr",
     "output_type": "stream",
     "text": [
      "\u001b[32m[I 2023-05-11 12:52:56,186]\u001b[0m Trial 15 finished with value: 0.8628961464067848 and parameters: {'C': 2836684032.94251}. Best is trial 7 with value: 0.884537942706389.\u001b[0m\n"
     ]
    },
    {
     "name": "stdout",
     "output_type": "stream",
     "text": [
      "Overall accuracy: 0.863\n",
      "\n"
     ]
    },
    {
     "name": "stderr",
     "output_type": "stream",
     "text": [
      "\u001b[32m[I 2023-05-11 12:52:57,054]\u001b[0m Trial 16 finished with value: 0.8691121367775876 and parameters: {'C': 143.9220263705635}. Best is trial 7 with value: 0.884537942706389.\u001b[0m\n"
     ]
    },
    {
     "name": "stdout",
     "output_type": "stream",
     "text": [
      "Overall accuracy: 0.869\n",
      "\n"
     ]
    },
    {
     "name": "stderr",
     "output_type": "stream",
     "text": [
      "\u001b[32m[I 2023-05-11 12:52:58,654]\u001b[0m Trial 17 finished with value: 0.3416213416213416 and parameters: {'C': 0.004108084417512206}. Best is trial 7 with value: 0.884537942706389.\u001b[0m\n"
     ]
    },
    {
     "name": "stdout",
     "output_type": "stream",
     "text": [
      "Overall accuracy: 0.519\n",
      "\n"
     ]
    },
    {
     "name": "stderr",
     "output_type": "stream",
     "text": [
      "\u001b[32m[I 2023-05-11 12:53:00,201]\u001b[0m Trial 18 finished with value: 0.3416213416213416 and parameters: {'C': 2.337545445597636e-06}. Best is trial 7 with value: 0.884537942706389.\u001b[0m\n"
     ]
    },
    {
     "name": "stdout",
     "output_type": "stream",
     "text": [
      "Overall accuracy: 0.519\n",
      "\n"
     ]
    },
    {
     "name": "stderr",
     "output_type": "stream",
     "text": [
      "\u001b[32m[I 2023-05-11 12:53:00,928]\u001b[0m Trial 19 finished with value: 0.8950020652622883 and parameters: {'C': 2.1024285222408716}. Best is trial 19 with value: 0.8950020652622883.\u001b[0m\n"
     ]
    },
    {
     "name": "stdout",
     "output_type": "stream",
     "text": [
      "Overall accuracy: 0.895\n",
      "\n"
     ]
    },
    {
     "name": "stderr",
     "output_type": "stream",
     "text": [
      "\u001b[32m[I 2023-05-11 12:53:01,768]\u001b[0m Trial 20 finished with value: 0.8805701637297858 and parameters: {'C': 0.3089456436620081}. Best is trial 19 with value: 0.8950020652622883.\u001b[0m\n"
     ]
    },
    {
     "name": "stdout",
     "output_type": "stream",
     "text": [
      "Overall accuracy: 0.881\n",
      "\n"
     ]
    },
    {
     "name": "stderr",
     "output_type": "stream",
     "text": [
      "\u001b[32m[I 2023-05-11 12:53:02,458]\u001b[0m Trial 21 finished with value: 0.8918541070434852 and parameters: {'C': 4.849992459897117}. Best is trial 19 with value: 0.8950020652622883.\u001b[0m\n"
     ]
    },
    {
     "name": "stdout",
     "output_type": "stream",
     "text": [
      "Overall accuracy: 0.892\n",
      "\n"
     ]
    },
    {
     "name": "stderr",
     "output_type": "stream",
     "text": [
      "\u001b[32m[I 2023-05-11 12:53:03,405]\u001b[0m Trial 22 finished with value: 0.87618414629345 and parameters: {'C': 0.19957796671223899}. Best is trial 19 with value: 0.8950020652622883.\u001b[0m\n"
     ]
    },
    {
     "name": "stdout",
     "output_type": "stream",
     "text": [
      "Overall accuracy: 0.877\n",
      "\n"
     ]
    },
    {
     "name": "stderr",
     "output_type": "stream",
     "text": [
      "\u001b[32m[I 2023-05-11 12:53:04,253]\u001b[0m Trial 23 finished with value: 0.860930466473094 and parameters: {'C': 945.7516642499172}. Best is trial 19 with value: 0.8950020652622883.\u001b[0m\n"
     ]
    },
    {
     "name": "stdout",
     "output_type": "stream",
     "text": [
      "Overall accuracy: 0.861\n",
      "\n"
     ]
    },
    {
     "name": "stderr",
     "output_type": "stream",
     "text": [
      "\u001b[32m[I 2023-05-11 12:53:04,947]\u001b[0m Trial 24 finished with value: 0.8902949577744659 and parameters: {'C': 5.654264456711301}. Best is trial 19 with value: 0.8950020652622883.\u001b[0m\n"
     ]
    },
    {
     "name": "stdout",
     "output_type": "stream",
     "text": [
      "Overall accuracy: 0.891\n",
      "\n"
     ]
    },
    {
     "name": "stderr",
     "output_type": "stream",
     "text": [
      "\u001b[32m[I 2023-05-11 12:53:05,634]\u001b[0m Trial 25 finished with value: 0.8918541070434852 and parameters: {'C': 3.8103729950724836}. Best is trial 19 with value: 0.8950020652622883.\u001b[0m\n"
     ]
    },
    {
     "name": "stdout",
     "output_type": "stream",
     "text": [
      "Overall accuracy: 0.892\n",
      "\n"
     ]
    },
    {
     "name": "stderr",
     "output_type": "stream",
     "text": [
      "\u001b[32m[I 2023-05-11 12:53:06,483]\u001b[0m Trial 26 finished with value: 0.8628961464067848 and parameters: {'C': 3094.223425322608}. Best is trial 19 with value: 0.8950020652622883.\u001b[0m\n"
     ]
    },
    {
     "name": "stdout",
     "output_type": "stream",
     "text": [
      "Overall accuracy: 0.863\n",
      "\n"
     ]
    },
    {
     "name": "stderr",
     "output_type": "stream",
     "text": [
      "\u001b[32m[I 2023-05-11 12:53:07,153]\u001b[0m Trial 27 finished with value: 0.8918541070434852 and parameters: {'C': 4.924813153702207}. Best is trial 19 with value: 0.8950020652622883.\u001b[0m\n"
     ]
    },
    {
     "name": "stdout",
     "output_type": "stream",
     "text": [
      "Overall accuracy: 0.892\n",
      "\n"
     ]
    },
    {
     "name": "stderr",
     "output_type": "stream",
     "text": [
      "\u001b[32m[I 2023-05-11 12:53:07,995]\u001b[0m Trial 28 finished with value: 0.8605406732348214 and parameters: {'C': 441.3958353145996}. Best is trial 19 with value: 0.8950020652622883.\u001b[0m\n"
     ]
    },
    {
     "name": "stdout",
     "output_type": "stream",
     "text": [
      "Overall accuracy: 0.861\n",
      "\n"
     ]
    },
    {
     "name": "stderr",
     "output_type": "stream",
     "text": [
      "\u001b[32m[I 2023-05-11 12:53:09,639]\u001b[0m Trial 29 finished with value: 0.3416213416213416 and parameters: {'C': 0.00832744742821956}. Best is trial 19 with value: 0.8950020652622883.\u001b[0m\n"
     ]
    },
    {
     "name": "stdout",
     "output_type": "stream",
     "text": [
      "Overall accuracy: 0.519\n",
      "\n"
     ]
    },
    {
     "name": "stderr",
     "output_type": "stream",
     "text": [
      "\u001b[32m[I 2023-05-11 12:53:10,348]\u001b[0m Trial 30 finished with value: 0.890314028857377 and parameters: {'C': 7.018243113732479}. Best is trial 19 with value: 0.8950020652622883.\u001b[0m\n"
     ]
    },
    {
     "name": "stdout",
     "output_type": "stream",
     "text": [
      "Overall accuracy: 0.891\n",
      "\n"
     ]
    },
    {
     "name": "stderr",
     "output_type": "stream",
     "text": [
      "\u001b[32m[I 2023-05-11 12:53:11,044]\u001b[0m Trial 31 finished with value: 0.8914241293001084 and parameters: {'C': 1.3019672277525793}. Best is trial 19 with value: 0.8950020652622883.\u001b[0m\n"
     ]
    },
    {
     "name": "stdout",
     "output_type": "stream",
     "text": [
      "Overall accuracy: 0.892\n",
      "\n"
     ]
    },
    {
     "name": "stderr",
     "output_type": "stream",
     "text": [
      "\u001b[32m[I 2023-05-11 12:53:11,794]\u001b[0m Trial 32 finished with value: 0.8848732598314598 and parameters: {'C': 23.81767896426602}. Best is trial 19 with value: 0.8950020652622883.\u001b[0m\n"
     ]
    },
    {
     "name": "stdout",
     "output_type": "stream",
     "text": [
      "Overall accuracy: 0.885\n",
      "\n"
     ]
    },
    {
     "name": "stderr",
     "output_type": "stream",
     "text": [
      "\u001b[32m[I 2023-05-11 12:53:12,646]\u001b[0m Trial 33 finished with value: 0.864039198085675 and parameters: {'C': 236.59134180028266}. Best is trial 19 with value: 0.8950020652622883.\u001b[0m\n"
     ]
    },
    {
     "name": "stdout",
     "output_type": "stream",
     "text": [
      "Overall accuracy: 0.864\n",
      "\n"
     ]
    },
    {
     "name": "stderr",
     "output_type": "stream",
     "text": [
      "\u001b[32m[I 2023-05-11 12:53:13,325]\u001b[0m Trial 34 finished with value: 0.8918638453364898 and parameters: {'C': 4.051831397139726}. Best is trial 19 with value: 0.8950020652622883.\u001b[0m\n"
     ]
    },
    {
     "name": "stdout",
     "output_type": "stream",
     "text": [
      "Overall accuracy: 0.892\n",
      "\n"
     ]
    },
    {
     "name": "stderr",
     "output_type": "stream",
     "text": [
      "\u001b[32m[I 2023-05-11 12:53:14,208]\u001b[0m Trial 35 finished with value: 0.8628961464067848 and parameters: {'C': 389445.7724746631}. Best is trial 19 with value: 0.8950020652622883.\u001b[0m\n"
     ]
    },
    {
     "name": "stdout",
     "output_type": "stream",
     "text": [
      "Overall accuracy: 0.863\n",
      "\n"
     ]
    },
    {
     "name": "stderr",
     "output_type": "stream",
     "text": [
      "\u001b[32m[I 2023-05-11 12:53:15,796]\u001b[0m Trial 36 finished with value: 0.3416213416213416 and parameters: {'C': 7.368933507767774e-05}. Best is trial 19 with value: 0.8950020652622883.\u001b[0m\n"
     ]
    },
    {
     "name": "stdout",
     "output_type": "stream",
     "text": [
      "Overall accuracy: 0.519\n",
      "\n"
     ]
    },
    {
     "name": "stderr",
     "output_type": "stream",
     "text": [
      "\u001b[32m[I 2023-05-11 12:53:17,375]\u001b[0m Trial 37 finished with value: 0.5050322659700038 and parameters: {'C': 0.011244498302052496}. Best is trial 19 with value: 0.8950020652622883.\u001b[0m\n"
     ]
    },
    {
     "name": "stdout",
     "output_type": "stream",
     "text": [
      "Overall accuracy: 0.600\n",
      "\n"
     ]
    },
    {
     "name": "stderr",
     "output_type": "stream",
     "text": [
      "\u001b[32m[I 2023-05-11 12:53:18,090]\u001b[0m Trial 38 finished with value: 0.8918240751957707 and parameters: {'C': 1.3058201834036065}. Best is trial 19 with value: 0.8950020652622883.\u001b[0m\n"
     ]
    },
    {
     "name": "stdout",
     "output_type": "stream",
     "text": [
      "Overall accuracy: 0.892\n",
      "\n"
     ]
    },
    {
     "name": "stderr",
     "output_type": "stream",
     "text": [
      "\u001b[32m[I 2023-05-11 12:53:18,973]\u001b[0m Trial 39 finished with value: 0.8628961464067848 and parameters: {'C': 17144.83646732233}. Best is trial 19 with value: 0.8950020652622883.\u001b[0m\n"
     ]
    },
    {
     "name": "stdout",
     "output_type": "stream",
     "text": [
      "Overall accuracy: 0.863\n",
      "\n"
     ]
    },
    {
     "name": "stderr",
     "output_type": "stream",
     "text": [
      "\u001b[32m[I 2023-05-11 12:53:19,841]\u001b[0m Trial 40 finished with value: 0.8723192892116738 and parameters: {'C': 98.90803648251018}. Best is trial 19 with value: 0.8950020652622883.\u001b[0m\n"
     ]
    },
    {
     "name": "stdout",
     "output_type": "stream",
     "text": [
      "Overall accuracy: 0.873\n",
      "\n"
     ]
    },
    {
     "name": "stderr",
     "output_type": "stream",
     "text": [
      "\u001b[32m[I 2023-05-11 12:53:20,532]\u001b[0m Trial 41 finished with value: 0.895382222261566 and parameters: {'C': 2.7678171898369626}. Best is trial 41 with value: 0.895382222261566.\u001b[0m\n"
     ]
    },
    {
     "name": "stdout",
     "output_type": "stream",
     "text": [
      "Overall accuracy: 0.896\n",
      "\n"
     ]
    },
    {
     "name": "stderr",
     "output_type": "stream",
     "text": [
      "\u001b[32m[I 2023-05-11 12:53:21,785]\u001b[0m Trial 42 finished with value: 0.8567192582006522 and parameters: {'C': 0.04745329511370093}. Best is trial 41 with value: 0.895382222261566.\u001b[0m\n"
     ]
    },
    {
     "name": "stdout",
     "output_type": "stream",
     "text": [
      "Overall accuracy: 0.858\n",
      "\n"
     ]
    },
    {
     "name": "stderr",
     "output_type": "stream",
     "text": [
      "\u001b[32m[I 2023-05-11 12:53:22,572]\u001b[0m Trial 43 finished with value: 0.8930135178599412 and parameters: {'C': 1.496603581267689}. Best is trial 41 with value: 0.895382222261566.\u001b[0m\n"
     ]
    },
    {
     "name": "stdout",
     "output_type": "stream",
     "text": [
      "Overall accuracy: 0.893\n",
      "\n"
     ]
    },
    {
     "name": "stderr",
     "output_type": "stream",
     "text": [
      "\u001b[32m[I 2023-05-11 12:53:23,277]\u001b[0m Trial 44 finished with value: 0.8868318122555412 and parameters: {'C': 27.37436984698273}. Best is trial 41 with value: 0.895382222261566.\u001b[0m\n"
     ]
    },
    {
     "name": "stdout",
     "output_type": "stream",
     "text": [
      "Overall accuracy: 0.887\n",
      "\n"
     ]
    },
    {
     "name": "stderr",
     "output_type": "stream",
     "text": [
      "\u001b[32m[I 2023-05-11 12:53:24,485]\u001b[0m Trial 45 finished with value: 0.8591629307956723 and parameters: {'C': 0.053104329926120256}. Best is trial 41 with value: 0.895382222261566.\u001b[0m\n"
     ]
    },
    {
     "name": "stdout",
     "output_type": "stream",
     "text": [
      "Overall accuracy: 0.860\n",
      "\n"
     ]
    },
    {
     "name": "stderr",
     "output_type": "stream",
     "text": [
      "\u001b[32m[I 2023-05-11 12:53:25,279]\u001b[0m Trial 46 finished with value: 0.8621081932252146 and parameters: {'C': 1198.3784533000717}. Best is trial 41 with value: 0.895382222261566.\u001b[0m\n"
     ]
    },
    {
     "name": "stdout",
     "output_type": "stream",
     "text": [
      "Overall accuracy: 0.862\n",
      "\n"
     ]
    },
    {
     "name": "stderr",
     "output_type": "stream",
     "text": [
      "\u001b[32m[I 2023-05-11 12:53:25,977]\u001b[0m Trial 47 finished with value: 0.8938129807876716 and parameters: {'C': 1.5803963769728349}. Best is trial 41 with value: 0.895382222261566.\u001b[0m\n"
     ]
    },
    {
     "name": "stdout",
     "output_type": "stream",
     "text": [
      "Overall accuracy: 0.894\n",
      "\n"
     ]
    },
    {
     "name": "stderr",
     "output_type": "stream",
     "text": [
      "\u001b[32m[I 2023-05-11 12:53:26,664]\u001b[0m Trial 48 finished with value: 0.888187756212236 and parameters: {'C': 0.7331259440670461}. Best is trial 41 with value: 0.895382222261566.\u001b[0m\n"
     ]
    },
    {
     "name": "stdout",
     "output_type": "stream",
     "text": [
      "Overall accuracy: 0.889\n",
      "\n"
     ]
    },
    {
     "name": "stderr",
     "output_type": "stream",
     "text": [
      "\u001b[32m[I 2023-05-11 12:53:27,462]\u001b[0m Trial 49 finished with value: 0.8781928743859656 and parameters: {'C': 68.44989060250863}. Best is trial 41 with value: 0.895382222261566.\u001b[0m\n"
     ]
    },
    {
     "name": "stdout",
     "output_type": "stream",
     "text": [
      "Overall accuracy: 0.878\n",
      "\n"
     ]
    },
    {
     "name": "stderr",
     "output_type": "stream",
     "text": [
      "\u001b[32m[I 2023-05-11 12:53:28,920]\u001b[0m Trial 50 finished with value: 0.3416213416213416 and parameters: {'C': 0.0007014421728900517}. Best is trial 41 with value: 0.895382222261566.\u001b[0m\n"
     ]
    },
    {
     "name": "stdout",
     "output_type": "stream",
     "text": [
      "Overall accuracy: 0.519\n",
      "\n"
     ]
    },
    {
     "name": "stderr",
     "output_type": "stream",
     "text": [
      "\u001b[32m[I 2023-05-11 12:53:29,631]\u001b[0m Trial 51 finished with value: 0.8926336907945204 and parameters: {'C': 1.8313925725078881}. Best is trial 41 with value: 0.895382222261566.\u001b[0m\n"
     ]
    },
    {
     "name": "stdout",
     "output_type": "stream",
     "text": [
      "Overall accuracy: 0.893\n",
      "\n"
     ]
    },
    {
     "name": "stderr",
     "output_type": "stream",
     "text": [
      "\u001b[32m[I 2023-05-11 12:53:30,528]\u001b[0m Trial 52 finished with value: 0.8705517816077366 and parameters: {'C': 0.16504252983778953}. Best is trial 41 with value: 0.895382222261566.\u001b[0m\n"
     ]
    },
    {
     "name": "stdout",
     "output_type": "stream",
     "text": [
      "Overall accuracy: 0.871\n",
      "\n"
     ]
    },
    {
     "name": "stderr",
     "output_type": "stream",
     "text": [
      "\u001b[32m[I 2023-05-11 12:53:31,188]\u001b[0m Trial 53 finished with value: 0.8938030859938161 and parameters: {'C': 1.6445411299356851}. Best is trial 41 with value: 0.895382222261566.\u001b[0m\n"
     ]
    },
    {
     "name": "stdout",
     "output_type": "stream",
     "text": [
      "Overall accuracy: 0.894\n",
      "\n"
     ]
    },
    {
     "name": "stderr",
     "output_type": "stream",
     "text": [
      "\u001b[32m[I 2023-05-11 12:53:31,859]\u001b[0m Trial 54 finished with value: 0.8889779487478386 and parameters: {'C': 0.8633149990140752}. Best is trial 41 with value: 0.895382222261566.\u001b[0m\n"
     ]
    },
    {
     "name": "stdout",
     "output_type": "stream",
     "text": [
      "Overall accuracy: 0.889\n",
      "\n"
     ]
    },
    {
     "name": "stderr",
     "output_type": "stream",
     "text": [
      "\u001b[32m[I 2023-05-11 12:53:32,614]\u001b[0m Trial 55 finished with value: 0.8837032757838579 and parameters: {'C': 42.94744009184955}. Best is trial 41 with value: 0.895382222261566.\u001b[0m\n"
     ]
    },
    {
     "name": "stdout",
     "output_type": "stream",
     "text": [
      "Overall accuracy: 0.884\n",
      "\n"
     ]
    },
    {
     "name": "stderr",
     "output_type": "stream",
     "text": [
      "\u001b[32m[I 2023-05-11 12:53:33,884]\u001b[0m Trial 56 finished with value: 0.8529774052842722 and parameters: {'C': 0.03774793075688607}. Best is trial 41 with value: 0.895382222261566.\u001b[0m\n"
     ]
    },
    {
     "name": "stdout",
     "output_type": "stream",
     "text": [
      "Overall accuracy: 0.854\n",
      "\n"
     ]
    },
    {
     "name": "stderr",
     "output_type": "stream",
     "text": [
      "\u001b[32m[I 2023-05-11 12:53:34,677]\u001b[0m Trial 57 finished with value: 0.8636496113186393 and parameters: {'C': 245.6689585634554}. Best is trial 41 with value: 0.895382222261566.\u001b[0m\n"
     ]
    },
    {
     "name": "stdout",
     "output_type": "stream",
     "text": [
      "Overall accuracy: 0.864\n",
      "\n"
     ]
    },
    {
     "name": "stderr",
     "output_type": "stream",
     "text": [
      "\u001b[32m[I 2023-05-11 12:53:35,534]\u001b[0m Trial 58 finished with value: 0.8829694507886006 and parameters: {'C': 0.384013426214959}. Best is trial 41 with value: 0.895382222261566.\u001b[0m\n"
     ]
    },
    {
     "name": "stdout",
     "output_type": "stream",
     "text": [
      "Overall accuracy: 0.884\n",
      "\n"
     ]
    },
    {
     "name": "stderr",
     "output_type": "stream",
     "text": [
      "\u001b[32m[I 2023-05-11 12:53:36,219]\u001b[0m Trial 59 finished with value: 0.8836214074284334 and parameters: {'C': 14.418729893411806}. Best is trial 41 with value: 0.895382222261566.\u001b[0m\n"
     ]
    },
    {
     "name": "stdout",
     "output_type": "stream",
     "text": [
      "Overall accuracy: 0.884\n",
      "\n"
     ]
    },
    {
     "name": "stderr",
     "output_type": "stream",
     "text": [
      "\u001b[32m[I 2023-05-11 12:53:37,712]\u001b[0m Trial 60 finished with value: 0.3416213416213416 and parameters: {'C': 0.0025850765156893584}. Best is trial 41 with value: 0.895382222261566.\u001b[0m\n"
     ]
    },
    {
     "name": "stdout",
     "output_type": "stream",
     "text": [
      "Overall accuracy: 0.519\n",
      "\n"
     ]
    },
    {
     "name": "stderr",
     "output_type": "stream",
     "text": [
      "\u001b[32m[I 2023-05-11 12:53:38,601]\u001b[0m Trial 61 finished with value: 0.893423148950443 and parameters: {'C': 1.7844518767137594}. Best is trial 41 with value: 0.895382222261566.\u001b[0m\n"
     ]
    },
    {
     "name": "stdout",
     "output_type": "stream",
     "text": [
      "Overall accuracy: 0.894\n",
      "\n"
     ]
    },
    {
     "name": "stderr",
     "output_type": "stream",
     "text": [
      "\u001b[32m[I 2023-05-11 12:53:39,379]\u001b[0m Trial 62 finished with value: 0.8898128061551627 and parameters: {'C': 1.0228321809363}. Best is trial 41 with value: 0.895382222261566.\u001b[0m\n"
     ]
    },
    {
     "name": "stdout",
     "output_type": "stream",
     "text": [
      "Overall accuracy: 0.890\n",
      "\n"
     ]
    },
    {
     "name": "stderr",
     "output_type": "stream",
     "text": [
      "\u001b[32m[I 2023-05-11 12:53:40,425]\u001b[0m Trial 63 finished with value: 0.867805361102115 and parameters: {'C': 0.1173157918553229}. Best is trial 41 with value: 0.895382222261566.\u001b[0m\n"
     ]
    },
    {
     "name": "stdout",
     "output_type": "stream",
     "text": [
      "Overall accuracy: 0.869\n",
      "\n"
     ]
    },
    {
     "name": "stderr",
     "output_type": "stream",
     "text": [
      "\u001b[32m[I 2023-05-11 12:53:41,092]\u001b[0m Trial 64 finished with value: 0.8938030859938161 and parameters: {'C': 2.1772166550048633}. Best is trial 41 with value: 0.895382222261566.\u001b[0m\n"
     ]
    },
    {
     "name": "stdout",
     "output_type": "stream",
     "text": [
      "Overall accuracy: 0.894\n",
      "\n"
     ]
    },
    {
     "name": "stderr",
     "output_type": "stream",
     "text": [
      "\u001b[32m[I 2023-05-11 12:53:41,810]\u001b[0m Trial 65 finished with value: 0.8832219923181839 and parameters: {'C': 14.026803699444976}. Best is trial 41 with value: 0.895382222261566.\u001b[0m\n"
     ]
    },
    {
     "name": "stdout",
     "output_type": "stream",
     "text": [
      "Overall accuracy: 0.884\n",
      "\n"
     ]
    },
    {
     "name": "stderr",
     "output_type": "stream",
     "text": [
      "\u001b[32m[I 2023-05-11 12:53:43,276]\u001b[0m Trial 66 finished with value: 0.8135914008533117 and parameters: {'C': 0.01832639398426506}. Best is trial 41 with value: 0.895382222261566.\u001b[0m\n"
     ]
    },
    {
     "name": "stdout",
     "output_type": "stream",
     "text": [
      "Overall accuracy: 0.818\n",
      "\n"
     ]
    },
    {
     "name": "stderr",
     "output_type": "stream",
     "text": [
      "\u001b[32m[I 2023-05-11 12:53:44,214]\u001b[0m Trial 67 finished with value: 0.8705190351196521 and parameters: {'C': 0.13365614541784385}. Best is trial 41 with value: 0.895382222261566.\u001b[0m\n"
     ]
    },
    {
     "name": "stdout",
     "output_type": "stream",
     "text": [
      "Overall accuracy: 0.871\n",
      "\n"
     ]
    },
    {
     "name": "stderr",
     "output_type": "stream",
     "text": [
      "\u001b[32m[I 2023-05-11 12:53:44,995]\u001b[0m Trial 68 finished with value: 0.8797781669857085 and parameters: {'C': 71.34458552584627}. Best is trial 41 with value: 0.895382222261566.\u001b[0m\n"
     ]
    },
    {
     "name": "stdout",
     "output_type": "stream",
     "text": [
      "Overall accuracy: 0.880\n",
      "\n"
     ]
    },
    {
     "name": "stderr",
     "output_type": "stream",
     "text": [
      "\u001b[32m[I 2023-05-11 12:53:45,681]\u001b[0m Trial 69 finished with value: 0.8953919699209403 and parameters: {'C': 2.9394010905157013}. Best is trial 69 with value: 0.8953919699209403.\u001b[0m\n"
     ]
    },
    {
     "name": "stdout",
     "output_type": "stream",
     "text": [
      "Overall accuracy: 0.896\n",
      "\n"
     ]
    },
    {
     "name": "stderr",
     "output_type": "stream",
     "text": [
      "\u001b[32m[I 2023-05-11 12:53:46,350]\u001b[0m Trial 70 finished with value: 0.8895435742343658 and parameters: {'C': 11.147757896000867}. Best is trial 69 with value: 0.8953919699209403.\u001b[0m\n"
     ]
    },
    {
     "name": "stdout",
     "output_type": "stream",
     "text": [
      "Overall accuracy: 0.890\n",
      "\n"
     ]
    },
    {
     "name": "stderr",
     "output_type": "stream",
     "text": [
      "\u001b[32m[I 2023-05-11 12:53:47,027]\u001b[0m Trial 71 finished with value: 0.8953919699209403 and parameters: {'C': 2.9437947298075815}. Best is trial 69 with value: 0.8953919699209403.\u001b[0m\n"
     ]
    },
    {
     "name": "stdout",
     "output_type": "stream",
     "text": [
      "Overall accuracy: 0.896\n",
      "\n"
     ]
    },
    {
     "name": "stderr",
     "output_type": "stream",
     "text": [
      "\u001b[32m[I 2023-05-11 12:53:47,872]\u001b[0m Trial 72 finished with value: 0.8853544590425002 and parameters: {'C': 0.4928293659471605}. Best is trial 69 with value: 0.8953919699209403.\u001b[0m\n"
     ]
    },
    {
     "name": "stdout",
     "output_type": "stream",
     "text": [
      "Overall accuracy: 0.886\n",
      "\n"
     ]
    },
    {
     "name": "stderr",
     "output_type": "stream",
     "text": [
      "\u001b[32m[I 2023-05-11 12:53:48,684]\u001b[0m Trial 73 finished with value: 0.894202815725524 and parameters: {'C': 3.216899186701737}. Best is trial 69 with value: 0.8953919699209403.\u001b[0m\n"
     ]
    },
    {
     "name": "stdout",
     "output_type": "stream",
     "text": [
      "Overall accuracy: 0.895\n",
      "\n"
     ]
    },
    {
     "name": "stderr",
     "output_type": "stream",
     "text": [
      "\u001b[32m[I 2023-05-11 12:53:49,465]\u001b[0m Trial 74 finished with value: 0.8914643179920814 and parameters: {'C': 5.207747444493883}. Best is trial 69 with value: 0.8953919699209403.\u001b[0m\n"
     ]
    },
    {
     "name": "stdout",
     "output_type": "stream",
     "text": [
      "Overall accuracy: 0.892\n",
      "\n"
     ]
    },
    {
     "name": "stderr",
     "output_type": "stream",
     "text": [
      "\u001b[32m[I 2023-05-11 12:53:50,484]\u001b[0m Trial 75 finished with value: 0.8793768501443555 and parameters: {'C': 0.25834319047119875}. Best is trial 69 with value: 0.8953919699209403.\u001b[0m\n"
     ]
    },
    {
     "name": "stdout",
     "output_type": "stream",
     "text": [
      "Overall accuracy: 0.880\n",
      "\n"
     ]
    },
    {
     "name": "stderr",
     "output_type": "stream",
     "text": [
      "\u001b[32m[I 2023-05-11 12:53:51,376]\u001b[0m Trial 76 finished with value: 0.8632688255048901 and parameters: {'C': 261.8478347289579}. Best is trial 69 with value: 0.8953919699209403.\u001b[0m\n"
     ]
    },
    {
     "name": "stdout",
     "output_type": "stream",
     "text": [
      "Overall accuracy: 0.863\n",
      "\n"
     ]
    },
    {
     "name": "stderr",
     "output_type": "stream",
     "text": [
      "\u001b[32m[I 2023-05-11 12:53:52,084]\u001b[0m Trial 77 finished with value: 0.8856444880450882 and parameters: {'C': 28.704450273738725}. Best is trial 69 with value: 0.8953919699209403.\u001b[0m\n"
     ]
    },
    {
     "name": "stdout",
     "output_type": "stream",
     "text": [
      "Overall accuracy: 0.886\n",
      "\n"
     ]
    },
    {
     "name": "stderr",
     "output_type": "stream",
     "text": [
      "\u001b[32m[I 2023-05-11 12:53:52,725]\u001b[0m Trial 78 finished with value: 0.8918638453364898 and parameters: {'C': 4.048297714966488}. Best is trial 69 with value: 0.8953919699209403.\u001b[0m\n"
     ]
    },
    {
     "name": "stdout",
     "output_type": "stream",
     "text": [
      "Overall accuracy: 0.892\n",
      "\n"
     ]
    },
    {
     "name": "stderr",
     "output_type": "stream",
     "text": [
      "\u001b[32m[I 2023-05-11 12:53:53,742]\u001b[0m Trial 79 finished with value: 0.8661719324850455 and parameters: {'C': 0.09453361812491581}. Best is trial 69 with value: 0.8953919699209403.\u001b[0m\n"
     ]
    },
    {
     "name": "stdout",
     "output_type": "stream",
     "text": [
      "Overall accuracy: 0.867\n",
      "\n"
     ]
    },
    {
     "name": "stderr",
     "output_type": "stream",
     "text": [
      "\u001b[32m[I 2023-05-11 12:53:55,200]\u001b[0m Trial 80 finished with value: 0.8111051546792015 and parameters: {'C': 0.01797001038392592}. Best is trial 69 with value: 0.8953919699209403.\u001b[0m\n"
     ]
    },
    {
     "name": "stdout",
     "output_type": "stream",
     "text": [
      "Overall accuracy: 0.816\n",
      "\n"
     ]
    },
    {
     "name": "stderr",
     "output_type": "stream",
     "text": [
      "\u001b[32m[I 2023-05-11 12:53:55,848]\u001b[0m Trial 81 finished with value: 0.895382222261566 and parameters: {'C': 2.7626973947457882}. Best is trial 69 with value: 0.8953919699209403.\u001b[0m\n"
     ]
    },
    {
     "name": "stdout",
     "output_type": "stream",
     "text": [
      "Overall accuracy: 0.896\n",
      "\n"
     ]
    },
    {
     "name": "stderr",
     "output_type": "stream",
     "text": [
      "\u001b[32m[I 2023-05-11 12:53:56,544]\u001b[0m Trial 82 finished with value: 0.8895435742343658 and parameters: {'C': 11.141359537773166}. Best is trial 69 with value: 0.8953919699209403.\u001b[0m\n"
     ]
    },
    {
     "name": "stdout",
     "output_type": "stream",
     "text": [
      "Overall accuracy: 0.890\n",
      "\n"
     ]
    },
    {
     "name": "stderr",
     "output_type": "stream",
     "text": [
      "\u001b[32m[I 2023-05-11 12:53:57,262]\u001b[0m Trial 83 finished with value: 0.884965480562357 and parameters: {'C': 0.49511854347479667}. Best is trial 69 with value: 0.8953919699209403.\u001b[0m\n"
     ]
    },
    {
     "name": "stdout",
     "output_type": "stream",
     "text": [
      "Overall accuracy: 0.886\n",
      "\n"
     ]
    },
    {
     "name": "stderr",
     "output_type": "stream",
     "text": [
      "\u001b[32m[I 2023-05-11 12:53:58,068]\u001b[0m Trial 84 finished with value: 0.8719209837038966 and parameters: {'C': 99.06220711531087}. Best is trial 69 with value: 0.8953919699209403.\u001b[0m\n"
     ]
    },
    {
     "name": "stdout",
     "output_type": "stream",
     "text": [
      "Overall accuracy: 0.872\n",
      "\n"
     ]
    },
    {
     "name": "stderr",
     "output_type": "stream",
     "text": [
      "\u001b[32m[I 2023-05-11 12:53:58,868]\u001b[0m Trial 85 finished with value: 0.8605406732348214 and parameters: {'C': 617.2277062759047}. Best is trial 69 with value: 0.8953919699209403.\u001b[0m\n"
     ]
    },
    {
     "name": "stdout",
     "output_type": "stream",
     "text": [
      "Overall accuracy: 0.861\n",
      "\n"
     ]
    },
    {
     "name": "stderr",
     "output_type": "stream",
     "text": [
      "\u001b[32m[I 2023-05-11 12:53:59,519]\u001b[0m Trial 86 finished with value: 0.8953919699209403 and parameters: {'C': 2.9861397367921074}. Best is trial 69 with value: 0.8953919699209403.\u001b[0m\n"
     ]
    },
    {
     "name": "stdout",
     "output_type": "stream",
     "text": [
      "Overall accuracy: 0.896\n",
      "\n"
     ]
    },
    {
     "name": "stderr",
     "output_type": "stream",
     "text": [
      "\u001b[32m[I 2023-05-11 12:54:00,158]\u001b[0m Trial 87 finished with value: 0.8918638453364898 and parameters: {'C': 4.169421641503986}. Best is trial 69 with value: 0.8953919699209403.\u001b[0m\n"
     ]
    },
    {
     "name": "stdout",
     "output_type": "stream",
     "text": [
      "Overall accuracy: 0.892\n",
      "\n"
     ]
    },
    {
     "name": "stderr",
     "output_type": "stream",
     "text": [
      "\u001b[32m[I 2023-05-11 12:54:00,851]\u001b[0m Trial 88 finished with value: 0.8856266038619911 and parameters: {'C': 18.661346446701383}. Best is trial 69 with value: 0.8953919699209403.\u001b[0m\n"
     ]
    },
    {
     "name": "stdout",
     "output_type": "stream",
     "text": [
      "Overall accuracy: 0.886\n",
      "\n"
     ]
    },
    {
     "name": "stderr",
     "output_type": "stream",
     "text": [
      "\u001b[32m[I 2023-05-11 12:54:01,641]\u001b[0m Trial 89 finished with value: 0.8836861030881527 and parameters: {'C': 47.40994148156236}. Best is trial 69 with value: 0.8953919699209403.\u001b[0m\n"
     ]
    },
    {
     "name": "stdout",
     "output_type": "stream",
     "text": [
      "Overall accuracy: 0.884\n",
      "\n"
     ]
    },
    {
     "name": "stderr",
     "output_type": "stream",
     "text": [
      "\u001b[32m[I 2023-05-11 12:54:02,382]\u001b[0m Trial 90 finished with value: 0.884537942706389 and parameters: {'C': 0.4299784985415738}. Best is trial 69 with value: 0.8953919699209403.\u001b[0m\n"
     ]
    },
    {
     "name": "stdout",
     "output_type": "stream",
     "text": [
      "Overall accuracy: 0.885\n",
      "\n"
     ]
    },
    {
     "name": "stderr",
     "output_type": "stream",
     "text": [
      "\u001b[32m[I 2023-05-11 12:54:03,024]\u001b[0m Trial 91 finished with value: 0.8949923469514528 and parameters: {'C': 2.5937667598131227}. Best is trial 69 with value: 0.8953919699209403.\u001b[0m\n"
     ]
    },
    {
     "name": "stdout",
     "output_type": "stream",
     "text": [
      "Overall accuracy: 0.895\n",
      "\n"
     ]
    },
    {
     "name": "stderr",
     "output_type": "stream",
     "text": [
      "\u001b[32m[I 2023-05-11 12:54:03,682]\u001b[0m Trial 92 finished with value: 0.8926336907945204 and parameters: {'C': 1.8234950609871516}. Best is trial 69 with value: 0.8953919699209403.\u001b[0m\n"
     ]
    },
    {
     "name": "stdout",
     "output_type": "stream",
     "text": [
      "Overall accuracy: 0.893\n",
      "\n"
     ]
    },
    {
     "name": "stderr",
     "output_type": "stream",
     "text": [
      "\u001b[32m[I 2023-05-11 12:54:04,339]\u001b[0m Trial 93 finished with value: 0.8910937380668981 and parameters: {'C': 7.35212171825382}. Best is trial 69 with value: 0.8953919699209403.\u001b[0m\n"
     ]
    },
    {
     "name": "stdout",
     "output_type": "stream",
     "text": [
      "Overall accuracy: 0.891\n",
      "\n"
     ]
    },
    {
     "name": "stderr",
     "output_type": "stream",
     "text": [
      "\u001b[32m[I 2023-05-11 12:54:05,100]\u001b[0m Trial 94 finished with value: 0.8805701637297858 and parameters: {'C': 0.3267049322470916}. Best is trial 69 with value: 0.8953919699209403.\u001b[0m\n"
     ]
    },
    {
     "name": "stdout",
     "output_type": "stream",
     "text": [
      "Overall accuracy: 0.881\n",
      "\n"
     ]
    },
    {
     "name": "stderr",
     "output_type": "stream",
     "text": [
      "\u001b[32m[I 2023-05-11 12:54:05,911]\u001b[0m Trial 95 finished with value: 0.8695205224005003 and parameters: {'C': 131.90878835874966}. Best is trial 69 with value: 0.8953919699209403.\u001b[0m\n"
     ]
    },
    {
     "name": "stdout",
     "output_type": "stream",
     "text": [
      "Overall accuracy: 0.870\n",
      "\n"
     ]
    },
    {
     "name": "stderr",
     "output_type": "stream",
     "text": [
      "\u001b[32m[I 2023-05-11 12:54:06,602]\u001b[0m Trial 96 finished with value: 0.8953919699209403 and parameters: {'C': 3.0135711195920147}. Best is trial 69 with value: 0.8953919699209403.\u001b[0m\n"
     ]
    },
    {
     "name": "stdout",
     "output_type": "stream",
     "text": [
      "Overall accuracy: 0.896\n",
      "\n"
     ]
    },
    {
     "name": "stderr",
     "output_type": "stream",
     "text": [
      "\u001b[32m[I 2023-05-11 12:54:07,780]\u001b[0m Trial 97 finished with value: 0.8591629307956723 and parameters: {'C': 0.053333049692844366}. Best is trial 69 with value: 0.8953919699209403.\u001b[0m\n"
     ]
    },
    {
     "name": "stdout",
     "output_type": "stream",
     "text": [
      "Overall accuracy: 0.860\n",
      "\n"
     ]
    },
    {
     "name": "stderr",
     "output_type": "stream",
     "text": [
      "\u001b[32m[I 2023-05-11 12:54:08,518]\u001b[0m Trial 98 finished with value: 0.883694762224039 and parameters: {'C': 40.26189049100198}. Best is trial 69 with value: 0.8953919699209403.\u001b[0m\n"
     ]
    },
    {
     "name": "stdout",
     "output_type": "stream",
     "text": [
      "Overall accuracy: 0.884\n",
      "\n"
     ]
    },
    {
     "name": "stderr",
     "output_type": "stream",
     "text": [
      "\u001b[32m[I 2023-05-11 12:54:09,200]\u001b[0m Trial 99 finished with value: 0.8889894054570188 and parameters: {'C': 0.744977638738169}. Best is trial 69 with value: 0.8953919699209403.\u001b[0m\n"
     ]
    },
    {
     "name": "stdout",
     "output_type": "stream",
     "text": [
      "Overall accuracy: 0.889\n",
      "\n",
      "Best f1 Score: 0.8953919699209403\n",
      "Best Hyperparameters: {'C': 2.9394010905157013}\n"
     ]
    },
    {
     "name": "stderr",
     "output_type": "stream",
     "text": [
      "\u001b[32m[I 2023-05-11 12:54:09,398]\u001b[0m A new study created in memory with name: no-name-d927644a-5844-4f13-8763-4d47ec567639\u001b[0m\n"
     ]
    },
    {
     "name": "stdout",
     "output_type": "stream",
     "text": [
      "\n",
      "\n",
      "\n",
      "Feature Type: RSpolar | Training Model: ExtraTreesClassifier\n"
     ]
    },
    {
     "name": "stderr",
     "output_type": "stream",
     "text": [
      "\u001b[32m[I 2023-05-11 12:54:09,866]\u001b[0m Trial 0 finished with value: 0.8719376607754735 and parameters: {'n_estimators': 32, 'max_depth': 13, 'criterion': 'gini'}. Best is trial 0 with value: 0.8719376607754735.\u001b[0m\n"
     ]
    },
    {
     "name": "stdout",
     "output_type": "stream",
     "text": [
      "Overall accuracy: 0.872\n",
      "\n"
     ]
    },
    {
     "name": "stderr",
     "output_type": "stream",
     "text": [
      "\u001b[32m[I 2023-05-11 12:54:10,680]\u001b[0m Trial 1 finished with value: 0.8857102990651308 and parameters: {'n_estimators': 43, 'max_depth': 38, 'criterion': 'log_loss'}. Best is trial 1 with value: 0.8857102990651308.\u001b[0m\n"
     ]
    },
    {
     "name": "stdout",
     "output_type": "stream",
     "text": [
      "Overall accuracy: 0.886\n",
      "\n"
     ]
    },
    {
     "name": "stderr",
     "output_type": "stream",
     "text": [
      "\u001b[32m[I 2023-05-11 12:54:15,791]\u001b[0m Trial 2 finished with value: 0.8868488025705057 and parameters: {'n_estimators': 297, 'max_depth': 59, 'criterion': 'gini'}. Best is trial 2 with value: 0.8868488025705057.\u001b[0m\n"
     ]
    },
    {
     "name": "stdout",
     "output_type": "stream",
     "text": [
      "Overall accuracy: 0.887\n",
      "\n"
     ]
    },
    {
     "name": "stderr",
     "output_type": "stream",
     "text": [
      "\u001b[32m[I 2023-05-11 12:54:19,585]\u001b[0m Trial 3 finished with value: 0.8810467976021064 and parameters: {'n_estimators': 205, 'max_depth': 26, 'criterion': 'log_loss'}. Best is trial 2 with value: 0.8868488025705057.\u001b[0m\n"
     ]
    },
    {
     "name": "stdout",
     "output_type": "stream",
     "text": [
      "Overall accuracy: 0.881\n",
      "\n"
     ]
    },
    {
     "name": "stderr",
     "output_type": "stream",
     "text": [
      "\u001b[32m[I 2023-05-11 12:54:24,344]\u001b[0m Trial 4 finished with value: 0.884500039466304 and parameters: {'n_estimators': 277, 'max_depth': 50, 'criterion': 'gini'}. Best is trial 2 with value: 0.8868488025705057.\u001b[0m\n"
     ]
    },
    {
     "name": "stdout",
     "output_type": "stream",
     "text": [
      "Overall accuracy: 0.885\n",
      "\n"
     ]
    },
    {
     "name": "stderr",
     "output_type": "stream",
     "text": [
      "\u001b[32m[I 2023-05-11 12:54:25,278]\u001b[0m Trial 5 finished with value: 0.8769596989584678 and parameters: {'n_estimators': 54, 'max_depth': 41, 'criterion': 'gini'}. Best is trial 2 with value: 0.8868488025705057.\u001b[0m\n",
      "\u001b[32m[I 2023-05-11 12:54:25,360]\u001b[0m Trial 6 finished with value: 0.7992340398939257 and parameters: {'n_estimators': 4, 'max_depth': 30, 'criterion': 'gini'}. Best is trial 2 with value: 0.8868488025705057.\u001b[0m\n"
     ]
    },
    {
     "name": "stdout",
     "output_type": "stream",
     "text": [
      "Overall accuracy: 0.877\n",
      "\n",
      "Overall accuracy: 0.802\n",
      "\n"
     ]
    },
    {
     "name": "stderr",
     "output_type": "stream",
     "text": [
      "\u001b[32m[I 2023-05-11 12:54:25,679]\u001b[0m Trial 7 finished with value: 0.866461701054452 and parameters: {'n_estimators': 17, 'max_depth': 24, 'criterion': 'entropy'}. Best is trial 2 with value: 0.8868488025705057.\u001b[0m\n"
     ]
    },
    {
     "name": "stdout",
     "output_type": "stream",
     "text": [
      "Overall accuracy: 0.867\n",
      "\n"
     ]
    },
    {
     "name": "stderr",
     "output_type": "stream",
     "text": [
      "\u001b[32m[I 2023-05-11 12:54:30,159]\u001b[0m Trial 8 finished with value: 0.8805135911589868 and parameters: {'n_estimators': 261, 'max_depth': 53, 'criterion': 'gini'}. Best is trial 2 with value: 0.8868488025705057.\u001b[0m\n"
     ]
    },
    {
     "name": "stdout",
     "output_type": "stream",
     "text": [
      "Overall accuracy: 0.881\n",
      "\n"
     ]
    },
    {
     "name": "stderr",
     "output_type": "stream",
     "text": [
      "\u001b[32m[I 2023-05-11 12:54:35,068]\u001b[0m Trial 9 finished with value: 0.8872941873905515 and parameters: {'n_estimators': 264, 'max_depth': 64, 'criterion': 'entropy'}. Best is trial 9 with value: 0.8872941873905515.\u001b[0m\n"
     ]
    },
    {
     "name": "stdout",
     "output_type": "stream",
     "text": [
      "Overall accuracy: 0.887\n",
      "\n"
     ]
    },
    {
     "name": "stderr",
     "output_type": "stream",
     "text": [
      "\u001b[32m[I 2023-05-11 12:54:37,475]\u001b[0m Trial 10 finished with value: 0.8865060348548212 and parameters: {'n_estimators': 130, 'max_depth': 64, 'criterion': 'entropy'}. Best is trial 9 with value: 0.8872941873905515.\u001b[0m\n"
     ]
    },
    {
     "name": "stdout",
     "output_type": "stream",
     "text": [
      "Overall accuracy: 0.887\n",
      "\n"
     ]
    },
    {
     "name": "stderr",
     "output_type": "stream",
     "text": [
      "\u001b[32m[I 2023-05-11 12:54:43,308]\u001b[0m Trial 11 finished with value: 0.8845162287658019 and parameters: {'n_estimators': 296, 'max_depth': 62, 'criterion': 'entropy'}. Best is trial 9 with value: 0.8872941873905515.\u001b[0m\n"
     ]
    },
    {
     "name": "stdout",
     "output_type": "stream",
     "text": [
      "Overall accuracy: 0.885\n",
      "\n"
     ]
    },
    {
     "name": "stderr",
     "output_type": "stream",
     "text": [
      "\u001b[32m[I 2023-05-11 12:54:48,107]\u001b[0m Trial 12 finished with value: 0.8833297670105842 and parameters: {'n_estimators': 219, 'max_depth': 52, 'criterion': 'entropy'}. Best is trial 9 with value: 0.8872941873905515.\u001b[0m\n"
     ]
    },
    {
     "name": "stdout",
     "output_type": "stream",
     "text": [
      "Overall accuracy: 0.884\n",
      "\n"
     ]
    },
    {
     "name": "stderr",
     "output_type": "stream",
     "text": [
      "\u001b[32m[I 2023-05-11 12:54:50,058]\u001b[0m Trial 13 finished with value: 0.8670954839980856 and parameters: {'n_estimators': 213, 'max_depth': 5, 'criterion': 'entropy'}. Best is trial 9 with value: 0.8872941873905515.\u001b[0m\n"
     ]
    },
    {
     "name": "stdout",
     "output_type": "stream",
     "text": [
      "Overall accuracy: 0.867\n",
      "\n"
     ]
    },
    {
     "name": "stderr",
     "output_type": "stream",
     "text": [
      "\u001b[32m[I 2023-05-11 12:54:53,054]\u001b[0m Trial 14 finished with value: 0.8849517744294428 and parameters: {'n_estimators': 149, 'max_depth': 58, 'criterion': 'log_loss'}. Best is trial 9 with value: 0.8872941873905515.\u001b[0m\n"
     ]
    },
    {
     "name": "stdout",
     "output_type": "stream",
     "text": [
      "Overall accuracy: 0.885\n",
      "\n"
     ]
    },
    {
     "name": "stderr",
     "output_type": "stream",
     "text": [
      "\u001b[32m[I 2023-05-11 12:54:57,653]\u001b[0m Trial 15 finished with value: 0.885694704165775 and parameters: {'n_estimators': 248, 'max_depth': 44, 'criterion': 'gini'}. Best is trial 9 with value: 0.8872941873905515.\u001b[0m\n"
     ]
    },
    {
     "name": "stdout",
     "output_type": "stream",
     "text": [
      "Overall accuracy: 0.886\n",
      "\n"
     ]
    },
    {
     "name": "stderr",
     "output_type": "stream",
     "text": [
      "\u001b[32m[I 2023-05-11 12:55:01,236]\u001b[0m Trial 16 finished with value: 0.8853275570442394 and parameters: {'n_estimators': 181, 'max_depth': 47, 'criterion': 'entropy'}. Best is trial 9 with value: 0.8872941873905515.\u001b[0m\n"
     ]
    },
    {
     "name": "stdout",
     "output_type": "stream",
     "text": [
      "Overall accuracy: 0.886\n",
      "\n"
     ]
    },
    {
     "name": "stderr",
     "output_type": "stream",
     "text": [
      "\u001b[32m[I 2023-05-11 12:55:03,076]\u001b[0m Trial 17 finished with value: 0.8845613342791954 and parameters: {'n_estimators': 91, 'max_depth': 57, 'criterion': 'entropy'}. Best is trial 9 with value: 0.8872941873905515.\u001b[0m\n"
     ]
    },
    {
     "name": "stdout",
     "output_type": "stream",
     "text": [
      "Overall accuracy: 0.885\n",
      "\n"
     ]
    },
    {
     "name": "stderr",
     "output_type": "stream",
     "text": [
      "\u001b[32m[I 2023-05-11 12:55:07,737]\u001b[0m Trial 18 finished with value: 0.8880017772570669 and parameters: {'n_estimators': 243, 'max_depth': 63, 'criterion': 'gini'}. Best is trial 18 with value: 0.8880017772570669.\u001b[0m\n"
     ]
    },
    {
     "name": "stdout",
     "output_type": "stream",
     "text": [
      "Overall accuracy: 0.888\n",
      "\n"
     ]
    },
    {
     "name": "stderr",
     "output_type": "stream",
     "text": [
      "\u001b[32m[I 2023-05-11 12:55:12,574]\u001b[0m Trial 19 finished with value: 0.8920231026049341 and parameters: {'n_estimators': 232, 'max_depth': 38, 'criterion': 'log_loss'}. Best is trial 19 with value: 0.8920231026049341.\u001b[0m\n"
     ]
    },
    {
     "name": "stdout",
     "output_type": "stream",
     "text": [
      "Overall accuracy: 0.892\n",
      "\n"
     ]
    },
    {
     "name": "stderr",
     "output_type": "stream",
     "text": [
      "\u001b[32m[I 2023-05-11 12:55:15,919]\u001b[0m Trial 20 finished with value: 0.8853200192548736 and parameters: {'n_estimators': 180, 'max_depth': 16, 'criterion': 'log_loss'}. Best is trial 19 with value: 0.8920231026049341.\u001b[0m\n"
     ]
    },
    {
     "name": "stdout",
     "output_type": "stream",
     "text": [
      "Overall accuracy: 0.886\n",
      "\n"
     ]
    },
    {
     "name": "stderr",
     "output_type": "stream",
     "text": [
      "\u001b[32m[I 2023-05-11 12:55:20,605]\u001b[0m Trial 21 finished with value: 0.8904321217353338 and parameters: {'n_estimators': 233, 'max_depth': 38, 'criterion': 'log_loss'}. Best is trial 19 with value: 0.8920231026049341.\u001b[0m\n"
     ]
    },
    {
     "name": "stdout",
     "output_type": "stream",
     "text": [
      "Overall accuracy: 0.891\n",
      "\n"
     ]
    },
    {
     "name": "stderr",
     "output_type": "stream",
     "text": [
      "\u001b[32m[I 2023-05-11 12:55:25,509]\u001b[0m Trial 22 finished with value: 0.8892304132765576 and parameters: {'n_estimators': 233, 'max_depth': 35, 'criterion': 'log_loss'}. Best is trial 19 with value: 0.8920231026049341.\u001b[0m\n"
     ]
    },
    {
     "name": "stdout",
     "output_type": "stream",
     "text": [
      "Overall accuracy: 0.889\n",
      "\n"
     ]
    },
    {
     "name": "stderr",
     "output_type": "stream",
     "text": [
      "\u001b[32m[I 2023-05-11 12:55:31,110]\u001b[0m Trial 23 finished with value: 0.8888777277386208 and parameters: {'n_estimators': 230, 'max_depth': 36, 'criterion': 'log_loss'}. Best is trial 19 with value: 0.8920231026049341.\u001b[0m\n"
     ]
    },
    {
     "name": "stdout",
     "output_type": "stream",
     "text": [
      "Overall accuracy: 0.889\n",
      "\n"
     ]
    },
    {
     "name": "stderr",
     "output_type": "stream",
     "text": [
      "\u001b[32m[I 2023-05-11 12:55:35,567]\u001b[0m Trial 24 finished with value: 0.8825729179649255 and parameters: {'n_estimators': 189, 'max_depth': 32, 'criterion': 'log_loss'}. Best is trial 19 with value: 0.8920231026049341.\u001b[0m\n"
     ]
    },
    {
     "name": "stdout",
     "output_type": "stream",
     "text": [
      "Overall accuracy: 0.883\n",
      "\n"
     ]
    },
    {
     "name": "stderr",
     "output_type": "stream",
     "text": [
      "\u001b[32m[I 2023-05-11 12:55:39,495]\u001b[0m Trial 25 finished with value: 0.8802086142997898 and parameters: {'n_estimators': 158, 'max_depth': 22, 'criterion': 'log_loss'}. Best is trial 19 with value: 0.8920231026049341.\u001b[0m\n"
     ]
    },
    {
     "name": "stdout",
     "output_type": "stream",
     "text": [
      "Overall accuracy: 0.880\n",
      "\n"
     ]
    },
    {
     "name": "stderr",
     "output_type": "stream",
     "text": [
      "\u001b[32m[I 2023-05-11 12:55:41,995]\u001b[0m Trial 26 finished with value: 0.8849297297833603 and parameters: {'n_estimators': 106, 'max_depth': 36, 'criterion': 'log_loss'}. Best is trial 19 with value: 0.8920231026049341.\u001b[0m\n"
     ]
    },
    {
     "name": "stdout",
     "output_type": "stream",
     "text": [
      "Overall accuracy: 0.885\n",
      "\n"
     ]
    },
    {
     "name": "stderr",
     "output_type": "stream",
     "text": [
      "\u001b[32m[I 2023-05-11 12:55:46,947]\u001b[0m Trial 27 finished with value: 0.8825414546255207 and parameters: {'n_estimators': 200, 'max_depth': 43, 'criterion': 'log_loss'}. Best is trial 19 with value: 0.8920231026049341.\u001b[0m\n"
     ]
    },
    {
     "name": "stdout",
     "output_type": "stream",
     "text": [
      "Overall accuracy: 0.883\n",
      "\n"
     ]
    },
    {
     "name": "stderr",
     "output_type": "stream",
     "text": [
      "\u001b[32m[I 2023-05-11 12:55:52,391]\u001b[0m Trial 28 finished with value: 0.8841099571266946 and parameters: {'n_estimators': 236, 'max_depth': 28, 'criterion': 'log_loss'}. Best is trial 19 with value: 0.8920231026049341.\u001b[0m\n"
     ]
    },
    {
     "name": "stdout",
     "output_type": "stream",
     "text": [
      "Overall accuracy: 0.884\n",
      "\n"
     ]
    },
    {
     "name": "stderr",
     "output_type": "stream",
     "text": [
      "\u001b[32m[I 2023-05-11 12:55:57,789]\u001b[0m Trial 29 finished with value: 0.8876536220064731 and parameters: {'n_estimators': 282, 'max_depth': 19, 'criterion': 'log_loss'}. Best is trial 19 with value: 0.8920231026049341.\u001b[0m\n"
     ]
    },
    {
     "name": "stdout",
     "output_type": "stream",
     "text": [
      "Overall accuracy: 0.888\n",
      "\n"
     ]
    },
    {
     "name": "stderr",
     "output_type": "stream",
     "text": [
      "\u001b[32m[I 2023-05-11 12:56:01,077]\u001b[0m Trial 30 finished with value: 0.888891782154462 and parameters: {'n_estimators': 165, 'max_depth': 34, 'criterion': 'log_loss'}. Best is trial 19 with value: 0.8920231026049341.\u001b[0m\n"
     ]
    },
    {
     "name": "stdout",
     "output_type": "stream",
     "text": [
      "Overall accuracy: 0.889\n",
      "\n"
     ]
    },
    {
     "name": "stderr",
     "output_type": "stream",
     "text": [
      "\u001b[32m[I 2023-05-11 12:56:04,355]\u001b[0m Trial 31 finished with value: 0.887308722501922 and parameters: {'n_estimators': 161, 'max_depth': 34, 'criterion': 'log_loss'}. Best is trial 19 with value: 0.8920231026049341.\u001b[0m\n"
     ]
    },
    {
     "name": "stdout",
     "output_type": "stream",
     "text": [
      "Overall accuracy: 0.887\n",
      "\n"
     ]
    },
    {
     "name": "stderr",
     "output_type": "stream",
     "text": [
      "\u001b[32m[I 2023-05-11 12:56:08,762]\u001b[0m Trial 32 finished with value: 0.8911975048338262 and parameters: {'n_estimators': 223, 'max_depth': 40, 'criterion': 'log_loss'}. Best is trial 19 with value: 0.8920231026049341.\u001b[0m\n"
     ]
    },
    {
     "name": "stdout",
     "output_type": "stream",
     "text": [
      "Overall accuracy: 0.891\n",
      "\n"
     ]
    },
    {
     "name": "stderr",
     "output_type": "stream",
     "text": [
      "\u001b[32m[I 2023-05-11 12:56:13,823]\u001b[0m Trial 33 finished with value: 0.8852965462060367 and parameters: {'n_estimators': 254, 'max_depth': 39, 'criterion': 'log_loss'}. Best is trial 19 with value: 0.8920231026049341.\u001b[0m\n"
     ]
    },
    {
     "name": "stdout",
     "output_type": "stream",
     "text": [
      "Overall accuracy: 0.886\n",
      "\n"
     ]
    },
    {
     "name": "stderr",
     "output_type": "stream",
     "text": [
      "\u001b[32m[I 2023-05-11 12:56:18,429]\u001b[0m Trial 34 finished with value: 0.8880438093217631 and parameters: {'n_estimators': 226, 'max_depth': 45, 'criterion': 'log_loss'}. Best is trial 19 with value: 0.8920231026049341.\u001b[0m\n"
     ]
    },
    {
     "name": "stdout",
     "output_type": "stream",
     "text": [
      "Overall accuracy: 0.888\n",
      "\n"
     ]
    },
    {
     "name": "stderr",
     "output_type": "stream",
     "text": [
      "\u001b[32m[I 2023-05-11 12:56:22,386]\u001b[0m Trial 35 finished with value: 0.8833215894881007 and parameters: {'n_estimators': 199, 'max_depth': 40, 'criterion': 'log_loss'}. Best is trial 19 with value: 0.8920231026049341.\u001b[0m\n"
     ]
    },
    {
     "name": "stdout",
     "output_type": "stream",
     "text": [
      "Overall accuracy: 0.884\n",
      "\n"
     ]
    },
    {
     "name": "stderr",
     "output_type": "stream",
     "text": [
      "\u001b[32m[I 2023-05-11 12:56:27,993]\u001b[0m Trial 36 finished with value: 0.8900342246609514 and parameters: {'n_estimators': 273, 'max_depth': 48, 'criterion': 'log_loss'}. Best is trial 19 with value: 0.8920231026049341.\u001b[0m\n"
     ]
    },
    {
     "name": "stdout",
     "output_type": "stream",
     "text": [
      "Overall accuracy: 0.890\n",
      "\n"
     ]
    },
    {
     "name": "stderr",
     "output_type": "stream",
     "text": [
      "\u001b[32m[I 2023-05-11 12:56:34,452]\u001b[0m Trial 37 finished with value: 0.8857467886723207 and parameters: {'n_estimators': 277, 'max_depth': 47, 'criterion': 'log_loss'}. Best is trial 19 with value: 0.8920231026049341.\u001b[0m\n"
     ]
    },
    {
     "name": "stdout",
     "output_type": "stream",
     "text": [
      "Overall accuracy: 0.886\n",
      "\n"
     ]
    },
    {
     "name": "stderr",
     "output_type": "stream",
     "text": [
      "\u001b[32m[I 2023-05-11 12:56:41,281]\u001b[0m Trial 38 finished with value: 0.886513424073485 and parameters: {'n_estimators': 298, 'max_depth': 50, 'criterion': 'log_loss'}. Best is trial 19 with value: 0.8920231026049341.\u001b[0m\n"
     ]
    },
    {
     "name": "stdout",
     "output_type": "stream",
     "text": [
      "Overall accuracy: 0.887\n",
      "\n"
     ]
    },
    {
     "name": "stderr",
     "output_type": "stream",
     "text": [
      "\u001b[32m[I 2023-05-11 12:56:46,681]\u001b[0m Trial 39 finished with value: 0.8833534247118996 and parameters: {'n_estimators': 267, 'max_depth': 30, 'criterion': 'log_loss'}. Best is trial 19 with value: 0.8920231026049341.\u001b[0m\n"
     ]
    },
    {
     "name": "stdout",
     "output_type": "stream",
     "text": [
      "Overall accuracy: 0.884\n",
      "\n"
     ]
    },
    {
     "name": "stderr",
     "output_type": "stream",
     "text": [
      "\u001b[32m[I 2023-05-11 12:56:52,471]\u001b[0m Trial 40 finished with value: 0.8849297297833603 and parameters: {'n_estimators': 285, 'max_depth': 41, 'criterion': 'log_loss'}. Best is trial 19 with value: 0.8920231026049341.\u001b[0m\n"
     ]
    },
    {
     "name": "stdout",
     "output_type": "stream",
     "text": [
      "Overall accuracy: 0.885\n",
      "\n"
     ]
    },
    {
     "name": "stderr",
     "output_type": "stream",
     "text": [
      "\u001b[32m[I 2023-05-11 12:56:57,279]\u001b[0m Trial 41 finished with value: 0.8860768307363884 and parameters: {'n_estimators': 241, 'max_depth': 37, 'criterion': 'log_loss'}. Best is trial 19 with value: 0.8920231026049341.\u001b[0m\n"
     ]
    },
    {
     "name": "stdout",
     "output_type": "stream",
     "text": [
      "Overall accuracy: 0.886\n",
      "\n"
     ]
    },
    {
     "name": "stderr",
     "output_type": "stream",
     "text": [
      "\u001b[32m[I 2023-05-11 12:57:01,516]\u001b[0m Trial 42 finished with value: 0.8900108947243945 and parameters: {'n_estimators': 215, 'max_depth': 27, 'criterion': 'log_loss'}. Best is trial 19 with value: 0.8920231026049341.\u001b[0m\n"
     ]
    },
    {
     "name": "stdout",
     "output_type": "stream",
     "text": [
      "Overall accuracy: 0.890\n",
      "\n"
     ]
    },
    {
     "name": "stderr",
     "output_type": "stream",
     "text": [
      "\u001b[32m[I 2023-05-11 12:57:05,603]\u001b[0m Trial 43 finished with value: 0.8876919373113685 and parameters: {'n_estimators': 206, 'max_depth': 27, 'criterion': 'log_loss'}. Best is trial 19 with value: 0.8920231026049341.\u001b[0m\n"
     ]
    },
    {
     "name": "stdout",
     "output_type": "stream",
     "text": [
      "Overall accuracy: 0.888\n",
      "\n"
     ]
    },
    {
     "name": "stderr",
     "output_type": "stream",
     "text": [
      "\u001b[32m[I 2023-05-11 12:57:10,891]\u001b[0m Trial 44 finished with value: 0.8872941873905515 and parameters: {'n_estimators': 261, 'max_depth': 23, 'criterion': 'log_loss'}. Best is trial 19 with value: 0.8920231026049341.\u001b[0m\n"
     ]
    },
    {
     "name": "stdout",
     "output_type": "stream",
     "text": [
      "Overall accuracy: 0.887\n",
      "\n"
     ]
    },
    {
     "name": "stderr",
     "output_type": "stream",
     "text": [
      "\u001b[32m[I 2023-05-11 12:57:15,242]\u001b[0m Trial 45 finished with value: 0.8908299576907054 and parameters: {'n_estimators': 217, 'max_depth': 31, 'criterion': 'log_loss'}. Best is trial 19 with value: 0.8920231026049341.\u001b[0m\n"
     ]
    },
    {
     "name": "stdout",
     "output_type": "stream",
     "text": [
      "Overall accuracy: 0.891\n",
      "\n"
     ]
    },
    {
     "name": "stderr",
     "output_type": "stream",
     "text": [
      "\u001b[32m[I 2023-05-11 12:57:20,306]\u001b[0m Trial 46 finished with value: 0.8907749546856616 and parameters: {'n_estimators': 273, 'max_depth': 54, 'criterion': 'gini'}. Best is trial 19 with value: 0.8920231026049341.\u001b[0m\n"
     ]
    },
    {
     "name": "stdout",
     "output_type": "stream",
     "text": [
      "Overall accuracy: 0.891\n",
      "\n"
     ]
    },
    {
     "name": "stderr",
     "output_type": "stream",
     "text": [
      "\u001b[32m[I 2023-05-11 12:57:25,256]\u001b[0m Trial 47 finished with value: 0.8872388777801284 and parameters: {'n_estimators': 251, 'max_depth': 31, 'criterion': 'gini'}. Best is trial 19 with value: 0.8920231026049341.\u001b[0m\n"
     ]
    },
    {
     "name": "stdout",
     "output_type": "stream",
     "text": [
      "Overall accuracy: 0.887\n",
      "\n"
     ]
    },
    {
     "name": "stderr",
     "output_type": "stream",
     "text": [
      "\u001b[32m[I 2023-05-11 12:57:29,719]\u001b[0m Trial 48 finished with value: 0.8876373126571223 and parameters: {'n_estimators': 226, 'max_depth': 55, 'criterion': 'gini'}. Best is trial 19 with value: 0.8920231026049341.\u001b[0m\n"
     ]
    },
    {
     "name": "stdout",
     "output_type": "stream",
     "text": [
      "Overall accuracy: 0.888\n",
      "\n"
     ]
    },
    {
     "name": "stderr",
     "output_type": "stream",
     "text": [
      "\u001b[32m[I 2023-05-11 12:57:30,302]\u001b[0m Trial 49 finished with value: 0.8703089180355426 and parameters: {'n_estimators': 46, 'max_depth': 8, 'criterion': 'gini'}. Best is trial 19 with value: 0.8920231026049341.\u001b[0m\n"
     ]
    },
    {
     "name": "stdout",
     "output_type": "stream",
     "text": [
      "Overall accuracy: 0.871\n",
      "\n"
     ]
    },
    {
     "name": "stderr",
     "output_type": "stream",
     "text": [
      "\u001b[32m[I 2023-05-11 12:57:33,950]\u001b[0m Trial 50 finished with value: 0.8813379186811567 and parameters: {'n_estimators': 187, 'max_depth': 43, 'criterion': 'gini'}. Best is trial 19 with value: 0.8920231026049341.\u001b[0m\n"
     ]
    },
    {
     "name": "stdout",
     "output_type": "stream",
     "text": [
      "Overall accuracy: 0.882\n",
      "\n"
     ]
    },
    {
     "name": "stderr",
     "output_type": "stream",
     "text": [
      "\u001b[32m[I 2023-05-11 12:57:39,123]\u001b[0m Trial 51 finished with value: 0.8856702399563263 and parameters: {'n_estimators': 272, 'max_depth': 50, 'criterion': 'gini'}. Best is trial 19 with value: 0.8920231026049341.\u001b[0m\n"
     ]
    },
    {
     "name": "stdout",
     "output_type": "stream",
     "text": [
      "Overall accuracy: 0.886\n",
      "\n"
     ]
    },
    {
     "name": "stderr",
     "output_type": "stream",
     "text": [
      "\u001b[32m[I 2023-05-11 12:57:44,491]\u001b[0m Trial 52 finished with value: 0.8864418137145409 and parameters: {'n_estimators': 288, 'max_depth': 47, 'criterion': 'log_loss'}. Best is trial 19 with value: 0.8920231026049341.\u001b[0m\n"
     ]
    },
    {
     "name": "stdout",
     "output_type": "stream",
     "text": [
      "Overall accuracy: 0.887\n",
      "\n"
     ]
    },
    {
     "name": "stderr",
     "output_type": "stream",
     "text": [
      "\u001b[32m[I 2023-05-11 12:57:49,238]\u001b[0m Trial 53 finished with value: 0.8927968960863698 and parameters: {'n_estimators': 253, 'max_depth': 53, 'criterion': 'gini'}. Best is trial 53 with value: 0.8927968960863698.\u001b[0m\n"
     ]
    },
    {
     "name": "stdout",
     "output_type": "stream",
     "text": [
      "Overall accuracy: 0.893\n",
      "\n"
     ]
    },
    {
     "name": "stderr",
     "output_type": "stream",
     "text": [
      "\u001b[32m[I 2023-05-11 12:57:53,877]\u001b[0m Trial 54 finished with value: 0.8852545552834928 and parameters: {'n_estimators': 254, 'max_depth': 54, 'criterion': 'gini'}. Best is trial 53 with value: 0.8927968960863698.\u001b[0m\n"
     ]
    },
    {
     "name": "stdout",
     "output_type": "stream",
     "text": [
      "Overall accuracy: 0.886\n",
      "\n"
     ]
    },
    {
     "name": "stderr",
     "output_type": "stream",
     "text": [
      "\u001b[32m[I 2023-05-11 12:57:58,010]\u001b[0m Trial 55 finished with value: 0.8879656252948568 and parameters: {'n_estimators': 215, 'max_depth': 61, 'criterion': 'gini'}. Best is trial 53 with value: 0.8927968960863698.\u001b[0m\n"
     ]
    },
    {
     "name": "stdout",
     "output_type": "stream",
     "text": [
      "Overall accuracy: 0.888\n",
      "\n"
     ]
    },
    {
     "name": "stderr",
     "output_type": "stream",
     "text": [
      "\u001b[32m[I 2023-05-11 12:58:02,705]\u001b[0m Trial 56 finished with value: 0.8861230275818828 and parameters: {'n_estimators': 243, 'max_depth': 56, 'criterion': 'gini'}. Best is trial 53 with value: 0.8927968960863698.\u001b[0m\n"
     ]
    },
    {
     "name": "stdout",
     "output_type": "stream",
     "text": [
      "Overall accuracy: 0.886\n",
      "\n"
     ]
    },
    {
     "name": "stderr",
     "output_type": "stream",
     "text": [
      "\u001b[32m[I 2023-05-11 12:58:07,003]\u001b[0m Trial 57 finished with value: 0.8895792170140095 and parameters: {'n_estimators': 224, 'max_depth': 60, 'criterion': 'gini'}. Best is trial 53 with value: 0.8927968960863698.\u001b[0m\n"
     ]
    },
    {
     "name": "stdout",
     "output_type": "stream",
     "text": [
      "Overall accuracy: 0.890\n",
      "\n"
     ]
    },
    {
     "name": "stderr",
     "output_type": "stream",
     "text": [
      "\u001b[32m[I 2023-05-11 12:58:12,190]\u001b[0m Trial 58 finished with value: 0.8861156837999491 and parameters: {'n_estimators': 259, 'max_depth': 51, 'criterion': 'entropy'}. Best is trial 53 with value: 0.8927968960863698.\u001b[0m\n"
     ]
    },
    {
     "name": "stdout",
     "output_type": "stream",
     "text": [
      "Overall accuracy: 0.886\n",
      "\n"
     ]
    },
    {
     "name": "stderr",
     "output_type": "stream",
     "text": [
      "\u001b[32m[I 2023-05-11 12:58:15,390]\u001b[0m Trial 59 finished with value: 0.8836683478280565 and parameters: {'n_estimators': 173, 'max_depth': 41, 'criterion': 'gini'}. Best is trial 53 with value: 0.8927968960863698.\u001b[0m\n"
     ]
    },
    {
     "name": "stdout",
     "output_type": "stream",
     "text": [
      "Overall accuracy: 0.884\n",
      "\n"
     ]
    },
    {
     "name": "stderr",
     "output_type": "stream",
     "text": [
      "\u001b[32m[I 2023-05-11 12:58:18,102]\u001b[0m Trial 60 finished with value: 0.8887904971355383 and parameters: {'n_estimators': 144, 'max_depth': 38, 'criterion': 'gini'}. Best is trial 53 with value: 0.8927968960863698.\u001b[0m\n"
     ]
    },
    {
     "name": "stdout",
     "output_type": "stream",
     "text": [
      "Overall accuracy: 0.889\n",
      "\n"
     ]
    },
    {
     "name": "stderr",
     "output_type": "stream",
     "text": [
      "\u001b[32m[I 2023-05-11 12:58:23,479]\u001b[0m Trial 61 finished with value: 0.8829554835694071 and parameters: {'n_estimators': 269, 'max_depth': 48, 'criterion': 'log_loss'}. Best is trial 53 with value: 0.8927968960863698.\u001b[0m\n"
     ]
    },
    {
     "name": "stdout",
     "output_type": "stream",
     "text": [
      "Overall accuracy: 0.883\n",
      "\n"
     ]
    },
    {
     "name": "stderr",
     "output_type": "stream",
     "text": [
      "\u001b[32m[I 2023-05-11 12:58:28,188]\u001b[0m Trial 62 finished with value: 0.8864750600424762 and parameters: {'n_estimators': 236, 'max_depth': 43, 'criterion': 'log_loss'}. Best is trial 53 with value: 0.8927968960863698.\u001b[0m\n"
     ]
    },
    {
     "name": "stdout",
     "output_type": "stream",
     "text": [
      "Overall accuracy: 0.887\n",
      "\n"
     ]
    },
    {
     "name": "stderr",
     "output_type": "stream",
     "text": [
      "\u001b[32m[I 2023-05-11 12:58:33,989]\u001b[0m Trial 63 finished with value: 0.88844990576051 and parameters: {'n_estimators': 290, 'max_depth': 53, 'criterion': 'log_loss'}. Best is trial 53 with value: 0.8927968960863698.\u001b[0m\n"
     ]
    },
    {
     "name": "stdout",
     "output_type": "stream",
     "text": [
      "Overall accuracy: 0.889\n",
      "\n"
     ]
    },
    {
     "name": "stderr",
     "output_type": "stream",
     "text": [
      "\u001b[32m[I 2023-05-11 12:58:35,323]\u001b[0m Trial 64 finished with value: 0.8888159564125743 and parameters: {'n_estimators': 66, 'max_depth': 45, 'criterion': 'log_loss'}. Best is trial 53 with value: 0.8927968960863698.\u001b[0m\n"
     ]
    },
    {
     "name": "stdout",
     "output_type": "stream",
     "text": [
      "Overall accuracy: 0.889\n",
      "\n"
     ]
    },
    {
     "name": "stderr",
     "output_type": "stream",
     "text": [
      "\u001b[32m[I 2023-05-11 12:58:39,480]\u001b[0m Trial 65 finished with value: 0.882549540565214 and parameters: {'n_estimators': 208, 'max_depth': 33, 'criterion': 'entropy'}. Best is trial 53 with value: 0.8927968960863698.\u001b[0m\n"
     ]
    },
    {
     "name": "stdout",
     "output_type": "stream",
     "text": [
      "Overall accuracy: 0.883\n",
      "\n"
     ]
    },
    {
     "name": "stderr",
     "output_type": "stream",
     "text": [
      "\u001b[32m[I 2023-05-11 12:58:43,337]\u001b[0m Trial 66 finished with value: 0.8868810841494374 and parameters: {'n_estimators': 194, 'max_depth': 59, 'criterion': 'log_loss'}. Best is trial 53 with value: 0.8927968960863698.\u001b[0m\n"
     ]
    },
    {
     "name": "stdout",
     "output_type": "stream",
     "text": [
      "Overall accuracy: 0.887\n",
      "\n"
     ]
    },
    {
     "name": "stderr",
     "output_type": "stream",
     "text": [
      "\u001b[32m[I 2023-05-11 12:58:48,205]\u001b[0m Trial 67 finished with value: 0.8849517744294428 and parameters: {'n_estimators': 247, 'max_depth': 38, 'criterion': 'log_loss'}. Best is trial 53 with value: 0.8927968960863698.\u001b[0m\n"
     ]
    },
    {
     "name": "stdout",
     "output_type": "stream",
     "text": [
      "Overall accuracy: 0.885\n",
      "\n"
     ]
    },
    {
     "name": "stderr",
     "output_type": "stream",
     "text": [
      "\u001b[32m[I 2023-05-11 12:58:53,332]\u001b[0m Trial 68 finished with value: 0.8872472021638254 and parameters: {'n_estimators': 277, 'max_depth': 48, 'criterion': 'gini'}. Best is trial 53 with value: 0.8927968960863698.\u001b[0m\n"
     ]
    },
    {
     "name": "stdout",
     "output_type": "stream",
     "text": [
      "Overall accuracy: 0.887\n",
      "\n"
     ]
    },
    {
     "name": "stderr",
     "output_type": "stream",
     "text": [
      "\u001b[32m[I 2023-05-11 12:58:57,962]\u001b[0m Trial 69 finished with value: 0.8848901138097002 and parameters: {'n_estimators': 235, 'max_depth': 29, 'criterion': 'log_loss'}. Best is trial 53 with value: 0.8927968960863698.\u001b[0m\n"
     ]
    },
    {
     "name": "stdout",
     "output_type": "stream",
     "text": [
      "Overall accuracy: 0.885\n",
      "\n"
     ]
    },
    {
     "name": "stderr",
     "output_type": "stream",
     "text": [
      "\u001b[32m[I 2023-05-11 12:59:02,335]\u001b[0m Trial 70 finished with value: 0.8849143149162499 and parameters: {'n_estimators': 220, 'max_depth': 57, 'criterion': 'log_loss'}. Best is trial 53 with value: 0.8927968960863698.\u001b[0m\n"
     ]
    },
    {
     "name": "stdout",
     "output_type": "stream",
     "text": [
      "Overall accuracy: 0.885\n",
      "\n"
     ]
    },
    {
     "name": "stderr",
     "output_type": "stream",
     "text": [
      "\u001b[32m[I 2023-05-11 12:59:06,379]\u001b[0m Trial 71 finished with value: 0.8857397759744465 and parameters: {'n_estimators': 211, 'max_depth': 20, 'criterion': 'log_loss'}. Best is trial 53 with value: 0.8927968960863698.\u001b[0m\n"
     ]
    },
    {
     "name": "stdout",
     "output_type": "stream",
     "text": [
      "Overall accuracy: 0.886\n",
      "\n"
     ]
    },
    {
     "name": "stderr",
     "output_type": "stream",
     "text": [
      "\u001b[32m[I 2023-05-11 12:59:11,554]\u001b[0m Trial 72 finished with value: 0.8876693692773159 and parameters: {'n_estimators': 260, 'max_depth': 26, 'criterion': 'log_loss'}. Best is trial 53 with value: 0.8927968960863698.\u001b[0m\n"
     ]
    },
    {
     "name": "stdout",
     "output_type": "stream",
     "text": [
      "Overall accuracy: 0.888\n",
      "\n"
     ]
    },
    {
     "name": "stderr",
     "output_type": "stream",
     "text": [
      "\u001b[32m[I 2023-05-11 12:59:15,887]\u001b[0m Trial 73 finished with value: 0.8880749135672316 and parameters: {'n_estimators': 218, 'max_depth': 26, 'criterion': 'log_loss'}. Best is trial 53 with value: 0.8927968960863698.\u001b[0m\n"
     ]
    },
    {
     "name": "stdout",
     "output_type": "stream",
     "text": [
      "Overall accuracy: 0.888\n",
      "\n"
     ]
    },
    {
     "name": "stderr",
     "output_type": "stream",
     "text": [
      "\u001b[32m[I 2023-05-11 12:59:20,760]\u001b[0m Trial 74 finished with value: 0.8884800640670782 and parameters: {'n_estimators': 243, 'max_depth': 35, 'criterion': 'log_loss'}. Best is trial 53 with value: 0.8927968960863698.\u001b[0m\n"
     ]
    },
    {
     "name": "stdout",
     "output_type": "stream",
     "text": [
      "Overall accuracy: 0.889\n",
      "\n"
     ]
    },
    {
     "name": "stderr",
     "output_type": "stream",
     "text": [
      "\u001b[32m[I 2023-05-11 12:59:24,775]\u001b[0m Trial 75 finished with value: 0.8861372887600255 and parameters: {'n_estimators': 201, 'max_depth': 33, 'criterion': 'log_loss'}. Best is trial 53 with value: 0.8927968960863698.\u001b[0m\n"
     ]
    },
    {
     "name": "stdout",
     "output_type": "stream",
     "text": [
      "Overall accuracy: 0.886\n",
      "\n"
     ]
    },
    {
     "name": "stderr",
     "output_type": "stream",
     "text": [
      "\u001b[32m[I 2023-05-11 12:59:30,760]\u001b[0m Trial 76 finished with value: 0.8868652263714307 and parameters: {'n_estimators': 300, 'max_depth': 31, 'criterion': 'entropy'}. Best is trial 53 with value: 0.8927968960863698.\u001b[0m\n"
     ]
    },
    {
     "name": "stdout",
     "output_type": "stream",
     "text": [
      "Overall accuracy: 0.887\n",
      "\n"
     ]
    },
    {
     "name": "stderr",
     "output_type": "stream",
     "text": [
      "\u001b[32m[I 2023-05-11 12:59:35,347]\u001b[0m Trial 77 finished with value: 0.8845162287658019 and parameters: {'n_estimators': 228, 'max_depth': 42, 'criterion': 'log_loss'}. Best is trial 53 with value: 0.8927968960863698.\u001b[0m\n"
     ]
    },
    {
     "name": "stdout",
     "output_type": "stream",
     "text": [
      "Overall accuracy: 0.885\n",
      "\n"
     ]
    },
    {
     "name": "stderr",
     "output_type": "stream",
     "text": [
      "\u001b[32m[I 2023-05-11 12:59:40,980]\u001b[0m Trial 78 finished with value: 0.8881106482170311 and parameters: {'n_estimators': 273, 'max_depth': 39, 'criterion': 'log_loss'}. Best is trial 53 with value: 0.8927968960863698.\u001b[0m\n"
     ]
    },
    {
     "name": "stdout",
     "output_type": "stream",
     "text": [
      "Overall accuracy: 0.888\n",
      "\n"
     ]
    },
    {
     "name": "stderr",
     "output_type": "stream",
     "text": [
      "\u001b[32m[I 2023-05-11 12:59:45,612]\u001b[0m Trial 79 finished with value: 0.8868488025705057 and parameters: {'n_estimators': 249, 'max_depth': 36, 'criterion': 'gini'}. Best is trial 53 with value: 0.8927968960863698.\u001b[0m\n"
     ]
    },
    {
     "name": "stdout",
     "output_type": "stream",
     "text": [
      "Overall accuracy: 0.887\n",
      "\n"
     ]
    },
    {
     "name": "stderr",
     "output_type": "stream",
     "text": [
      "\u001b[32m[I 2023-05-11 12:59:50,367]\u001b[0m Trial 80 finished with value: 0.8825332218495068 and parameters: {'n_estimators': 237, 'max_depth': 52, 'criterion': 'log_loss'}. Best is trial 53 with value: 0.8927968960863698.\u001b[0m\n"
     ]
    },
    {
     "name": "stdout",
     "output_type": "stream",
     "text": [
      "Overall accuracy: 0.883\n",
      "\n"
     ]
    },
    {
     "name": "stderr",
     "output_type": "stream",
     "text": [
      "\u001b[32m[I 2023-05-11 12:59:54,520]\u001b[0m Trial 81 finished with value: 0.8904011265788232 and parameters: {'n_estimators': 224, 'max_depth': 60, 'criterion': 'gini'}. Best is trial 53 with value: 0.8927968960863698.\u001b[0m\n"
     ]
    },
    {
     "name": "stdout",
     "output_type": "stream",
     "text": [
      "Overall accuracy: 0.891\n",
      "\n"
     ]
    },
    {
     "name": "stderr",
     "output_type": "stream",
     "text": [
      "\u001b[32m[I 2023-05-11 12:59:58,816]\u001b[0m Trial 82 finished with value: 0.8896126454750737 and parameters: {'n_estimators': 230, 'max_depth': 54, 'criterion': 'gini'}. Best is trial 53 with value: 0.8927968960863698.\u001b[0m\n"
     ]
    },
    {
     "name": "stdout",
     "output_type": "stream",
     "text": [
      "Overall accuracy: 0.890\n",
      "\n"
     ]
    },
    {
     "name": "stderr",
     "output_type": "stream",
     "text": [
      "\u001b[32m[I 2023-05-11 13:00:03,746]\u001b[0m Trial 83 finished with value: 0.8892534949858781 and parameters: {'n_estimators': 264, 'max_depth': 63, 'criterion': 'gini'}. Best is trial 53 with value: 0.8927968960863698.\u001b[0m\n"
     ]
    },
    {
     "name": "stdout",
     "output_type": "stream",
     "text": [
      "Overall accuracy: 0.889\n",
      "\n"
     ]
    },
    {
     "name": "stderr",
     "output_type": "stream",
     "text": [
      "\u001b[32m[I 2023-05-11 13:00:07,764]\u001b[0m Trial 84 finished with value: 0.8876455376216932 and parameters: {'n_estimators': 214, 'max_depth': 58, 'criterion': 'gini'}. Best is trial 53 with value: 0.8927968960863698.\u001b[0m\n"
     ]
    },
    {
     "name": "stdout",
     "output_type": "stream",
     "text": [
      "Overall accuracy: 0.888\n",
      "\n"
     ]
    },
    {
     "name": "stderr",
     "output_type": "stream",
     "text": [
      "\u001b[32m[I 2023-05-11 13:00:11,281]\u001b[0m Trial 85 finished with value: 0.8841180793956478 and parameters: {'n_estimators': 190, 'max_depth': 24, 'criterion': 'gini'}. Best is trial 53 with value: 0.8927968960863698.\u001b[0m\n"
     ]
    },
    {
     "name": "stdout",
     "output_type": "stream",
     "text": [
      "Overall accuracy: 0.884\n",
      "\n"
     ]
    },
    {
     "name": "stderr",
     "output_type": "stream",
     "text": [
      "\u001b[32m[I 2023-05-11 13:00:13,635]\u001b[0m Trial 86 finished with value: 0.8896513232352987 and parameters: {'n_estimators': 117, 'max_depth': 46, 'criterion': 'log_loss'}. Best is trial 53 with value: 0.8927968960863698.\u001b[0m\n"
     ]
    },
    {
     "name": "stdout",
     "output_type": "stream",
     "text": [
      "Overall accuracy: 0.890\n",
      "\n"
     ]
    },
    {
     "name": "stderr",
     "output_type": "stream",
     "text": [
      "\u001b[32m[I 2023-05-11 13:00:18,440]\u001b[0m Trial 87 finished with value: 0.8919701136774656 and parameters: {'n_estimators': 257, 'max_depth': 49, 'criterion': 'gini'}. Best is trial 53 with value: 0.8927968960863698.\u001b[0m\n"
     ]
    },
    {
     "name": "stdout",
     "output_type": "stream",
     "text": [
      "Overall accuracy: 0.892\n",
      "\n"
     ]
    },
    {
     "name": "stderr",
     "output_type": "stream",
     "text": [
      "\u001b[32m[I 2023-05-11 13:00:23,726]\u001b[0m Trial 88 finished with value: 0.8849143149162499 and parameters: {'n_estimators': 282, 'max_depth': 49, 'criterion': 'gini'}. Best is trial 53 with value: 0.8927968960863698.\u001b[0m\n"
     ]
    },
    {
     "name": "stdout",
     "output_type": "stream",
     "text": [
      "Overall accuracy: 0.885\n",
      "\n"
     ]
    },
    {
     "name": "stderr",
     "output_type": "stream",
     "text": [
      "\u001b[32m[I 2023-05-11 13:00:28,418]\u001b[0m Trial 89 finished with value: 0.8857178823190909 and parameters: {'n_estimators': 251, 'max_depth': 55, 'criterion': 'gini'}. Best is trial 53 with value: 0.8927968960863698.\u001b[0m\n"
     ]
    },
    {
     "name": "stdout",
     "output_type": "stream",
     "text": [
      "Overall accuracy: 0.886\n",
      "\n"
     ]
    },
    {
     "name": "stderr",
     "output_type": "stream",
     "text": [
      "\u001b[32m[I 2023-05-11 13:00:30,203]\u001b[0m Trial 90 finished with value: 0.7187400486838627 and parameters: {'n_estimators': 293, 'max_depth': 1, 'criterion': 'gini'}. Best is trial 53 with value: 0.8927968960863698.\u001b[0m\n"
     ]
    },
    {
     "name": "stdout",
     "output_type": "stream",
     "text": [
      "Overall accuracy: 0.742\n",
      "\n"
     ]
    },
    {
     "name": "stderr",
     "output_type": "stream",
     "text": [
      "\u001b[32m[I 2023-05-11 13:00:34,348]\u001b[0m Trial 91 finished with value: 0.8872472021638254 and parameters: {'n_estimators': 223, 'max_depth': 52, 'criterion': 'gini'}. Best is trial 53 with value: 0.8927968960863698.\u001b[0m\n"
     ]
    },
    {
     "name": "stdout",
     "output_type": "stream",
     "text": [
      "Overall accuracy: 0.887\n",
      "\n"
     ]
    },
    {
     "name": "stderr",
     "output_type": "stream",
     "text": [
      "\u001b[32m[I 2023-05-11 13:00:39,260]\u001b[0m Trial 92 finished with value: 0.8880896265169089 and parameters: {'n_estimators': 259, 'max_depth': 29, 'criterion': 'gini'}. Best is trial 53 with value: 0.8927968960863698.\u001b[0m\n"
     ]
    },
    {
     "name": "stdout",
     "output_type": "stream",
     "text": [
      "Overall accuracy: 0.888\n",
      "\n"
     ]
    },
    {
     "name": "stderr",
     "output_type": "stream",
     "text": [
      "\u001b[32m[I 2023-05-11 13:00:44,333]\u001b[0m Trial 93 finished with value: 0.8920012032462841 and parameters: {'n_estimators': 255, 'max_depth': 51, 'criterion': 'log_loss'}. Best is trial 53 with value: 0.8927968960863698.\u001b[0m\n"
     ]
    },
    {
     "name": "stdout",
     "output_type": "stream",
     "text": [
      "Overall accuracy: 0.892\n",
      "\n"
     ]
    },
    {
     "name": "stderr",
     "output_type": "stream",
     "text": [
      "\u001b[32m[I 2023-05-11 13:00:49,380]\u001b[0m Trial 94 finished with value: 0.8884339899892604 and parameters: {'n_estimators': 266, 'max_depth': 50, 'criterion': 'gini'}. Best is trial 53 with value: 0.8927968960863698.\u001b[0m\n"
     ]
    },
    {
     "name": "stdout",
     "output_type": "stream",
     "text": [
      "Overall accuracy: 0.889\n",
      "\n"
     ]
    },
    {
     "name": "stderr",
     "output_type": "stream",
     "text": [
      "\u001b[32m[I 2023-05-11 13:00:54,298]\u001b[0m Trial 95 finished with value: 0.8841180793956478 and parameters: {'n_estimators': 241, 'max_depth': 45, 'criterion': 'log_loss'}. Best is trial 53 with value: 0.8927968960863698.\u001b[0m\n"
     ]
    },
    {
     "name": "stdout",
     "output_type": "stream",
     "text": [
      "Overall accuracy: 0.884\n",
      "\n"
     ]
    },
    {
     "name": "stderr",
     "output_type": "stream",
     "text": [
      "\u001b[32m[I 2023-05-11 13:00:59,325]\u001b[0m Trial 96 finished with value: 0.8853045138936804 and parameters: {'n_estimators': 254, 'max_depth': 61, 'criterion': 'entropy'}. Best is trial 53 with value: 0.8927968960863698.\u001b[0m\n"
     ]
    },
    {
     "name": "stdout",
     "output_type": "stream",
     "text": [
      "Overall accuracy: 0.886\n",
      "\n"
     ]
    },
    {
     "name": "stderr",
     "output_type": "stream",
     "text": [
      "\u001b[32m[I 2023-05-11 13:01:04,948]\u001b[0m Trial 97 finished with value: 0.884126056799238 and parameters: {'n_estimators': 279, 'max_depth': 56, 'criterion': 'log_loss'}. Best is trial 53 with value: 0.8927968960863698.\u001b[0m\n"
     ]
    },
    {
     "name": "stdout",
     "output_type": "stream",
     "text": [
      "Overall accuracy: 0.884\n",
      "\n"
     ]
    },
    {
     "name": "stderr",
     "output_type": "stream",
     "text": [
      "\u001b[32m[I 2023-05-11 13:01:09,239]\u001b[0m Trial 98 finished with value: 0.8880896265169089 and parameters: {'n_estimators': 233, 'max_depth': 40, 'criterion': 'gini'}. Best is trial 53 with value: 0.8927968960863698.\u001b[0m\n"
     ]
    },
    {
     "name": "stdout",
     "output_type": "stream",
     "text": [
      "Overall accuracy: 0.888\n",
      "\n"
     ]
    },
    {
     "name": "stderr",
     "output_type": "stream",
     "text": [
      "\u001b[32m[I 2023-05-11 13:01:14,639]\u001b[0m Trial 99 finished with value: 0.8892609120639845 and parameters: {'n_estimators': 271, 'max_depth': 51, 'criterion': 'log_loss'}. Best is trial 53 with value: 0.8927968960863698.\u001b[0m\n"
     ]
    },
    {
     "name": "stdout",
     "output_type": "stream",
     "text": [
      "Overall accuracy: 0.889\n",
      "\n",
      "Best f1 Score: 0.8927968960863698\n",
      "Best Hyperparameters: {'n_estimators': 253, 'max_depth': 53, 'criterion': 'gini'}\n",
      "\n",
      "\n",
      "\n"
     ]
    }
   ],
   "source": [
    "# Define an empty dictionary to store the f1 scores for each feature type\n",
    "f1_scores = {}\n",
    "\n",
    "print(X_data.keys())\n",
    "# Loop through each feature type in the X_data dictionary\n",
    "for feature_type in X_data.keys():\n",
    "    \n",
    "    # Get the selected model for this feature type\n",
    "    model = feature_model_map[feature_type]\n",
    "    \n",
    "    # Print the current model and feature type being trained\n",
    "    print(f\"Feature Type: {feature_type} | Training Model: {model}\")\n",
    "    \n",
    "    # Shuffle the data and apply the data pipeline\n",
    "    X, y = shuffle(X_data[feature_type], train_data.targets, random_state=config_map[\"random_seed\"])\n",
    "    data_pipeline = data_pipelines[feature_type]\n",
    "    X = data_pipeline.fit_transform(X, y)\n",
    "    \n",
    "    # Define the objective function for the Optuna optimization\n",
    "    def objective(trial):\n",
    "        clf = ObjectiveFunctions(model).obj_func(trial)\n",
    "        y_pred = cross_val_predict(clf, X, y, cv=5)\n",
    "        result_values = evaluate_classification(\n",
    "            y_pred, y, class_names=[\"Not Druggable\", \"Druggable\"],\n",
    "            save_outputs=None\n",
    "        )\n",
    "        return result_values[\"f1\"]\n",
    "    \n",
    "    # Create an Optuna study and optimize the objective function\n",
    "    study = optuna.create_study(direction='maximize')\n",
    "    study.optimize(objective, n_trials=100)\n",
    "    \n",
    "    # Print the best hyperparameters and f1 score obtained\n",
    "    print('Best f1 Score: {}'.format(study.best_trial.value))\n",
    "    print(\"Best Hyperparameters: {}\".format(study.best_trial.params))\n",
    "    \n",
    "    # Store the best f1 score in the f1_scores dictionary\n",
    "    f1_scores[feature_type] = study.best_trial.value\n",
    "    \n",
    "    # Save the best hyperparameters, study object, data pipeline object, and trained model\n",
    "    params = study.best_trial.params\n",
    "    model_dir = os.path.join(config_map[\"model_save_location\"], feature_type, model)\n",
    "    os.makedirs(model_dir, exist_ok=True)\n",
    "    \n",
    "    with open(os.path.join(model_dir, \"hyperparams.json\"), \"w\") as f:\n",
    "        json.dump(params, f)\n",
    "\n",
    "    classifier = None  \n",
    "    if model == 'SVC':\n",
    "        classifier = SVC(**params)\n",
    "    elif model == 'RandomForest':\n",
    "        classifier = RandomForestClassifier(**params)\n",
    "    elif model == 'ExtraTreesClassifier':\n",
    "        classifier = ExtraTreesClassifier(**params)\n",
    "        \n",
    "    classifier.fit(X, y)\n",
    "    joblib.dump(classifier, os.path.join(model_dir, \"model.sav\"))\n",
    "    joblib.dump(study, os.path.join(model_dir, \"optuna_study.sav\"))\n",
    "    joblib.dump(data_pipeline, os.path.join(model_dir, \"pipeline.sav\"))\n",
    "    \n",
    "    # Print newlines to separate the outputs for each feature type\n",
    "    print(\"\\n\\n\")\n",
    "\n"
   ]
  }
 ],
 "metadata": {
  "kernelspec": {
   "display_name": "Python 3",
   "language": "python",
   "name": "python3"
  },
  "language_info": {
   "codemirror_mode": {
    "name": "ipython",
    "version": 3
   },
   "file_extension": ".py",
   "mimetype": "text/x-python",
   "name": "python",
   "nbconvert_exporter": "python",
   "pygments_lexer": "ipython3",
   "version": "3.10.2"
  }
 },
 "nbformat": 4,
 "nbformat_minor": 0
}
