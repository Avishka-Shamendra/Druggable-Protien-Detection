{
 "cells": [
  {
   "cell_type": "code",
   "execution_count": 8,
   "metadata": {},
   "outputs": [],
   "source": [
    "import numpy as np\n",
    "import os\n",
    "import json\n",
    "import matplotlib.pyplot as plt\n",
    "import utils.feature_extractors as utils\n",
    "import optuna\n",
    "import joblib\n",
    "\n",
    "from sklearn.pipeline import make_pipeline\n",
    "from sklearn.utils import shuffle\n",
    "from sklearn.preprocessing import StandardScaler\n",
    "from sklearn.model_selection import cross_val_predict\n",
    "from sklearn.ensemble import RandomForestClassifier\n",
    "from utils.utils import evaluate_classification\n",
    "from sklearn.svm import SVC\n",
    "from sklearn.ensemble import ExtraTreesClassifier"
   ]
  },
  {
   "cell_type": "code",
   "execution_count": 9,
   "metadata": {},
   "outputs": [],
   "source": [
    "config_map = {\n",
    "    \"train_postive_location\":\"dataset/TR_pos_SPIDER.txt\",\n",
    "    \"train_negative_location\":\"dataset/TR_neg_SPIDER.txt\",\n",
    "    \"test_positive_location\":\"dataset/TS_pos_SPIDER.txt\",\n",
    "    \"test_negative_location\":\"dataset/TS_neg_SPIDER.txt\",\n",
    "    \"model_save_location\":\"./optimized_models\",\n",
    "    \"random_seed\":9\n",
    "}"
   ]
  },
  {
   "cell_type": "code",
   "execution_count": 10,
   "metadata": {},
   "outputs": [],
   "source": [
    "class ProteinFeatureGenerator:\n",
    "    SELECTED_FEATURES = [\"AAC\", \"DPC\", \"RScharge\", \"RSDHP\", \"RSpolar\"]\n",
    "    \n",
    "    def __init__(self, positive_data_file: str, negative_data_file: str, feature_type: str = None) -> None:\n",
    "        super().__init__()\n",
    "\n",
    "        # Check feature param\n",
    "        assert feature_type in ProteinFeatureGenerator.SELECTED_FEATURES or feature_type is None\n",
    "        self.feature_type = feature_type\n",
    "\n",
    "        # Data manipulation\n",
    "        self.positive_data_file = positive_data_file\n",
    "        self.negative_data_file = negative_data_file\n",
    "\n",
    "        self.positive_data = utils.read_fasta(self.positive_data_file)\n",
    "        self.negative_data = utils.read_fasta(self.negative_data_file)\n",
    "        \n",
    "        self.data = self.positive_data + self.negative_data\n",
    "        self.targets = np.array([True]*len(self.positive_data) + [False]*len(self.negative_data))\n",
    "\n",
    "        self.raw_sequences = [x[1] for x in self.data]\n",
    "        \n",
    "        \n",
    "        # Extract features\n",
    "        print(\"Extracting AAC Feature ...\")\n",
    "        self.AAC_feature = utils.AAC(self.data)[0]\n",
    "\n",
    "        print(\"Extracting DPC Feature ...\")\n",
    "        self.DPC_feature = utils.DPC(self.data, 0)[0]\n",
    "\n",
    "        print(\"Extracting RScharge Feature ...\")\n",
    "        self.RScharge_feature = utils.reducedCHARGE(self.data)\n",
    "        \n",
    "        print(\"Extracting RSDHP Feature ...\")\n",
    "        self.RSDHP_feature = utils.reducedDHP(self.data)\n",
    "        \n",
    "        print(\"Extracting RSpolar Feature ...\")\n",
    "        self.RSpolar_feature = utils.reducedPOLAR(self.data)\n",
    "        \n",
    "    \n",
    "    def __len__(self) -> int:\n",
    "        return len(self.data)"
   ]
  },
  {
   "cell_type": "code",
   "execution_count": 11,
   "metadata": {},
   "outputs": [
    {
     "name": "stdout",
     "output_type": "stream",
     "text": [
      "Extracting AAC Feature ...\n",
      "Extracting DPC Feature ...\n",
      "Extracting RScharge Feature ...\n",
      "Extracting RSDHP Feature ...\n",
      "Extracting RSpolar Feature ...\n"
     ]
    }
   ],
   "source": [
    "test_data = ProteinFeatureGenerator(positive_data_file=config_map[\"test_positive_location\"],negative_data_file=config_map[\"test_negative_location\"])"
   ]
  },
  {
   "cell_type": "code",
   "execution_count": 12,
   "metadata": {},
   "outputs": [],
   "source": [
    "X_data = {\n",
    "    \"AAC\":test_data.AAC_feature,\n",
    "    \"DPC\":test_data.DPC_feature,\n",
    "    \"RScharge\":test_data.RScharge_feature,\n",
    "    \"RSDHP\":test_data.RSDHP_feature,\n",
    "    \"RSpolar\":test_data.RSpolar_feature,\n",
    "}\n",
    "\n",
    "feature_model_map = {\n",
    "    \"AAC\":\"SVC\",\n",
    "    \"DPC\":\"SVC\",\n",
    "    \"RScharge\":\"RandomForest\",\n",
    "    \"RSDHP\":\"SVC\",\n",
    "    \"RSpolar\":\"ExtraTreesClassifier\",\n",
    "}"
   ]
  },
  {
   "cell_type": "code",
   "execution_count": 13,
   "metadata": {},
   "outputs": [
    {
     "name": "stdout",
     "output_type": "stream",
     "text": [
      " Feaature Type :- AAC | Model :- SVC\n",
      "{'accuracy': 0.8850325379609545, 'sensitivity': 0.8214285714285714, 'specificity': 0.9451476793248945, 'precision': 0.8912475003845562, 'f1': 0.8841604202521323}\n",
      "\n",
      "\n",
      "\n",
      " Feaature Type :- DPC | Model :- SVC\n",
      "{'accuracy': 0.8611713665943601, 'sensitivity': 0.7723214285714286, 'specificity': 0.9451476793248945, 'precision': 0.8723264907135875, 'f1': 0.8594512195121953}\n",
      "\n",
      "\n",
      "\n",
      " Feaature Type :- RScharge | Model :- RandomForest\n",
      "{'accuracy': 0.8785249457700651, 'sensitivity': 0.8035714285714286, 'specificity': 0.9493670886075949, 'precision': 0.8869656133828996, 'f1': 0.877356339312861}\n",
      "\n",
      "\n",
      "\n",
      " Feaature Type :- RSDHP | Model :- SVC\n",
      "{'accuracy': 0.8720173535791758, 'sensitivity': 0.8125, 'specificity': 0.9282700421940928, 'precision': 0.8771337604050788, 'f1': 0.8711418108083779}\n",
      "\n",
      "\n",
      "\n",
      " Feaature Type :- RSpolar | Model :- ExtraTreesClassifier\n",
      "{'accuracy': 0.8850325379609545, 'sensitivity': 0.8169642857142857, 'specificity': 0.9493670886075949, 'precision': 0.8921631000578369, 'f1': 0.8840702799907001}\n",
      "\n",
      "\n",
      "\n"
     ]
    }
   ],
   "source": [
    "for feature_type in X_data.keys():\n",
    "    print(f\" Feaature Type :- {feature_type} | Model :- {feature_model_map[feature_type]}\")\n",
    "    \n",
    "    os.makedirs(os.path.join(config_map[\"model_save_location\"],feature_type,feature_model_map[feature_type]),exist_ok=True)\n",
    "    model_dir = os.path.join(config_map[\"model_save_location\"],feature_type,feature_model_map[feature_type])\n",
    "    \n",
    "    pipeline = joblib.load(os.path.join(config_map[\"model_save_location\"],feature_type,feature_model_map[feature_type],\"pipeline.sav\"))\n",
    "    clf = joblib.load(os.path.join(config_map[\"model_save_location\"],feature_type,feature_model_map[feature_type],\"model.sav\"))\n",
    "    \n",
    "    X,y = X_data[feature_type],test_data.targets\n",
    "    X,y = shuffle(X,y,random_state=config_map[\"random_seed\"])\n",
    "    X = pipeline.transform(X)\n",
    "    \n",
    "    y_pred = clf.predict(X)\n",
    "    \n",
    "    result_values = evaluate_classification(y_pred,y,class_names=[\"Not Druggable\",\"Druggable\"],save_outputs=model_dir)\n",
    "    \n",
    "    print(result_values)\n",
    "    print(\"\\n\\n\")"
   ]
  }
 ],
 "metadata": {
  "kernelspec": {
   "display_name": "venv",
   "language": "python",
   "name": "python3"
  },
  "language_info": {
   "codemirror_mode": {
    "name": "ipython",
    "version": 3
   },
   "file_extension": ".py",
   "mimetype": "text/x-python",
   "name": "python",
   "nbconvert_exporter": "python",
   "pygments_lexer": "ipython3",
   "version": "3.10.2"
  },
  "orig_nbformat": 4
 },
 "nbformat": 4,
 "nbformat_minor": 2
}
